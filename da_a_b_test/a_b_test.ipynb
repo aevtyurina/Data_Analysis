{
 "cells": [
  {
   "cell_type": "markdown",
   "id": "dd13d597",
   "metadata": {},
   "source": [
    "# A/B-тестирование"
   ]
  },
  {
   "cell_type": "markdown",
   "id": "1029852f",
   "metadata": {},
   "source": [
    "## Цели исследования\n",
    "\n",
    "В нашем распоряжении датасет с действиями пользователей, техническое задание и несколько вспомогательных датасетов. Необходимо проверить данные на соотвествие с техническим заданием и корректность проведения тестирования, исследовать и оценить результаты тестирования.\n",
    "\n",
    "**Описание данных**\n",
    "\n",
    "`ab_project_marketing_events.csv` — календарь маркетинговых событий на 2020 год:\n",
    "\n",
    "- `name` — название маркетингового события;\n",
    "- `regions` — регионы, в которых будет проводиться рекламная кампания;\n",
    "- `start_dt` — дата начала кампании;\n",
    "- `finish_dt` — дата завершения кампании.\n",
    "\n",
    "`final_ab_new_users.csv` — пользователи, зарегистрировавшиеся с 7 до 21 декабря 2020 года:\n",
    "\n",
    "- `user_id` — идентификатор пользователя;\n",
    "- `first_date` — дата регистрации;\n",
    "- `region` — регион пользователя;\n",
    "- `device` — устройство, с которого происходила регистрация.\n",
    "\n",
    "`final_ab_events.csv` — действия новых пользователей в период с 7 декабря 2020 по 4 января 2021 года:\n",
    "\n",
    "- `user_id` — идентификатор пользователя;\n",
    "- `event_dt` — дата и время события;\n",
    "- `event_name` — тип события;\n",
    "- `details` — дополнительные данные о событии. Например, для покупок, `purchase,` в этом поле хранится стоимость покупки в долларах.\n",
    "\n",
    "`final_ab_participants.csv` — таблица участников тестов:\n",
    "\n",
    "- `user_id` — идентификатор пользователя;\n",
    "- `ab_test` — название теста;\n",
    "- `group` — группа пользователя.\n",
    "\n",
    "**Техническое задание**\n",
    "\n",
    "- Название теста: `recommender_system_test`;\n",
    "- группы: А — контрольная, B — новая платёжная воронка;\n",
    "- дата запуска: 2020-12-07;\n",
    "- дата остановки набора новых пользователей: 2020-12-21;\n",
    "- дата остановки: 2021-01-04;\n",
    "- аудитория: в тест должно быть отобрано 15% новых пользователей из региона EU;\n",
    "- назначение теста: тестирование изменений, связанных с внедрением улучшенной рекомендательной системы;\n",
    "- ожидаемое количество участников теста: 6000.\n",
    "- ожидаемый эффект: за 14 дней с момента регистрации пользователи покажут улучшение каждой метрики не менее, чем на 10%:\n",
    "    - конверсии в просмотр карточек товаров — событие `product_page`,\n",
    "    - просмотры корзины — `product_cart`,\n",
    "    - покупки — `purchase`."
   ]
  },
  {
   "cell_type": "markdown",
   "id": "6d243fd8",
   "metadata": {},
   "source": [
    "## Исследование данных"
   ]
  },
  {
   "cell_type": "code",
   "execution_count": 1,
   "id": "481aa05f",
   "metadata": {},
   "outputs": [],
   "source": [
    "import pandas as pd\n",
    "import matplotlib.pyplot as plt\n",
    "import math as mth\n",
    "import scipy.stats as stats\n",
    "from scipy import stats as st\n",
    "from statsmodels.stats.proportion import proportions_ztest\n",
    "import datetime as dt\n",
    "import numpy as np\n",
    "import seaborn as sns\n",
    "import plotly.express as px\n",
    "from plotly import graph_objects as go"
   ]
  },
  {
   "cell_type": "code",
   "execution_count": 51,
   "id": "ba625aea",
   "metadata": {},
   "outputs": [],
   "source": [
    "import plotly.io as pio"
   ]
  },
  {
   "cell_type": "markdown",
   "id": "4b1fd863",
   "metadata": {},
   "source": [
    "### Знакомство с данными"
   ]
  },
  {
   "cell_type": "markdown",
   "id": "86d927c7",
   "metadata": {},
   "source": [
    "Первым делом необходимо познакомиться с данными таблиц и проверить на соответсвие типы данных в столбцах."
   ]
  },
  {
   "cell_type": "code",
   "execution_count": 2,
   "id": "35028d10",
   "metadata": {},
   "outputs": [],
   "source": [
    "try:\n",
    "    marketing_events = pd.read_csv('ab_project_marketing_events.csv')\n",
    "except:\n",
    "    marketing_events = pd.read_csv('/datasets/ab_project_marketing_events.csv')"
   ]
  },
  {
   "cell_type": "code",
   "execution_count": 3,
   "id": "f3306500",
   "metadata": {},
   "outputs": [
    {
     "data": {
      "text/html": [
       "<div>\n",
       "<style scoped>\n",
       "    .dataframe tbody tr th:only-of-type {\n",
       "        vertical-align: middle;\n",
       "    }\n",
       "\n",
       "    .dataframe tbody tr th {\n",
       "        vertical-align: top;\n",
       "    }\n",
       "\n",
       "    .dataframe thead th {\n",
       "        text-align: right;\n",
       "    }\n",
       "</style>\n",
       "<table border=\"1\" class=\"dataframe\">\n",
       "  <thead>\n",
       "    <tr style=\"text-align: right;\">\n",
       "      <th></th>\n",
       "      <th>name</th>\n",
       "      <th>regions</th>\n",
       "      <th>start_dt</th>\n",
       "      <th>finish_dt</th>\n",
       "    </tr>\n",
       "  </thead>\n",
       "  <tbody>\n",
       "    <tr>\n",
       "      <th>0</th>\n",
       "      <td>Christmas&amp;New Year Promo</td>\n",
       "      <td>EU, N.America</td>\n",
       "      <td>2020-12-25</td>\n",
       "      <td>2021-01-03</td>\n",
       "    </tr>\n",
       "    <tr>\n",
       "      <th>1</th>\n",
       "      <td>St. Valentine's Day Giveaway</td>\n",
       "      <td>EU, CIS, APAC, N.America</td>\n",
       "      <td>2020-02-14</td>\n",
       "      <td>2020-02-16</td>\n",
       "    </tr>\n",
       "    <tr>\n",
       "      <th>2</th>\n",
       "      <td>St. Patric's Day Promo</td>\n",
       "      <td>EU, N.America</td>\n",
       "      <td>2020-03-17</td>\n",
       "      <td>2020-03-19</td>\n",
       "    </tr>\n",
       "    <tr>\n",
       "      <th>3</th>\n",
       "      <td>Easter Promo</td>\n",
       "      <td>EU, CIS, APAC, N.America</td>\n",
       "      <td>2020-04-12</td>\n",
       "      <td>2020-04-19</td>\n",
       "    </tr>\n",
       "    <tr>\n",
       "      <th>4</th>\n",
       "      <td>4th of July Promo</td>\n",
       "      <td>N.America</td>\n",
       "      <td>2020-07-04</td>\n",
       "      <td>2020-07-11</td>\n",
       "    </tr>\n",
       "    <tr>\n",
       "      <th>5</th>\n",
       "      <td>Black Friday Ads Campaign</td>\n",
       "      <td>EU, CIS, APAC, N.America</td>\n",
       "      <td>2020-11-26</td>\n",
       "      <td>2020-12-01</td>\n",
       "    </tr>\n",
       "    <tr>\n",
       "      <th>6</th>\n",
       "      <td>Chinese New Year Promo</td>\n",
       "      <td>APAC</td>\n",
       "      <td>2020-01-25</td>\n",
       "      <td>2020-02-07</td>\n",
       "    </tr>\n",
       "    <tr>\n",
       "      <th>7</th>\n",
       "      <td>Labor day (May 1st) Ads Campaign</td>\n",
       "      <td>EU, CIS, APAC</td>\n",
       "      <td>2020-05-01</td>\n",
       "      <td>2020-05-03</td>\n",
       "    </tr>\n",
       "    <tr>\n",
       "      <th>8</th>\n",
       "      <td>International Women's Day Promo</td>\n",
       "      <td>EU, CIS, APAC</td>\n",
       "      <td>2020-03-08</td>\n",
       "      <td>2020-03-10</td>\n",
       "    </tr>\n",
       "    <tr>\n",
       "      <th>9</th>\n",
       "      <td>Victory Day CIS (May 9th) Event</td>\n",
       "      <td>CIS</td>\n",
       "      <td>2020-05-09</td>\n",
       "      <td>2020-05-11</td>\n",
       "    </tr>\n",
       "    <tr>\n",
       "      <th>10</th>\n",
       "      <td>CIS New Year Gift Lottery</td>\n",
       "      <td>CIS</td>\n",
       "      <td>2020-12-30</td>\n",
       "      <td>2021-01-07</td>\n",
       "    </tr>\n",
       "    <tr>\n",
       "      <th>11</th>\n",
       "      <td>Dragon Boat Festival Giveaway</td>\n",
       "      <td>APAC</td>\n",
       "      <td>2020-06-25</td>\n",
       "      <td>2020-07-01</td>\n",
       "    </tr>\n",
       "    <tr>\n",
       "      <th>12</th>\n",
       "      <td>Single's Day Gift Promo</td>\n",
       "      <td>APAC</td>\n",
       "      <td>2020-11-11</td>\n",
       "      <td>2020-11-12</td>\n",
       "    </tr>\n",
       "    <tr>\n",
       "      <th>13</th>\n",
       "      <td>Chinese Moon Festival</td>\n",
       "      <td>APAC</td>\n",
       "      <td>2020-10-01</td>\n",
       "      <td>2020-10-07</td>\n",
       "    </tr>\n",
       "  </tbody>\n",
       "</table>\n",
       "</div>"
      ],
      "text/plain": [
       "                                name                   regions    start_dt  \\\n",
       "0           Christmas&New Year Promo             EU, N.America  2020-12-25   \n",
       "1       St. Valentine's Day Giveaway  EU, CIS, APAC, N.America  2020-02-14   \n",
       "2             St. Patric's Day Promo             EU, N.America  2020-03-17   \n",
       "3                       Easter Promo  EU, CIS, APAC, N.America  2020-04-12   \n",
       "4                  4th of July Promo                 N.America  2020-07-04   \n",
       "5          Black Friday Ads Campaign  EU, CIS, APAC, N.America  2020-11-26   \n",
       "6             Chinese New Year Promo                      APAC  2020-01-25   \n",
       "7   Labor day (May 1st) Ads Campaign             EU, CIS, APAC  2020-05-01   \n",
       "8    International Women's Day Promo             EU, CIS, APAC  2020-03-08   \n",
       "9    Victory Day CIS (May 9th) Event                       CIS  2020-05-09   \n",
       "10         CIS New Year Gift Lottery                       CIS  2020-12-30   \n",
       "11     Dragon Boat Festival Giveaway                      APAC  2020-06-25   \n",
       "12           Single's Day Gift Promo                      APAC  2020-11-11   \n",
       "13             Chinese Moon Festival                      APAC  2020-10-01   \n",
       "\n",
       "     finish_dt  \n",
       "0   2021-01-03  \n",
       "1   2020-02-16  \n",
       "2   2020-03-19  \n",
       "3   2020-04-19  \n",
       "4   2020-07-11  \n",
       "5   2020-12-01  \n",
       "6   2020-02-07  \n",
       "7   2020-05-03  \n",
       "8   2020-03-10  \n",
       "9   2020-05-11  \n",
       "10  2021-01-07  \n",
       "11  2020-07-01  \n",
       "12  2020-11-12  \n",
       "13  2020-10-07  "
      ]
     },
     "execution_count": 3,
     "metadata": {},
     "output_type": "execute_result"
    }
   ],
   "source": [
    "marketing_events"
   ]
  },
  {
   "cell_type": "code",
   "execution_count": 4,
   "id": "ed33d619",
   "metadata": {},
   "outputs": [
    {
     "name": "stdout",
     "output_type": "stream",
     "text": [
      "<class 'pandas.core.frame.DataFrame'>\n",
      "RangeIndex: 14 entries, 0 to 13\n",
      "Data columns (total 4 columns):\n",
      " #   Column     Non-Null Count  Dtype \n",
      "---  ------     --------------  ----- \n",
      " 0   name       14 non-null     object\n",
      " 1   regions    14 non-null     object\n",
      " 2   start_dt   14 non-null     object\n",
      " 3   finish_dt  14 non-null     object\n",
      "dtypes: object(4)\n",
      "memory usage: 576.0+ bytes\n"
     ]
    }
   ],
   "source": [
    "marketing_events.info()"
   ]
  },
  {
   "cell_type": "markdown",
   "id": "11565a2f",
   "metadata": {},
   "source": [
    "В нашем распоряжении данные о 14 маркетинговых событиях. Данных немного, сразу можно заметить отсутсвие пропусков и дубликатов. В столбцах с датами необходимо скорректировать тип данных."
   ]
  },
  {
   "cell_type": "code",
   "execution_count": 5,
   "id": "f365a5c4",
   "metadata": {},
   "outputs": [],
   "source": [
    "try:\n",
    "    new_users = pd.read_csv('final_ab_new_users.csv')\n",
    "except:\n",
    "    new_users = pd.read_csv('/datasets/final_ab_new_users.csv')"
   ]
  },
  {
   "cell_type": "code",
   "execution_count": 6,
   "id": "4b8a7c86",
   "metadata": {},
   "outputs": [
    {
     "data": {
      "text/html": [
       "<div>\n",
       "<style scoped>\n",
       "    .dataframe tbody tr th:only-of-type {\n",
       "        vertical-align: middle;\n",
       "    }\n",
       "\n",
       "    .dataframe tbody tr th {\n",
       "        vertical-align: top;\n",
       "    }\n",
       "\n",
       "    .dataframe thead th {\n",
       "        text-align: right;\n",
       "    }\n",
       "</style>\n",
       "<table border=\"1\" class=\"dataframe\">\n",
       "  <thead>\n",
       "    <tr style=\"text-align: right;\">\n",
       "      <th></th>\n",
       "      <th>user_id</th>\n",
       "      <th>first_date</th>\n",
       "      <th>region</th>\n",
       "      <th>device</th>\n",
       "    </tr>\n",
       "  </thead>\n",
       "  <tbody>\n",
       "    <tr>\n",
       "      <th>0</th>\n",
       "      <td>D72A72121175D8BE</td>\n",
       "      <td>2020-12-07</td>\n",
       "      <td>EU</td>\n",
       "      <td>PC</td>\n",
       "    </tr>\n",
       "    <tr>\n",
       "      <th>1</th>\n",
       "      <td>F1C668619DFE6E65</td>\n",
       "      <td>2020-12-07</td>\n",
       "      <td>N.America</td>\n",
       "      <td>Android</td>\n",
       "    </tr>\n",
       "    <tr>\n",
       "      <th>2</th>\n",
       "      <td>2E1BF1D4C37EA01F</td>\n",
       "      <td>2020-12-07</td>\n",
       "      <td>EU</td>\n",
       "      <td>PC</td>\n",
       "    </tr>\n",
       "    <tr>\n",
       "      <th>3</th>\n",
       "      <td>50734A22C0C63768</td>\n",
       "      <td>2020-12-07</td>\n",
       "      <td>EU</td>\n",
       "      <td>iPhone</td>\n",
       "    </tr>\n",
       "    <tr>\n",
       "      <th>4</th>\n",
       "      <td>E1BDDCE0DAFA2679</td>\n",
       "      <td>2020-12-07</td>\n",
       "      <td>N.America</td>\n",
       "      <td>iPhone</td>\n",
       "    </tr>\n",
       "    <tr>\n",
       "      <th>...</th>\n",
       "      <td>...</td>\n",
       "      <td>...</td>\n",
       "      <td>...</td>\n",
       "      <td>...</td>\n",
       "    </tr>\n",
       "    <tr>\n",
       "      <th>61728</th>\n",
       "      <td>1DB53B933257165D</td>\n",
       "      <td>2020-12-20</td>\n",
       "      <td>EU</td>\n",
       "      <td>Android</td>\n",
       "    </tr>\n",
       "    <tr>\n",
       "      <th>61729</th>\n",
       "      <td>538643EB4527ED03</td>\n",
       "      <td>2020-12-20</td>\n",
       "      <td>EU</td>\n",
       "      <td>Mac</td>\n",
       "    </tr>\n",
       "    <tr>\n",
       "      <th>61730</th>\n",
       "      <td>7ADEE837D5D8CBBD</td>\n",
       "      <td>2020-12-20</td>\n",
       "      <td>EU</td>\n",
       "      <td>PC</td>\n",
       "    </tr>\n",
       "    <tr>\n",
       "      <th>61731</th>\n",
       "      <td>1C7D23927835213F</td>\n",
       "      <td>2020-12-20</td>\n",
       "      <td>EU</td>\n",
       "      <td>iPhone</td>\n",
       "    </tr>\n",
       "    <tr>\n",
       "      <th>61732</th>\n",
       "      <td>8F04273BB2860229</td>\n",
       "      <td>2020-12-20</td>\n",
       "      <td>EU</td>\n",
       "      <td>Android</td>\n",
       "    </tr>\n",
       "  </tbody>\n",
       "</table>\n",
       "<p>61733 rows × 4 columns</p>\n",
       "</div>"
      ],
      "text/plain": [
       "                user_id  first_date     region   device\n",
       "0      D72A72121175D8BE  2020-12-07         EU       PC\n",
       "1      F1C668619DFE6E65  2020-12-07  N.America  Android\n",
       "2      2E1BF1D4C37EA01F  2020-12-07         EU       PC\n",
       "3      50734A22C0C63768  2020-12-07         EU   iPhone\n",
       "4      E1BDDCE0DAFA2679  2020-12-07  N.America   iPhone\n",
       "...                 ...         ...        ...      ...\n",
       "61728  1DB53B933257165D  2020-12-20         EU  Android\n",
       "61729  538643EB4527ED03  2020-12-20         EU      Mac\n",
       "61730  7ADEE837D5D8CBBD  2020-12-20         EU       PC\n",
       "61731  1C7D23927835213F  2020-12-20         EU   iPhone\n",
       "61732  8F04273BB2860229  2020-12-20         EU  Android\n",
       "\n",
       "[61733 rows x 4 columns]"
      ]
     },
     "execution_count": 6,
     "metadata": {},
     "output_type": "execute_result"
    }
   ],
   "source": [
    "new_users"
   ]
  },
  {
   "cell_type": "code",
   "execution_count": 7,
   "id": "f306bcc2",
   "metadata": {},
   "outputs": [
    {
     "name": "stdout",
     "output_type": "stream",
     "text": [
      "<class 'pandas.core.frame.DataFrame'>\n",
      "RangeIndex: 61733 entries, 0 to 61732\n",
      "Data columns (total 4 columns):\n",
      " #   Column      Non-Null Count  Dtype \n",
      "---  ------      --------------  ----- \n",
      " 0   user_id     61733 non-null  object\n",
      " 1   first_date  61733 non-null  object\n",
      " 2   region      61733 non-null  object\n",
      " 3   device      61733 non-null  object\n",
      "dtypes: object(4)\n",
      "memory usage: 1.9+ MB\n"
     ]
    }
   ],
   "source": [
    "new_users.info()"
   ]
  },
  {
   "cell_type": "markdown",
   "id": "8c7bec36",
   "metadata": {},
   "source": [
    "Перед нами таблица с данными о новых пользователях в тестируемом периоде - всего их получается 61733 человека (возможны дубликаты). Пропусков в данных не обнаружено. У столбца с датой снова несоответсвие в типе данных."
   ]
  },
  {
   "cell_type": "code",
   "execution_count": 8,
   "id": "b9ce5810",
   "metadata": {},
   "outputs": [],
   "source": [
    "try:\n",
    "    events = pd.read_csv('final_ab_events.csv')\n",
    "except:\n",
    "    events = pd.read_csv('/datasets/final_ab_events.csv')"
   ]
  },
  {
   "cell_type": "code",
   "execution_count": 9,
   "id": "07ccb6f7",
   "metadata": {},
   "outputs": [
    {
     "data": {
      "text/html": [
       "<div>\n",
       "<style scoped>\n",
       "    .dataframe tbody tr th:only-of-type {\n",
       "        vertical-align: middle;\n",
       "    }\n",
       "\n",
       "    .dataframe tbody tr th {\n",
       "        vertical-align: top;\n",
       "    }\n",
       "\n",
       "    .dataframe thead th {\n",
       "        text-align: right;\n",
       "    }\n",
       "</style>\n",
       "<table border=\"1\" class=\"dataframe\">\n",
       "  <thead>\n",
       "    <tr style=\"text-align: right;\">\n",
       "      <th></th>\n",
       "      <th>user_id</th>\n",
       "      <th>event_dt</th>\n",
       "      <th>event_name</th>\n",
       "      <th>details</th>\n",
       "    </tr>\n",
       "  </thead>\n",
       "  <tbody>\n",
       "    <tr>\n",
       "      <th>0</th>\n",
       "      <td>E1BDDCE0DAFA2679</td>\n",
       "      <td>2020-12-07 20:22:03</td>\n",
       "      <td>purchase</td>\n",
       "      <td>99.99</td>\n",
       "    </tr>\n",
       "    <tr>\n",
       "      <th>1</th>\n",
       "      <td>7B6452F081F49504</td>\n",
       "      <td>2020-12-07 09:22:53</td>\n",
       "      <td>purchase</td>\n",
       "      <td>9.99</td>\n",
       "    </tr>\n",
       "    <tr>\n",
       "      <th>2</th>\n",
       "      <td>9CD9F34546DF254C</td>\n",
       "      <td>2020-12-07 12:59:29</td>\n",
       "      <td>purchase</td>\n",
       "      <td>4.99</td>\n",
       "    </tr>\n",
       "    <tr>\n",
       "      <th>3</th>\n",
       "      <td>96F27A054B191457</td>\n",
       "      <td>2020-12-07 04:02:40</td>\n",
       "      <td>purchase</td>\n",
       "      <td>4.99</td>\n",
       "    </tr>\n",
       "    <tr>\n",
       "      <th>4</th>\n",
       "      <td>1FD7660FDF94CA1F</td>\n",
       "      <td>2020-12-07 10:15:09</td>\n",
       "      <td>purchase</td>\n",
       "      <td>4.99</td>\n",
       "    </tr>\n",
       "    <tr>\n",
       "      <th>...</th>\n",
       "      <td>...</td>\n",
       "      <td>...</td>\n",
       "      <td>...</td>\n",
       "      <td>...</td>\n",
       "    </tr>\n",
       "    <tr>\n",
       "      <th>440312</th>\n",
       "      <td>245E85F65C358E08</td>\n",
       "      <td>2020-12-30 19:35:55</td>\n",
       "      <td>login</td>\n",
       "      <td>NaN</td>\n",
       "    </tr>\n",
       "    <tr>\n",
       "      <th>440313</th>\n",
       "      <td>9385A108F5A0A7A7</td>\n",
       "      <td>2020-12-30 10:54:15</td>\n",
       "      <td>login</td>\n",
       "      <td>NaN</td>\n",
       "    </tr>\n",
       "    <tr>\n",
       "      <th>440314</th>\n",
       "      <td>DB650B7559AC6EAC</td>\n",
       "      <td>2020-12-30 10:59:09</td>\n",
       "      <td>login</td>\n",
       "      <td>NaN</td>\n",
       "    </tr>\n",
       "    <tr>\n",
       "      <th>440315</th>\n",
       "      <td>F80C9BDDEA02E53C</td>\n",
       "      <td>2020-12-30 09:53:39</td>\n",
       "      <td>login</td>\n",
       "      <td>NaN</td>\n",
       "    </tr>\n",
       "    <tr>\n",
       "      <th>440316</th>\n",
       "      <td>7AEC61159B672CC5</td>\n",
       "      <td>2020-12-30 11:36:13</td>\n",
       "      <td>login</td>\n",
       "      <td>NaN</td>\n",
       "    </tr>\n",
       "  </tbody>\n",
       "</table>\n",
       "<p>440317 rows × 4 columns</p>\n",
       "</div>"
      ],
      "text/plain": [
       "                 user_id             event_dt event_name  details\n",
       "0       E1BDDCE0DAFA2679  2020-12-07 20:22:03   purchase    99.99\n",
       "1       7B6452F081F49504  2020-12-07 09:22:53   purchase     9.99\n",
       "2       9CD9F34546DF254C  2020-12-07 12:59:29   purchase     4.99\n",
       "3       96F27A054B191457  2020-12-07 04:02:40   purchase     4.99\n",
       "4       1FD7660FDF94CA1F  2020-12-07 10:15:09   purchase     4.99\n",
       "...                  ...                  ...        ...      ...\n",
       "440312  245E85F65C358E08  2020-12-30 19:35:55      login      NaN\n",
       "440313  9385A108F5A0A7A7  2020-12-30 10:54:15      login      NaN\n",
       "440314  DB650B7559AC6EAC  2020-12-30 10:59:09      login      NaN\n",
       "440315  F80C9BDDEA02E53C  2020-12-30 09:53:39      login      NaN\n",
       "440316  7AEC61159B672CC5  2020-12-30 11:36:13      login      NaN\n",
       "\n",
       "[440317 rows x 4 columns]"
      ]
     },
     "execution_count": 9,
     "metadata": {},
     "output_type": "execute_result"
    }
   ],
   "source": [
    "events"
   ]
  },
  {
   "cell_type": "code",
   "execution_count": 10,
   "id": "8cabbd94",
   "metadata": {},
   "outputs": [
    {
     "name": "stdout",
     "output_type": "stream",
     "text": [
      "<class 'pandas.core.frame.DataFrame'>\n",
      "RangeIndex: 440317 entries, 0 to 440316\n",
      "Data columns (total 4 columns):\n",
      " #   Column      Non-Null Count   Dtype  \n",
      "---  ------      --------------   -----  \n",
      " 0   user_id     440317 non-null  object \n",
      " 1   event_dt    440317 non-null  object \n",
      " 2   event_name  440317 non-null  object \n",
      " 3   details     62740 non-null   float64\n",
      "dtypes: float64(1), object(3)\n",
      "memory usage: 13.4+ MB\n"
     ]
    }
   ],
   "source": [
    "events.info()"
   ]
  },
  {
   "cell_type": "markdown",
   "id": "3cabea7f",
   "metadata": {},
   "source": [
    "В таблице с событиями (действиями) пользователей содержится 440317 записей, т.е. примерно по 7 событий на человека. В столбце с деталями по событиям очень много пропусков, однако эти данные не влияют на исследование. Столбец с датой необходимо привести к корректному типу."
   ]
  },
  {
   "cell_type": "code",
   "execution_count": 11,
   "id": "a3bd7e02",
   "metadata": {},
   "outputs": [],
   "source": [
    "try:\n",
    "    ab_participants = pd.read_csv('final_ab_participants.csv')\n",
    "except:\n",
    "    ab_participants = pd.read_csv('/datasets/final_ab_participants.csv')"
   ]
  },
  {
   "cell_type": "code",
   "execution_count": 12,
   "id": "591320db",
   "metadata": {},
   "outputs": [
    {
     "data": {
      "text/html": [
       "<div>\n",
       "<style scoped>\n",
       "    .dataframe tbody tr th:only-of-type {\n",
       "        vertical-align: middle;\n",
       "    }\n",
       "\n",
       "    .dataframe tbody tr th {\n",
       "        vertical-align: top;\n",
       "    }\n",
       "\n",
       "    .dataframe thead th {\n",
       "        text-align: right;\n",
       "    }\n",
       "</style>\n",
       "<table border=\"1\" class=\"dataframe\">\n",
       "  <thead>\n",
       "    <tr style=\"text-align: right;\">\n",
       "      <th></th>\n",
       "      <th>user_id</th>\n",
       "      <th>group</th>\n",
       "      <th>ab_test</th>\n",
       "    </tr>\n",
       "  </thead>\n",
       "  <tbody>\n",
       "    <tr>\n",
       "      <th>0</th>\n",
       "      <td>D1ABA3E2887B6A73</td>\n",
       "      <td>A</td>\n",
       "      <td>recommender_system_test</td>\n",
       "    </tr>\n",
       "    <tr>\n",
       "      <th>1</th>\n",
       "      <td>A7A3664BD6242119</td>\n",
       "      <td>A</td>\n",
       "      <td>recommender_system_test</td>\n",
       "    </tr>\n",
       "    <tr>\n",
       "      <th>2</th>\n",
       "      <td>DABC14FDDFADD29E</td>\n",
       "      <td>A</td>\n",
       "      <td>recommender_system_test</td>\n",
       "    </tr>\n",
       "    <tr>\n",
       "      <th>3</th>\n",
       "      <td>04988C5DF189632E</td>\n",
       "      <td>A</td>\n",
       "      <td>recommender_system_test</td>\n",
       "    </tr>\n",
       "    <tr>\n",
       "      <th>4</th>\n",
       "      <td>482F14783456D21B</td>\n",
       "      <td>B</td>\n",
       "      <td>recommender_system_test</td>\n",
       "    </tr>\n",
       "    <tr>\n",
       "      <th>...</th>\n",
       "      <td>...</td>\n",
       "      <td>...</td>\n",
       "      <td>...</td>\n",
       "    </tr>\n",
       "    <tr>\n",
       "      <th>18263</th>\n",
       "      <td>1D302F8688B91781</td>\n",
       "      <td>B</td>\n",
       "      <td>interface_eu_test</td>\n",
       "    </tr>\n",
       "    <tr>\n",
       "      <th>18264</th>\n",
       "      <td>3DE51B726983B657</td>\n",
       "      <td>A</td>\n",
       "      <td>interface_eu_test</td>\n",
       "    </tr>\n",
       "    <tr>\n",
       "      <th>18265</th>\n",
       "      <td>F501F79D332BE86C</td>\n",
       "      <td>A</td>\n",
       "      <td>interface_eu_test</td>\n",
       "    </tr>\n",
       "    <tr>\n",
       "      <th>18266</th>\n",
       "      <td>63FBE257B05F2245</td>\n",
       "      <td>A</td>\n",
       "      <td>interface_eu_test</td>\n",
       "    </tr>\n",
       "    <tr>\n",
       "      <th>18267</th>\n",
       "      <td>79F9ABFB029CF724</td>\n",
       "      <td>B</td>\n",
       "      <td>interface_eu_test</td>\n",
       "    </tr>\n",
       "  </tbody>\n",
       "</table>\n",
       "<p>18268 rows × 3 columns</p>\n",
       "</div>"
      ],
      "text/plain": [
       "                user_id group                  ab_test\n",
       "0      D1ABA3E2887B6A73     A  recommender_system_test\n",
       "1      A7A3664BD6242119     A  recommender_system_test\n",
       "2      DABC14FDDFADD29E     A  recommender_system_test\n",
       "3      04988C5DF189632E     A  recommender_system_test\n",
       "4      482F14783456D21B     B  recommender_system_test\n",
       "...                 ...   ...                      ...\n",
       "18263  1D302F8688B91781     B        interface_eu_test\n",
       "18264  3DE51B726983B657     A        interface_eu_test\n",
       "18265  F501F79D332BE86C     A        interface_eu_test\n",
       "18266  63FBE257B05F2245     A        interface_eu_test\n",
       "18267  79F9ABFB029CF724     B        interface_eu_test\n",
       "\n",
       "[18268 rows x 3 columns]"
      ]
     },
     "execution_count": 12,
     "metadata": {},
     "output_type": "execute_result"
    }
   ],
   "source": [
    "ab_participants"
   ]
  },
  {
   "cell_type": "code",
   "execution_count": 13,
   "id": "9937a534",
   "metadata": {},
   "outputs": [
    {
     "name": "stdout",
     "output_type": "stream",
     "text": [
      "<class 'pandas.core.frame.DataFrame'>\n",
      "RangeIndex: 18268 entries, 0 to 18267\n",
      "Data columns (total 3 columns):\n",
      " #   Column   Non-Null Count  Dtype \n",
      "---  ------   --------------  ----- \n",
      " 0   user_id  18268 non-null  object\n",
      " 1   group    18268 non-null  object\n",
      " 2   ab_test  18268 non-null  object\n",
      "dtypes: object(3)\n",
      "memory usage: 428.3+ KB\n"
     ]
    }
   ],
   "source": [
    "ab_participants.info()"
   ]
  },
  {
   "cell_type": "markdown",
   "id": "f0953f6e",
   "metadata": {},
   "source": [
    "И последняя таблица содержит данные о распределении пользователей по тестам и группам внутри тестов. Пропусков в данных нет. Все типы в столбцах соответсвуют данным."
   ]
  },
  {
   "cell_type": "markdown",
   "id": "6a48844d",
   "metadata": {},
   "source": [
    "### Предобработка данных"
   ]
  },
  {
   "cell_type": "markdown",
   "id": "0fce9e52",
   "metadata": {},
   "source": [
    "После знакомства с данными мы выявили рассхождение в типе данных в столбцах с датами. Также необходимо проверить наличие дубликатов в последних трех таблицах."
   ]
  },
  {
   "cell_type": "code",
   "execution_count": 14,
   "id": "c75a52d4",
   "metadata": {},
   "outputs": [],
   "source": [
    "# меняем тип данных на дату\n",
    "marketing_events['start_dt'] = pd.to_datetime(marketing_events['start_dt'])\n",
    "marketing_events['finish_dt'] = pd.to_datetime(marketing_events['finish_dt'])\n",
    "\n",
    "new_users['first_date'] = pd.to_datetime(new_users['first_date'])\n",
    "\n",
    "events['event_dt'] = pd.to_datetime(events['event_dt'])"
   ]
  },
  {
   "cell_type": "code",
   "execution_count": 15,
   "id": "3c760db7",
   "metadata": {},
   "outputs": [
    {
     "name": "stdout",
     "output_type": "stream",
     "text": [
      "В таблице с пользователями 0 дубликатов.\n",
      "В таблице с событиями 0 дубликатов.\n",
      "В таблице с участниками тестирования 0 дубликатов.\n"
     ]
    }
   ],
   "source": [
    "# проверим наличие явных дубликатов в таблицах\n",
    "print('В таблице с пользователями', new_users.duplicated().sum(), 'дубликатов.')\n",
    "print('В таблице с событиями', events.duplicated().sum(), 'дубликатов.')\n",
    "print('В таблице с участниками тестирования', ab_participants.duplicated().sum(), 'дубликатов.')"
   ]
  },
  {
   "cell_type": "markdown",
   "id": "30fe13d0",
   "metadata": {},
   "source": [
    "Типы столбцов приведены в порядок. Явных дубликатов в данных нет.\n",
    "\n",
    "Проверим, могут ли повторяться id новых пользователей, если они используют разные девайсы для входа, или каждое устройство подразумевает уникального пользователя."
   ]
  },
  {
   "cell_type": "code",
   "execution_count": 16,
   "id": "5e30645b",
   "metadata": {},
   "outputs": [
    {
     "data": {
      "text/plain": [
       "61733"
      ]
     },
     "execution_count": 16,
     "metadata": {},
     "output_type": "execute_result"
    }
   ],
   "source": [
    "new_users['user_id'].nunique()"
   ]
  },
  {
   "cell_type": "markdown",
   "id": "cadb503d",
   "metadata": {},
   "source": [
    "Число уникальных id  совпадает с числом строк в таблице, значит все пользователи таблицы уникальны.\n",
    "\n",
    "Изучим пропуски в данных. Единственная таблица с пропусками - данные о действиях пользователей. Посмотрим у каких событий есть детали и подумаем нужно ли как-то обработать пропуски."
   ]
  },
  {
   "cell_type": "code",
   "execution_count": 17,
   "id": "0faf6396",
   "metadata": {},
   "outputs": [
    {
     "data": {
      "text/html": [
       "<div>\n",
       "<style scoped>\n",
       "    .dataframe tbody tr th:only-of-type {\n",
       "        vertical-align: middle;\n",
       "    }\n",
       "\n",
       "    .dataframe tbody tr th {\n",
       "        vertical-align: top;\n",
       "    }\n",
       "\n",
       "    .dataframe thead th {\n",
       "        text-align: right;\n",
       "    }\n",
       "</style>\n",
       "<table border=\"1\" class=\"dataframe\">\n",
       "  <thead>\n",
       "    <tr style=\"text-align: right;\">\n",
       "      <th></th>\n",
       "      <th>details</th>\n",
       "    </tr>\n",
       "    <tr>\n",
       "      <th>event_name</th>\n",
       "      <th></th>\n",
       "    </tr>\n",
       "  </thead>\n",
       "  <tbody>\n",
       "    <tr>\n",
       "      <th>login</th>\n",
       "      <td>0</td>\n",
       "    </tr>\n",
       "    <tr>\n",
       "      <th>product_cart</th>\n",
       "      <td>0</td>\n",
       "    </tr>\n",
       "    <tr>\n",
       "      <th>product_page</th>\n",
       "      <td>0</td>\n",
       "    </tr>\n",
       "    <tr>\n",
       "      <th>purchase</th>\n",
       "      <td>62740</td>\n",
       "    </tr>\n",
       "  </tbody>\n",
       "</table>\n",
       "</div>"
      ],
      "text/plain": [
       "              details\n",
       "event_name           \n",
       "login               0\n",
       "product_cart        0\n",
       "product_page        0\n",
       "purchase        62740"
      ]
     },
     "execution_count": 17,
     "metadata": {},
     "output_type": "execute_result"
    }
   ],
   "source": [
    "events.groupby('event_name').agg({'details': 'count'})"
   ]
  },
  {
   "cell_type": "code",
   "execution_count": 18,
   "id": "820211ac",
   "metadata": {},
   "outputs": [
    {
     "data": {
      "text/html": [
       "<div>\n",
       "<style scoped>\n",
       "    .dataframe tbody tr th:only-of-type {\n",
       "        vertical-align: middle;\n",
       "    }\n",
       "\n",
       "    .dataframe tbody tr th {\n",
       "        vertical-align: top;\n",
       "    }\n",
       "\n",
       "    .dataframe thead th {\n",
       "        text-align: right;\n",
       "    }\n",
       "</style>\n",
       "<table border=\"1\" class=\"dataframe\">\n",
       "  <thead>\n",
       "    <tr style=\"text-align: right;\">\n",
       "      <th></th>\n",
       "      <th>user_id</th>\n",
       "      <th>event_dt</th>\n",
       "      <th>event_name</th>\n",
       "      <th>details</th>\n",
       "    </tr>\n",
       "  </thead>\n",
       "  <tbody>\n",
       "  </tbody>\n",
       "</table>\n",
       "</div>"
      ],
      "text/plain": [
       "Empty DataFrame\n",
       "Columns: [user_id, event_dt, event_name, details]\n",
       "Index: []"
      ]
     },
     "execution_count": 18,
     "metadata": {},
     "output_type": "execute_result"
    }
   ],
   "source": [
    "events.query('event_name == \"purchase\" & details.isna()')"
   ]
  },
  {
   "cell_type": "markdown",
   "id": "332a8317",
   "metadata": {},
   "source": [
    "Получается, что дополнительная информация есть только по действию покупка, причем для всех. Следовательно, какой-либо обработки данный столбец не требует."
   ]
  },
  {
   "cell_type": "markdown",
   "id": "09e2c9de",
   "metadata": {},
   "source": [
    "## Проверка корректности тестирования"
   ]
  },
  {
   "cell_type": "markdown",
   "id": "4a10ac05",
   "metadata": {},
   "source": [
    "Чтобы убедиться, что АБ тест корректно отработал, необходимо:\n",
    " - сверить соответсвие техническим требованиям\n",
    " - удостовериться, что время проведения тестирования не пересекается с маркетинговыми событиями (обычно такие события повышают спрос на покупки, что может исказить результаты теста)\n",
    " - проверить, что каждый участник тестирования относится только к одному тестированию и только к одной группе внутри тестирования"
   ]
  },
  {
   "cell_type": "markdown",
   "id": "dde9f64c",
   "metadata": {},
   "source": [
    "Первый пункт технического требования - это название тестирование. Проверим, что данные о `recommender_system_test` занесены в нашу таблицу."
   ]
  },
  {
   "cell_type": "code",
   "execution_count": 19,
   "id": "8315a84b",
   "metadata": {},
   "outputs": [
    {
     "data": {
      "text/html": [
       "<div>\n",
       "<style scoped>\n",
       "    .dataframe tbody tr th:only-of-type {\n",
       "        vertical-align: middle;\n",
       "    }\n",
       "\n",
       "    .dataframe tbody tr th {\n",
       "        vertical-align: top;\n",
       "    }\n",
       "\n",
       "    .dataframe thead th {\n",
       "        text-align: right;\n",
       "    }\n",
       "</style>\n",
       "<table border=\"1\" class=\"dataframe\">\n",
       "  <thead>\n",
       "    <tr style=\"text-align: right;\">\n",
       "      <th></th>\n",
       "      <th>user_id</th>\n",
       "      <th>group</th>\n",
       "      <th>ab_test</th>\n",
       "    </tr>\n",
       "  </thead>\n",
       "  <tbody>\n",
       "    <tr>\n",
       "      <th>0</th>\n",
       "      <td>D1ABA3E2887B6A73</td>\n",
       "      <td>A</td>\n",
       "      <td>recommender_system_test</td>\n",
       "    </tr>\n",
       "    <tr>\n",
       "      <th>1</th>\n",
       "      <td>A7A3664BD6242119</td>\n",
       "      <td>A</td>\n",
       "      <td>recommender_system_test</td>\n",
       "    </tr>\n",
       "    <tr>\n",
       "      <th>2</th>\n",
       "      <td>DABC14FDDFADD29E</td>\n",
       "      <td>A</td>\n",
       "      <td>recommender_system_test</td>\n",
       "    </tr>\n",
       "    <tr>\n",
       "      <th>3</th>\n",
       "      <td>04988C5DF189632E</td>\n",
       "      <td>A</td>\n",
       "      <td>recommender_system_test</td>\n",
       "    </tr>\n",
       "    <tr>\n",
       "      <th>4</th>\n",
       "      <td>482F14783456D21B</td>\n",
       "      <td>B</td>\n",
       "      <td>recommender_system_test</td>\n",
       "    </tr>\n",
       "    <tr>\n",
       "      <th>...</th>\n",
       "      <td>...</td>\n",
       "      <td>...</td>\n",
       "      <td>...</td>\n",
       "    </tr>\n",
       "    <tr>\n",
       "      <th>6696</th>\n",
       "      <td>053FB26D6D49EDDC</td>\n",
       "      <td>A</td>\n",
       "      <td>recommender_system_test</td>\n",
       "    </tr>\n",
       "    <tr>\n",
       "      <th>6697</th>\n",
       "      <td>9D263B8EF15CF188</td>\n",
       "      <td>B</td>\n",
       "      <td>recommender_system_test</td>\n",
       "    </tr>\n",
       "    <tr>\n",
       "      <th>6698</th>\n",
       "      <td>F2FBBA33F37DEC46</td>\n",
       "      <td>A</td>\n",
       "      <td>recommender_system_test</td>\n",
       "    </tr>\n",
       "    <tr>\n",
       "      <th>6699</th>\n",
       "      <td>29C92313A98B1176</td>\n",
       "      <td>B</td>\n",
       "      <td>recommender_system_test</td>\n",
       "    </tr>\n",
       "    <tr>\n",
       "      <th>6700</th>\n",
       "      <td>6715343AFBA285AE</td>\n",
       "      <td>B</td>\n",
       "      <td>recommender_system_test</td>\n",
       "    </tr>\n",
       "  </tbody>\n",
       "</table>\n",
       "<p>6701 rows × 3 columns</p>\n",
       "</div>"
      ],
      "text/plain": [
       "               user_id group                  ab_test\n",
       "0     D1ABA3E2887B6A73     A  recommender_system_test\n",
       "1     A7A3664BD6242119     A  recommender_system_test\n",
       "2     DABC14FDDFADD29E     A  recommender_system_test\n",
       "3     04988C5DF189632E     A  recommender_system_test\n",
       "4     482F14783456D21B     B  recommender_system_test\n",
       "...                ...   ...                      ...\n",
       "6696  053FB26D6D49EDDC     A  recommender_system_test\n",
       "6697  9D263B8EF15CF188     B  recommender_system_test\n",
       "6698  F2FBBA33F37DEC46     A  recommender_system_test\n",
       "6699  29C92313A98B1176     B  recommender_system_test\n",
       "6700  6715343AFBA285AE     B  recommender_system_test\n",
       "\n",
       "[6701 rows x 3 columns]"
      ]
     },
     "execution_count": 19,
     "metadata": {},
     "output_type": "execute_result"
    }
   ],
   "source": [
    "test = ab_participants.query('ab_test == \"recommender_system_test\"')\n",
    "test"
   ]
  },
  {
   "cell_type": "markdown",
   "id": "8d3faa5d",
   "metadata": {},
   "source": [
    "Данные о нашем тесте имеются - целых 6701 запись. Убедимся, что все пользователи в тестировании - новые."
   ]
  },
  {
   "cell_type": "code",
   "execution_count": 20,
   "id": "df6ab548",
   "metadata": {},
   "outputs": [
    {
     "data": {
      "text/html": [
       "<div>\n",
       "<style scoped>\n",
       "    .dataframe tbody tr th:only-of-type {\n",
       "        vertical-align: middle;\n",
       "    }\n",
       "\n",
       "    .dataframe tbody tr th {\n",
       "        vertical-align: top;\n",
       "    }\n",
       "\n",
       "    .dataframe thead th {\n",
       "        text-align: right;\n",
       "    }\n",
       "</style>\n",
       "<table border=\"1\" class=\"dataframe\">\n",
       "  <thead>\n",
       "    <tr style=\"text-align: right;\">\n",
       "      <th></th>\n",
       "      <th>user_id</th>\n",
       "      <th>group</th>\n",
       "      <th>ab_test</th>\n",
       "    </tr>\n",
       "  </thead>\n",
       "  <tbody>\n",
       "    <tr>\n",
       "      <th>0</th>\n",
       "      <td>D1ABA3E2887B6A73</td>\n",
       "      <td>A</td>\n",
       "      <td>recommender_system_test</td>\n",
       "    </tr>\n",
       "    <tr>\n",
       "      <th>1</th>\n",
       "      <td>A7A3664BD6242119</td>\n",
       "      <td>A</td>\n",
       "      <td>recommender_system_test</td>\n",
       "    </tr>\n",
       "    <tr>\n",
       "      <th>2</th>\n",
       "      <td>DABC14FDDFADD29E</td>\n",
       "      <td>A</td>\n",
       "      <td>recommender_system_test</td>\n",
       "    </tr>\n",
       "    <tr>\n",
       "      <th>3</th>\n",
       "      <td>04988C5DF189632E</td>\n",
       "      <td>A</td>\n",
       "      <td>recommender_system_test</td>\n",
       "    </tr>\n",
       "    <tr>\n",
       "      <th>4</th>\n",
       "      <td>482F14783456D21B</td>\n",
       "      <td>B</td>\n",
       "      <td>recommender_system_test</td>\n",
       "    </tr>\n",
       "    <tr>\n",
       "      <th>...</th>\n",
       "      <td>...</td>\n",
       "      <td>...</td>\n",
       "      <td>...</td>\n",
       "    </tr>\n",
       "    <tr>\n",
       "      <th>6696</th>\n",
       "      <td>053FB26D6D49EDDC</td>\n",
       "      <td>A</td>\n",
       "      <td>recommender_system_test</td>\n",
       "    </tr>\n",
       "    <tr>\n",
       "      <th>6697</th>\n",
       "      <td>9D263B8EF15CF188</td>\n",
       "      <td>B</td>\n",
       "      <td>recommender_system_test</td>\n",
       "    </tr>\n",
       "    <tr>\n",
       "      <th>6698</th>\n",
       "      <td>F2FBBA33F37DEC46</td>\n",
       "      <td>A</td>\n",
       "      <td>recommender_system_test</td>\n",
       "    </tr>\n",
       "    <tr>\n",
       "      <th>6699</th>\n",
       "      <td>29C92313A98B1176</td>\n",
       "      <td>B</td>\n",
       "      <td>recommender_system_test</td>\n",
       "    </tr>\n",
       "    <tr>\n",
       "      <th>6700</th>\n",
       "      <td>6715343AFBA285AE</td>\n",
       "      <td>B</td>\n",
       "      <td>recommender_system_test</td>\n",
       "    </tr>\n",
       "  </tbody>\n",
       "</table>\n",
       "<p>6701 rows × 3 columns</p>\n",
       "</div>"
      ],
      "text/plain": [
       "               user_id group                  ab_test\n",
       "0     D1ABA3E2887B6A73     A  recommender_system_test\n",
       "1     A7A3664BD6242119     A  recommender_system_test\n",
       "2     DABC14FDDFADD29E     A  recommender_system_test\n",
       "3     04988C5DF189632E     A  recommender_system_test\n",
       "4     482F14783456D21B     B  recommender_system_test\n",
       "...                ...   ...                      ...\n",
       "6696  053FB26D6D49EDDC     A  recommender_system_test\n",
       "6697  9D263B8EF15CF188     B  recommender_system_test\n",
       "6698  F2FBBA33F37DEC46     A  recommender_system_test\n",
       "6699  29C92313A98B1176     B  recommender_system_test\n",
       "6700  6715343AFBA285AE     B  recommender_system_test\n",
       "\n",
       "[6701 rows x 3 columns]"
      ]
     },
     "execution_count": 20,
     "metadata": {},
     "output_type": "execute_result"
    }
   ],
   "source": [
    "test[test['user_id'].isin(new_users['user_id'])]"
   ]
  },
  {
   "cell_type": "markdown",
   "id": "03d9976e",
   "metadata": {},
   "source": [
    "Записей столько же, значит все пользователи новые.\n",
    "\n",
    "Посмотрим сколько пользователей совершали событие, чтобы понять реальное количество пользователей в тесте."
   ]
  },
  {
   "cell_type": "code",
   "execution_count": 21,
   "id": "715c78bc",
   "metadata": {},
   "outputs": [
    {
     "data": {
      "text/html": [
       "<div>\n",
       "<style scoped>\n",
       "    .dataframe tbody tr th:only-of-type {\n",
       "        vertical-align: middle;\n",
       "    }\n",
       "\n",
       "    .dataframe tbody tr th {\n",
       "        vertical-align: top;\n",
       "    }\n",
       "\n",
       "    .dataframe thead th {\n",
       "        text-align: right;\n",
       "    }\n",
       "</style>\n",
       "<table border=\"1\" class=\"dataframe\">\n",
       "  <thead>\n",
       "    <tr style=\"text-align: right;\">\n",
       "      <th></th>\n",
       "      <th>user_id</th>\n",
       "      <th>group</th>\n",
       "      <th>ab_test</th>\n",
       "    </tr>\n",
       "  </thead>\n",
       "  <tbody>\n",
       "    <tr>\n",
       "      <th>0</th>\n",
       "      <td>D1ABA3E2887B6A73</td>\n",
       "      <td>A</td>\n",
       "      <td>recommender_system_test</td>\n",
       "    </tr>\n",
       "    <tr>\n",
       "      <th>1</th>\n",
       "      <td>A7A3664BD6242119</td>\n",
       "      <td>A</td>\n",
       "      <td>recommender_system_test</td>\n",
       "    </tr>\n",
       "    <tr>\n",
       "      <th>2</th>\n",
       "      <td>DABC14FDDFADD29E</td>\n",
       "      <td>A</td>\n",
       "      <td>recommender_system_test</td>\n",
       "    </tr>\n",
       "    <tr>\n",
       "      <th>3</th>\n",
       "      <td>04988C5DF189632E</td>\n",
       "      <td>A</td>\n",
       "      <td>recommender_system_test</td>\n",
       "    </tr>\n",
       "    <tr>\n",
       "      <th>5</th>\n",
       "      <td>4FF2998A348C484F</td>\n",
       "      <td>A</td>\n",
       "      <td>recommender_system_test</td>\n",
       "    </tr>\n",
       "    <tr>\n",
       "      <th>...</th>\n",
       "      <td>...</td>\n",
       "      <td>...</td>\n",
       "      <td>...</td>\n",
       "    </tr>\n",
       "    <tr>\n",
       "      <th>6696</th>\n",
       "      <td>053FB26D6D49EDDC</td>\n",
       "      <td>A</td>\n",
       "      <td>recommender_system_test</td>\n",
       "    </tr>\n",
       "    <tr>\n",
       "      <th>6697</th>\n",
       "      <td>9D263B8EF15CF188</td>\n",
       "      <td>B</td>\n",
       "      <td>recommender_system_test</td>\n",
       "    </tr>\n",
       "    <tr>\n",
       "      <th>6698</th>\n",
       "      <td>F2FBBA33F37DEC46</td>\n",
       "      <td>A</td>\n",
       "      <td>recommender_system_test</td>\n",
       "    </tr>\n",
       "    <tr>\n",
       "      <th>6699</th>\n",
       "      <td>29C92313A98B1176</td>\n",
       "      <td>B</td>\n",
       "      <td>recommender_system_test</td>\n",
       "    </tr>\n",
       "    <tr>\n",
       "      <th>6700</th>\n",
       "      <td>6715343AFBA285AE</td>\n",
       "      <td>B</td>\n",
       "      <td>recommender_system_test</td>\n",
       "    </tr>\n",
       "  </tbody>\n",
       "</table>\n",
       "<p>3675 rows × 3 columns</p>\n",
       "</div>"
      ],
      "text/plain": [
       "               user_id group                  ab_test\n",
       "0     D1ABA3E2887B6A73     A  recommender_system_test\n",
       "1     A7A3664BD6242119     A  recommender_system_test\n",
       "2     DABC14FDDFADD29E     A  recommender_system_test\n",
       "3     04988C5DF189632E     A  recommender_system_test\n",
       "5     4FF2998A348C484F     A  recommender_system_test\n",
       "...                ...   ...                      ...\n",
       "6696  053FB26D6D49EDDC     A  recommender_system_test\n",
       "6697  9D263B8EF15CF188     B  recommender_system_test\n",
       "6698  F2FBBA33F37DEC46     A  recommender_system_test\n",
       "6699  29C92313A98B1176     B  recommender_system_test\n",
       "6700  6715343AFBA285AE     B  recommender_system_test\n",
       "\n",
       "[3675 rows x 3 columns]"
      ]
     },
     "execution_count": 21,
     "metadata": {},
     "output_type": "execute_result"
    }
   ],
   "source": [
    "test[test['user_id'].isin(events['user_id'])]"
   ]
  },
  {
   "cell_type": "markdown",
   "id": "b528ece8",
   "metadata": {},
   "source": [
    "Всего лишь 3675 пользователей совершили хотя бы одно событие за время теста. Данных намного меньше, чем ожидалось. Далее будем проверять данные по всеми пользователями из теста, даже если они не совершили действие.\n",
    "\n",
    "Следующее, что необходимо проверить, это даты. Убедимся, что даты начала и конца набора новых пользователей и самого тестирования соответсвуют ТЗ, а также, что нет пересечения с маркетинговыми событиями."
   ]
  },
  {
   "cell_type": "code",
   "execution_count": 22,
   "id": "132c9dcd",
   "metadata": {},
   "outputs": [
    {
     "name": "stdout",
     "output_type": "stream",
     "text": [
      "Первый пользователь из теста зарегистрировался 2020-12-07 00:00:00 числа, а последний пользователь зарегистриовался 2020-12-21 00:00:00 числа.\n",
      "Первое действие пользователя из тестовой группы было совершенно 2020-12-07 00:05:57 а последнее действие - 2020-12-30 12:42:57\n"
     ]
    }
   ],
   "source": [
    "print('Первый пользователь из теста зарегистрировался',\n",
    "      new_users[new_users['user_id'].isin(test['user_id'])]['first_date'].min(),\n",
    "      'числа, а последний пользователь зарегистриовался',\n",
    "      new_users[new_users['user_id'].isin(test['user_id'])]['first_date'].max(), 'числа.')\n",
    "print('Первое действие пользователя из тестовой группы было совершенно',\n",
    "      events[events['user_id'].isin(test['user_id'])]['event_dt'].min(),\n",
    "      'а последнее действие -',\n",
    "      events[events['user_id'].isin(test['user_id'])]['event_dt'].max())"
   ]
  },
  {
   "cell_type": "markdown",
   "id": "2657ebc3",
   "metadata": {},
   "source": [
    "Дата запуска тестирования и дата остановки набора новых пользователей соответсвуют ТЗ. Дата остановки тестирования не соответсвует ТЗ - последнее действие пользователя из нашего тестирования приходится на 30.12, а не 04.01."
   ]
  },
  {
   "cell_type": "code",
   "execution_count": 23,
   "id": "7b798efd",
   "metadata": {},
   "outputs": [
    {
     "name": "stdout",
     "output_type": "stream",
     "text": [
      "Christmas&New Year Promo проводится в EU, N.America регионах и пересекается по времени с тестированием\n",
      "CIS New Year Gift Lottery проводится в CIS регионах и пересекается по времени с тестированием\n"
     ]
    }
   ],
   "source": [
    "first_date = events[events['user_id'].isin(test['user_id'])]['event_dt'].min()\n",
    "last_date = events[events['user_id'].isin(test['user_id'])]['event_dt'].max()\n",
    "\n",
    "for i in range(len(marketing_events)):\n",
    "    if ((marketing_events.loc[i, 'start_dt'] >= first_date and marketing_events.loc[i, 'start_dt'] <= last_date) or\n",
    "        (marketing_events.loc[i, 'start_dt'] <= first_date and marketing_events.loc[i, 'finish_dt'] >= last_date) or\n",
    "        (marketing_events.loc[i, 'finish_dt'] >= first_date and marketing_events.loc[i, 'finish_dt'] <= last_date) or\n",
    "        (marketing_events.loc[i, 'start_dt'] >= first_date and marketing_events.loc[i, 'finish_dt'] <= last_date)):\n",
    "        print(marketing_events.loc[i, 'name'], 'проводится в', marketing_events.loc[i, 'regions'],\n",
    "              'регионах и пересекается по времени с тестированием')"
   ]
  },
  {
   "cell_type": "markdown",
   "id": "a9874dff",
   "metadata": {},
   "source": [
    "Пересечения с маркетинговыми событиями присутсвует, причем с двумя. Чтобы оценить влияние событий необходимо рассмотреть динамику взаимодействия пользователей. Если сильных скачков и изменений не обнаружится, на такое пересечение можно будет закрыть глаза."
   ]
  },
  {
   "cell_type": "code",
   "execution_count": 24,
   "id": "27134f3f",
   "metadata": {},
   "outputs": [],
   "source": [
    "users = test['user_id']\n",
    "events['day'] = events['event_dt'].dt.normalize()"
   ]
  },
  {
   "cell_type": "code",
   "execution_count": 25,
   "id": "ff42fa7a",
   "metadata": {
    "scrolled": false
   },
   "outputs": [
    {
     "data": {
      "image/png": "[encoded data removed]",
      "text/plain": [
       "<Figure size 1224x504 with 1 Axes>"
      ]
     },
     "metadata": {
      "needs_background": "light"
     },
     "output_type": "display_data"
    }
   ],
   "source": [
    "fig, ax = plt.subplots(figsize=(17, 7))\n",
    "ax.grid()\n",
    "ax.set_title('События пользователей по дням' + '\\n', fontsize = 15)\n",
    "sns.histplot(data=events.query('user_id.isin(@users)'), x='event_dt')\n",
    "plt.axvline(x=marketing_events.query('name == \"Christmas&New Year Promo\"')['start_dt'], color='black', linestyle='--')\n",
    "plt.axvline(x=marketing_events.query('name == \"Christmas&New Year Promo\"')['finish_dt'], color='black', linestyle='--')\n",
    "plt.axvline(x=marketing_events.query('name == \"CIS New Year Gift Lottery\"')['start_dt'], color='red', linestyle='--')\n",
    "plt.axvline(x=marketing_events.query('name == \"CIS New Year Gift Lottery\"')['finish_dt'], color='red', linestyle='--')\n",
    "plt.show();"
   ]
  },
  {
   "cell_type": "markdown",
   "id": "42262711",
   "metadata": {},
   "source": [
    "Из графика видно, что число событий лишь уменьшилось во время Рожденственско-Новогоднего события, а на момент Новогодней лотерии вообще событий почти нет. Т.е. маркетинговые события не оказали влияния на действия пользователей.\n",
    "\n",
    "Посмотрим, как распределены пользователи по группам и есть ли пересечения с другими тестами."
   ]
  },
  {
   "cell_type": "code",
   "execution_count": 26,
   "id": "04a95d29",
   "metadata": {},
   "outputs": [
    {
     "data": {
      "text/plain": [
       "1602"
      ]
     },
     "execution_count": 26,
     "metadata": {},
     "output_type": "execute_result"
    }
   ],
   "source": [
    "# проверим наличие пользователей в разных тестах\n",
    "doubles = ab_participants.groupby('user_id', as_index=False).agg({'ab_test': 'nunique'}).query('ab_test > 1')['user_id']\n",
    "doubles.count()"
   ]
  },
  {
   "cell_type": "markdown",
   "id": "65719b80",
   "metadata": {},
   "source": [
    "В обоих тестах участвует 1602 пользователя. Для нас важно, чтобы пользователи эксперементальной группы другого теста не попали в наш тест, потому что тогда будет сложно определить, что именно повлияло на пользователей. Уберем тех, кто находится в параллельном тесте в группе B."
   ]
  },
  {
   "cell_type": "code",
   "execution_count": 27,
   "id": "ba68f9b9",
   "metadata": {},
   "outputs": [],
   "source": [
    "bad_id = ab_participants.query('ab_test != \"recommender_system_test\" & user_id.isin(@doubles) & group == \"B\"')['user_id']\n",
    "test = test.query('~ user_id.isin(@bad_id)')"
   ]
  },
  {
   "cell_type": "code",
   "execution_count": 28,
   "id": "ca897b43",
   "metadata": {},
   "outputs": [
    {
     "data": {
      "text/html": [
       "<div>\n",
       "<style scoped>\n",
       "    .dataframe tbody tr th:only-of-type {\n",
       "        vertical-align: middle;\n",
       "    }\n",
       "\n",
       "    .dataframe tbody tr th {\n",
       "        vertical-align: top;\n",
       "    }\n",
       "\n",
       "    .dataframe thead th {\n",
       "        text-align: right;\n",
       "    }\n",
       "</style>\n",
       "<table border=\"1\" class=\"dataframe\">\n",
       "  <thead>\n",
       "    <tr style=\"text-align: right;\">\n",
       "      <th></th>\n",
       "      <th>user_id</th>\n",
       "    </tr>\n",
       "    <tr>\n",
       "      <th>group</th>\n",
       "      <th></th>\n",
       "    </tr>\n",
       "  </thead>\n",
       "  <tbody>\n",
       "    <tr>\n",
       "      <th>A</th>\n",
       "      <td>3385</td>\n",
       "    </tr>\n",
       "    <tr>\n",
       "      <th>B</th>\n",
       "      <td>2533</td>\n",
       "    </tr>\n",
       "  </tbody>\n",
       "</table>\n",
       "</div>"
      ],
      "text/plain": [
       "       user_id\n",
       "group         \n",
       "A         3385\n",
       "B         2533"
      ]
     },
     "execution_count": 28,
     "metadata": {},
     "output_type": "execute_result"
    }
   ],
   "source": [
    "# посмотрим как рапределены пользователи в нашем тесте по группам\n",
    "test.groupby('group').agg({'user_id': 'nunique'})"
   ]
  },
  {
   "cell_type": "code",
   "execution_count": 29,
   "id": "9ffa1523",
   "metadata": {},
   "outputs": [
    {
     "data": {
      "text/plain": [
       "group    0\n",
       "dtype: int64"
      ]
     },
     "execution_count": 29,
     "metadata": {},
     "output_type": "execute_result"
    }
   ],
   "source": [
    "test.groupby('user_id').agg({'group': 'nunique'}).query('group > 1').count()"
   ]
  },
  {
   "cell_type": "markdown",
   "id": "6dfd2a26",
   "metadata": {},
   "source": [
    "В группе А значительный перевес в количестве участников.\n",
    "Участники в группах не пересекаются.\n",
    "\n",
    "Проверим, чтобы все пользователи были из Европы, а также составляли 15% от всех новых пользователей Европы."
   ]
  },
  {
   "cell_type": "code",
   "execution_count": 30,
   "id": "57dc6126",
   "metadata": {},
   "outputs": [
    {
     "data": {
      "text/plain": [
       "EU           5568\n",
       "N.America     223\n",
       "APAC           72\n",
       "CIS            55\n",
       "Name: region, dtype: int64"
      ]
     },
     "execution_count": 30,
     "metadata": {},
     "output_type": "execute_result"
    }
   ],
   "source": [
    "new_users[new_users['user_id'].isin(test['user_id'])]['region'].value_counts()"
   ]
  },
  {
   "cell_type": "code",
   "execution_count": 31,
   "id": "8ac685ec",
   "metadata": {},
   "outputs": [
    {
     "data": {
      "text/html": [
       "<div>\n",
       "<style scoped>\n",
       "    .dataframe tbody tr th:only-of-type {\n",
       "        vertical-align: middle;\n",
       "    }\n",
       "\n",
       "    .dataframe tbody tr th {\n",
       "        vertical-align: top;\n",
       "    }\n",
       "\n",
       "    .dataframe thead th {\n",
       "        text-align: right;\n",
       "    }\n",
       "</style>\n",
       "<table border=\"1\" class=\"dataframe\">\n",
       "  <thead>\n",
       "    <tr style=\"text-align: right;\">\n",
       "      <th></th>\n",
       "      <th></th>\n",
       "      <th>user_id</th>\n",
       "    </tr>\n",
       "    <tr>\n",
       "      <th>group</th>\n",
       "      <th>region</th>\n",
       "      <th></th>\n",
       "    </tr>\n",
       "  </thead>\n",
       "  <tbody>\n",
       "    <tr>\n",
       "      <th rowspan=\"4\" valign=\"top\">A</th>\n",
       "      <th>APAC</th>\n",
       "      <td>37</td>\n",
       "    </tr>\n",
       "    <tr>\n",
       "      <th>CIS</th>\n",
       "      <td>25</td>\n",
       "    </tr>\n",
       "    <tr>\n",
       "      <th>EU</th>\n",
       "      <td>3195</td>\n",
       "    </tr>\n",
       "    <tr>\n",
       "      <th>N.America</th>\n",
       "      <td>128</td>\n",
       "    </tr>\n",
       "    <tr>\n",
       "      <th rowspan=\"4\" valign=\"top\">B</th>\n",
       "      <th>APAC</th>\n",
       "      <td>35</td>\n",
       "    </tr>\n",
       "    <tr>\n",
       "      <th>CIS</th>\n",
       "      <td>30</td>\n",
       "    </tr>\n",
       "    <tr>\n",
       "      <th>EU</th>\n",
       "      <td>2373</td>\n",
       "    </tr>\n",
       "    <tr>\n",
       "      <th>N.America</th>\n",
       "      <td>95</td>\n",
       "    </tr>\n",
       "  </tbody>\n",
       "</table>\n",
       "</div>"
      ],
      "text/plain": [
       "                 user_id\n",
       "group region            \n",
       "A     APAC            37\n",
       "      CIS             25\n",
       "      EU            3195\n",
       "      N.America      128\n",
       "B     APAC            35\n",
       "      CIS             30\n",
       "      EU            2373\n",
       "      N.America       95"
      ]
     },
     "execution_count": 31,
     "metadata": {},
     "output_type": "execute_result"
    }
   ],
   "source": [
    "test.merge(new_users[['user_id', 'region']], on='user_id').groupby(['group', 'region']).agg({'user_id':'nunique'})"
   ]
  },
  {
   "cell_type": "markdown",
   "id": "bba5a850",
   "metadata": {},
   "source": [
    "В нашем тестировании участвуют представители сразу нескольких регионов, однако между группами они разделены достаточно равномерно (кроме Европейцев), поэтому можно их оставить."
   ]
  },
  {
   "cell_type": "code",
   "execution_count": 32,
   "id": "472af015",
   "metadata": {},
   "outputs": [
    {
     "data": {
      "text/plain": [
       "12.033715150205317"
      ]
     },
     "execution_count": 32,
     "metadata": {},
     "output_type": "execute_result"
    }
   ],
   "source": [
    "users = test['user_id']\n",
    "new_users.query('user_id.isin(@users) & region == \"EU\"')['user_id'].count() \\\n",
    "/ new_users.query('region == \"EU\"')['user_id'].count() * 100 "
   ]
  },
  {
   "cell_type": "markdown",
   "id": "b263b02c",
   "metadata": {},
   "source": [
    "Европейские пользователи в нашем тесте составляют 12% от всех новых Европейских пользователей. Пункт тз не выполнен. Также после удаления межтестовых пользователей в тесте осталось менее 6000 участников."
   ]
  },
  {
   "cell_type": "markdown",
   "id": "3f9184cf",
   "metadata": {},
   "source": [
    "Чтобы проверить последний пункт ТЗ необходимо расчитать базовую конверсию на каждом этапе в обеих группах. Этот пункт мы проверим во время исследовательского анализа.\n",
    "\n",
    "Посчитаем, сколько в среднем уходит времени у пользователей на то, чтобы совершить первое действие после регистрации (*delta*), и уберем тех, кто зарегистрировался меньше чем за *delta* дней до завершения теста. А также уберем действия пользователей после 14 дней со дня регистрации, потому что нас интерисуют улучшения только за 2 недели."
   ]
  },
  {
   "cell_type": "code",
   "execution_count": 33,
   "id": "b3f82c5f",
   "metadata": {},
   "outputs": [],
   "source": [
    "users = test['user_id']\n",
    "test_events = events.query('user_id.isin(@users)').merge(new_users[['user_id', 'first_date']], how='left', on='user_id')"
   ]
  },
  {
   "cell_type": "code",
   "execution_count": 34,
   "id": "b550170b",
   "metadata": {},
   "outputs": [
    {
     "data": {
      "text/plain": [
       "Timedelta('0 days 00:00:00')"
      ]
     },
     "execution_count": 34,
     "metadata": {},
     "output_type": "execute_result"
    }
   ],
   "source": [
    "df = (\n",
    "    test_events\n",
    "    .groupby('user_id', as_index=False)\n",
    "    .agg({'day': min, 'first_date': 'first'})\n",
    ")\n",
    "df['delta'] = df['day'] - df['first_date']\n",
    "df['delta'].median()"
   ]
  },
  {
   "cell_type": "markdown",
   "id": "c005954c",
   "metadata": {},
   "source": [
    "Пользователи совершают свое первое действие в течении суток. Все остаются. Осталось убрать действия по истечении 2 недель."
   ]
  },
  {
   "cell_type": "code",
   "execution_count": 35,
   "id": "f2164da6",
   "metadata": {},
   "outputs": [
    {
     "name": "stderr",
     "output_type": "stream",
     "text": [
      "C:\\Users\\USER\\AppData\\Local\\Temp\\ipykernel_9660\\1764176043.py:1: UserWarning: Boolean Series key will be reindexed to match DataFrame index.\n",
      "  test_events = test_events[events['day'] - test_events['first_date'] <= '14 days']\n"
     ]
    }
   ],
   "source": [
    "test_events = test_events[events['day'] - test_events['first_date'] <= '14 days']"
   ]
  },
  {
   "cell_type": "code",
   "execution_count": 36,
   "id": "3270dac2",
   "metadata": {},
   "outputs": [
    {
     "data": {
      "text/plain": [
       "(5918, 3)"
      ]
     },
     "execution_count": 36,
     "metadata": {},
     "output_type": "execute_result"
    }
   ],
   "source": [
    "test.shape"
   ]
  },
  {
   "cell_type": "markdown",
   "id": "b2236dbf",
   "metadata": {},
   "source": [
    "**Выводы:**\n",
    "- данные не соответсвуют требованиям ТЗ в полной мере:\n",
    "\n",
    "  - дата остановки теста, судя по дате последнего действия пользователя, 30 декабря\n",
    "  - среди пользователей есть представители других регионов, однако между группами они распределены равномерно, поэтому не должны оказать сильного влияния на результаты теста\n",
    "  - задействовано менее 15% новых пользователей из региона Европа (по факту 12%)\n",
    "  - количество пользователей в тесте чуть менее 6000, однако тех, кто совершил хотя бы одно действие, не менее 4000\n",
    "  \n",
    "  \n",
    "- время проведения теста пересекается с двумя маркетинговыми событиями, однако увеличения динамики событий не наблюдается\n",
    "\n",
    "\n",
    "- в тесте задействованы пользователи, также участвующие в конкурирующем тестировании (пользователи конкуриющей тестовой группы были удалены); между группами пользователи распределены не равномерно, пересечений нет\n",
    "\n",
    "О наличии улучшения каждой метрики не менее,чем на 10% скажем после исследовательского анализа."
   ]
  },
  {
   "cell_type": "markdown",
   "id": "d25fc4ac",
   "metadata": {},
   "source": [
    "## Исследовательский анализ"
   ]
  },
  {
   "cell_type": "code",
   "execution_count": 37,
   "id": "37c9771a",
   "metadata": {},
   "outputs": [
    {
     "data": {
      "text/html": [
       "<div>\n",
       "<style scoped>\n",
       "    .dataframe tbody tr th:only-of-type {\n",
       "        vertical-align: middle;\n",
       "    }\n",
       "\n",
       "    .dataframe tbody tr th {\n",
       "        vertical-align: top;\n",
       "    }\n",
       "\n",
       "    .dataframe thead th {\n",
       "        text-align: right;\n",
       "    }\n",
       "</style>\n",
       "<table border=\"1\" class=\"dataframe\">\n",
       "  <thead>\n",
       "    <tr style=\"text-align: right;\">\n",
       "      <th></th>\n",
       "      <th>user_id</th>\n",
       "      <th>event_dt</th>\n",
       "      <th>event_name</th>\n",
       "      <th>details</th>\n",
       "      <th>day</th>\n",
       "      <th>first_date</th>\n",
       "      <th>group</th>\n",
       "    </tr>\n",
       "  </thead>\n",
       "  <tbody>\n",
       "    <tr>\n",
       "      <th>0</th>\n",
       "      <td>831887FE7F2D6CBA</td>\n",
       "      <td>2020-12-07 06:50:29</td>\n",
       "      <td>purchase</td>\n",
       "      <td>4.99</td>\n",
       "      <td>2020-12-07</td>\n",
       "      <td>2020-12-07</td>\n",
       "      <td>A</td>\n",
       "    </tr>\n",
       "    <tr>\n",
       "      <th>1</th>\n",
       "      <td>3C5DD0288AC4FE23</td>\n",
       "      <td>2020-12-07 19:42:40</td>\n",
       "      <td>purchase</td>\n",
       "      <td>4.99</td>\n",
       "      <td>2020-12-07</td>\n",
       "      <td>2020-12-07</td>\n",
       "      <td>A</td>\n",
       "    </tr>\n",
       "    <tr>\n",
       "      <th>2</th>\n",
       "      <td>49EA242586C87836</td>\n",
       "      <td>2020-12-07 06:31:24</td>\n",
       "      <td>purchase</td>\n",
       "      <td>99.99</td>\n",
       "      <td>2020-12-07</td>\n",
       "      <td>2020-12-07</td>\n",
       "      <td>B</td>\n",
       "    </tr>\n",
       "    <tr>\n",
       "      <th>3</th>\n",
       "      <td>2B06EB547B7AAD08</td>\n",
       "      <td>2020-12-07 21:36:38</td>\n",
       "      <td>purchase</td>\n",
       "      <td>4.99</td>\n",
       "      <td>2020-12-07</td>\n",
       "      <td>2020-12-07</td>\n",
       "      <td>A</td>\n",
       "    </tr>\n",
       "    <tr>\n",
       "      <th>4</th>\n",
       "      <td>A640F31CAC7823A6</td>\n",
       "      <td>2020-12-07 18:48:26</td>\n",
       "      <td>purchase</td>\n",
       "      <td>4.99</td>\n",
       "      <td>2020-12-07</td>\n",
       "      <td>2020-12-07</td>\n",
       "      <td>B</td>\n",
       "    </tr>\n",
       "    <tr>\n",
       "      <th>...</th>\n",
       "      <td>...</td>\n",
       "      <td>...</td>\n",
       "      <td>...</td>\n",
       "      <td>...</td>\n",
       "      <td>...</td>\n",
       "      <td>...</td>\n",
       "      <td>...</td>\n",
       "    </tr>\n",
       "    <tr>\n",
       "      <th>21837</th>\n",
       "      <td>E5589EAE02ACD150</td>\n",
       "      <td>2020-12-29 22:17:08</td>\n",
       "      <td>login</td>\n",
       "      <td>NaN</td>\n",
       "      <td>2020-12-29</td>\n",
       "      <td>2020-12-20</td>\n",
       "      <td>A</td>\n",
       "    </tr>\n",
       "    <tr>\n",
       "      <th>21838</th>\n",
       "      <td>D21F0D4FDCD82DB2</td>\n",
       "      <td>2020-12-29 02:17:00</td>\n",
       "      <td>login</td>\n",
       "      <td>NaN</td>\n",
       "      <td>2020-12-29</td>\n",
       "      <td>2020-12-20</td>\n",
       "      <td>A</td>\n",
       "    </tr>\n",
       "    <tr>\n",
       "      <th>21839</th>\n",
       "      <td>553BAE96C6EB6240</td>\n",
       "      <td>2020-12-29 14:09:14</td>\n",
       "      <td>login</td>\n",
       "      <td>NaN</td>\n",
       "      <td>2020-12-29</td>\n",
       "      <td>2020-12-20</td>\n",
       "      <td>A</td>\n",
       "    </tr>\n",
       "    <tr>\n",
       "      <th>21840</th>\n",
       "      <td>DD4352CDCF8C3D57</td>\n",
       "      <td>2020-12-30 12:42:56</td>\n",
       "      <td>login</td>\n",
       "      <td>NaN</td>\n",
       "      <td>2020-12-30</td>\n",
       "      <td>2020-12-07</td>\n",
       "      <td>B</td>\n",
       "    </tr>\n",
       "    <tr>\n",
       "      <th>21841</th>\n",
       "      <td>75845C83258FBF73</td>\n",
       "      <td>2020-12-30 06:42:52</td>\n",
       "      <td>login</td>\n",
       "      <td>NaN</td>\n",
       "      <td>2020-12-30</td>\n",
       "      <td>2020-12-07</td>\n",
       "      <td>B</td>\n",
       "    </tr>\n",
       "  </tbody>\n",
       "</table>\n",
       "<p>21842 rows × 7 columns</p>\n",
       "</div>"
      ],
      "text/plain": [
       "                user_id            event_dt event_name  details        day  \\\n",
       "0      831887FE7F2D6CBA 2020-12-07 06:50:29   purchase     4.99 2020-12-07   \n",
       "1      3C5DD0288AC4FE23 2020-12-07 19:42:40   purchase     4.99 2020-12-07   \n",
       "2      49EA242586C87836 2020-12-07 06:31:24   purchase    99.99 2020-12-07   \n",
       "3      2B06EB547B7AAD08 2020-12-07 21:36:38   purchase     4.99 2020-12-07   \n",
       "4      A640F31CAC7823A6 2020-12-07 18:48:26   purchase     4.99 2020-12-07   \n",
       "...                 ...                 ...        ...      ...        ...   \n",
       "21837  E5589EAE02ACD150 2020-12-29 22:17:08      login      NaN 2020-12-29   \n",
       "21838  D21F0D4FDCD82DB2 2020-12-29 02:17:00      login      NaN 2020-12-29   \n",
       "21839  553BAE96C6EB6240 2020-12-29 14:09:14      login      NaN 2020-12-29   \n",
       "21840  DD4352CDCF8C3D57 2020-12-30 12:42:56      login      NaN 2020-12-30   \n",
       "21841  75845C83258FBF73 2020-12-30 06:42:52      login      NaN 2020-12-30   \n",
       "\n",
       "      first_date group  \n",
       "0     2020-12-07     A  \n",
       "1     2020-12-07     A  \n",
       "2     2020-12-07     B  \n",
       "3     2020-12-07     A  \n",
       "4     2020-12-07     B  \n",
       "...          ...   ...  \n",
       "21837 2020-12-20     A  \n",
       "21838 2020-12-20     A  \n",
       "21839 2020-12-20     A  \n",
       "21840 2020-12-07     B  \n",
       "21841 2020-12-07     B  \n",
       "\n",
       "[21842 rows x 7 columns]"
      ]
     },
     "execution_count": 37,
     "metadata": {},
     "output_type": "execute_result"
    }
   ],
   "source": [
    "data = test_events.merge(test[['user_id', 'group']], how='left', on='user_id')\n",
    "data"
   ]
  },
  {
   "cell_type": "markdown",
   "id": "9047eff0",
   "metadata": {},
   "source": [
    "Посмотрим, как много событий в среднем совершает каждый пользователь в разных группах."
   ]
  },
  {
   "cell_type": "code",
   "execution_count": 38,
   "id": "33fa0ada",
   "metadata": {},
   "outputs": [
    {
     "data": {
      "text/html": [
       "<div>\n",
       "<style scoped>\n",
       "    .dataframe tbody tr th:only-of-type {\n",
       "        vertical-align: middle;\n",
       "    }\n",
       "\n",
       "    .dataframe tbody tr th {\n",
       "        vertical-align: top;\n",
       "    }\n",
       "\n",
       "    .dataframe thead th {\n",
       "        text-align: right;\n",
       "    }\n",
       "</style>\n",
       "<table border=\"1\" class=\"dataframe\">\n",
       "  <thead>\n",
       "    <tr style=\"text-align: right;\">\n",
       "      <th></th>\n",
       "      <th>ttl_events</th>\n",
       "      <th>ttl_users</th>\n",
       "      <th>avg_per_psn</th>\n",
       "    </tr>\n",
       "    <tr>\n",
       "      <th>group</th>\n",
       "      <th></th>\n",
       "      <th></th>\n",
       "      <th></th>\n",
       "    </tr>\n",
       "  </thead>\n",
       "  <tbody>\n",
       "    <tr>\n",
       "      <th>A</th>\n",
       "      <td>17149</td>\n",
       "      <td>2422</td>\n",
       "      <td>7.080512</td>\n",
       "    </tr>\n",
       "    <tr>\n",
       "      <th>B</th>\n",
       "      <td>4693</td>\n",
       "      <td>822</td>\n",
       "      <td>5.709246</td>\n",
       "    </tr>\n",
       "  </tbody>\n",
       "</table>\n",
       "</div>"
      ],
      "text/plain": [
       "       ttl_events  ttl_users  avg_per_psn\n",
       "group                                    \n",
       "A           17149       2422     7.080512\n",
       "B            4693        822     5.709246"
      ]
     },
     "execution_count": 38,
     "metadata": {},
     "output_type": "execute_result"
    }
   ],
   "source": [
    "events_by_group = data.groupby('group').agg({'user_id':['count', 'nunique']})\n",
    "events_by_group.columns = ['ttl_events', 'ttl_users']\n",
    "events_by_group['avg_per_psn'] = events_by_group['ttl_events'] / events_by_group['ttl_users']\n",
    "events_by_group"
   ]
  },
  {
   "cell_type": "markdown",
   "id": "e14c8b82",
   "metadata": {},
   "source": [
    "В среднем в контрольной группе пользователи совершают больше событий, чем в тестовой, однако разница небольшая. Можно считать, что количество событий на пользователей одинаково распределены в выборках.\n",
    "\n",
    "Посмотрим, как события распределны по дням в разных группах."
   ]
  },
  {
   "cell_type": "code",
   "execution_count": 39,
   "id": "c07a2f64",
   "metadata": {},
   "outputs": [
    {
     "data": {
      "image/png": "[encoded data removed]",
      "text/plain": [
       "<Figure size 1224x504 with 1 Axes>"
      ]
     },
     "metadata": {
      "needs_background": "light"
     },
     "output_type": "display_data"
    }
   ],
   "source": [
    "fig, ax = plt.subplots(figsize=(17, 7))\n",
    "ax.grid()\n",
    "ax.set_title('События пользователей по дням' + '\\n', fontsize = 15)\n",
    "sns.histplot(data=data, x='event_dt', hue='group', stat=\"density\", common_norm=False)\n",
    "plt.show();"
   ]
  },
  {
   "cell_type": "markdown",
   "id": "a151cf7a",
   "metadata": {},
   "source": [
    "На графике видно, что в контрольной группе в перую неделю было очень мало событий. Основное количество событий пришлось на 2 и начало 3 недели. К концу 3 недели показатели вернулись к показателям первой недели.\n",
    "\n",
    "В тестовой же группе первые две недели показатели были почти стабильны, за исключением спада на 12-13 декабря. На третьей недели также, как и у контрольной был заметен спад активности, показатели опустились даже ниже, чем в 12-13 числа."
   ]
  },
  {
   "cell_type": "code",
   "execution_count": 40,
   "id": "4c5cff3f",
   "metadata": {},
   "outputs": [
    {
     "data": {
      "text/plain": [
       "array(['purchase', 'product_cart', 'product_page', 'login'], dtype=object)"
      ]
     },
     "execution_count": 40,
     "metadata": {},
     "output_type": "execute_result"
    }
   ],
   "source": [
    "# Посмотрим из каких событий состоит воронка\n",
    "data['event_name'].unique()"
   ]
  },
  {
   "cell_type": "markdown",
   "id": "db24b07a",
   "metadata": {},
   "source": [
    "Получили следующие типы действий:\n",
    "- `login` - вход в систем\n",
    "- `product_page` - переход на страницу продукта\n",
    "- `purchase` - оплата покупки\n",
    "- `product_cart` - переход в корзину\n",
    "\n",
    "Логично предположить, что первое действие - это вход в систему (аккаунт), затем просмотр продукта, переход в корзину, а последнее - это оплата покупки.\n",
    "\n",
    "Построим воронку событий, посотрим, как меняется конверсия на разных этапах и проверим наличие улучшения метрик на 10%."
   ]
  },
  {
   "cell_type": "code",
   "execution_count": 41,
   "id": "3265cf39",
   "metadata": {},
   "outputs": [
    {
     "data": {
      "text/html": [
       "<div>\n",
       "<style scoped>\n",
       "    .dataframe tbody tr th:only-of-type {\n",
       "        vertical-align: middle;\n",
       "    }\n",
       "\n",
       "    .dataframe tbody tr th {\n",
       "        vertical-align: top;\n",
       "    }\n",
       "\n",
       "    .dataframe thead th {\n",
       "        text-align: right;\n",
       "    }\n",
       "</style>\n",
       "<table border=\"1\" class=\"dataframe\">\n",
       "  <thead>\n",
       "    <tr style=\"text-align: right;\">\n",
       "      <th></th>\n",
       "      <th>event_name</th>\n",
       "      <th>group</th>\n",
       "      <th>user_id</th>\n",
       "    </tr>\n",
       "  </thead>\n",
       "  <tbody>\n",
       "    <tr>\n",
       "      <th>0</th>\n",
       "      <td>login</td>\n",
       "      <td>A</td>\n",
       "      <td>2422</td>\n",
       "    </tr>\n",
       "    <tr>\n",
       "      <th>1</th>\n",
       "      <td>login</td>\n",
       "      <td>B</td>\n",
       "      <td>822</td>\n",
       "    </tr>\n",
       "    <tr>\n",
       "      <th>2</th>\n",
       "      <td>product_page</td>\n",
       "      <td>A</td>\n",
       "      <td>1571</td>\n",
       "    </tr>\n",
       "    <tr>\n",
       "      <th>3</th>\n",
       "      <td>product_page</td>\n",
       "      <td>B</td>\n",
       "      <td>459</td>\n",
       "    </tr>\n",
       "    <tr>\n",
       "      <th>4</th>\n",
       "      <td>product_cart</td>\n",
       "      <td>A</td>\n",
       "      <td>728</td>\n",
       "    </tr>\n",
       "    <tr>\n",
       "      <th>5</th>\n",
       "      <td>product_cart</td>\n",
       "      <td>B</td>\n",
       "      <td>225</td>\n",
       "    </tr>\n",
       "    <tr>\n",
       "      <th>6</th>\n",
       "      <td>purchase</td>\n",
       "      <td>A</td>\n",
       "      <td>773</td>\n",
       "    </tr>\n",
       "    <tr>\n",
       "      <th>7</th>\n",
       "      <td>purchase</td>\n",
       "      <td>B</td>\n",
       "      <td>226</td>\n",
       "    </tr>\n",
       "  </tbody>\n",
       "</table>\n",
       "</div>"
      ],
      "text/plain": [
       "     event_name group  user_id\n",
       "0         login     A     2422\n",
       "1         login     B      822\n",
       "2  product_page     A     1571\n",
       "3  product_page     B      459\n",
       "4  product_cart     A      728\n",
       "5  product_cart     B      225\n",
       "6      purchase     A      773\n",
       "7      purchase     B      226"
      ]
     },
     "execution_count": 41,
     "metadata": {},
     "output_type": "execute_result"
    }
   ],
   "source": [
    "uniq_users_per_event = (\n",
    "    data\n",
    "    .groupby(['event_name', 'group'], as_index=False)\n",
    "    .agg({'user_id': 'nunique'})\n",
    "    .sort_values(by='event_name')\n",
    "    .iloc[[0, 1, 4, 5, 2, 3, 6, 7]]\n",
    "    .reset_index(drop=True)\n",
    ")\n",
    "uniq_users_per_event"
   ]
  },
  {
   "cell_type": "code",
   "execution_count": 42,
   "id": "73582078",
   "metadata": {},
   "outputs": [
    {
     "data": {
      "text/html": [
       "<div>\n",
       "<style scoped>\n",
       "    .dataframe tbody tr th:only-of-type {\n",
       "        vertical-align: middle;\n",
       "    }\n",
       "\n",
       "    .dataframe tbody tr th {\n",
       "        vertical-align: top;\n",
       "    }\n",
       "\n",
       "    .dataframe thead th {\n",
       "        text-align: right;\n",
       "    }\n",
       "</style>\n",
       "<table border=\"1\" class=\"dataframe\">\n",
       "  <thead>\n",
       "    <tr style=\"text-align: right;\">\n",
       "      <th></th>\n",
       "      <th>event_name</th>\n",
       "      <th>group</th>\n",
       "      <th>user_id</th>\n",
       "      <th>share_per_step</th>\n",
       "      <th>ttl_share</th>\n",
       "    </tr>\n",
       "  </thead>\n",
       "  <tbody>\n",
       "    <tr>\n",
       "      <th>0</th>\n",
       "      <td>login</td>\n",
       "      <td>A</td>\n",
       "      <td>2422</td>\n",
       "      <td>100.00</td>\n",
       "      <td>100.00</td>\n",
       "    </tr>\n",
       "    <tr>\n",
       "      <th>1</th>\n",
       "      <td>login</td>\n",
       "      <td>B</td>\n",
       "      <td>822</td>\n",
       "      <td>100.00</td>\n",
       "      <td>100.00</td>\n",
       "    </tr>\n",
       "    <tr>\n",
       "      <th>2</th>\n",
       "      <td>product_page</td>\n",
       "      <td>A</td>\n",
       "      <td>1571</td>\n",
       "      <td>64.86</td>\n",
       "      <td>64.86</td>\n",
       "    </tr>\n",
       "    <tr>\n",
       "      <th>3</th>\n",
       "      <td>product_page</td>\n",
       "      <td>B</td>\n",
       "      <td>459</td>\n",
       "      <td>55.84</td>\n",
       "      <td>55.84</td>\n",
       "    </tr>\n",
       "    <tr>\n",
       "      <th>4</th>\n",
       "      <td>product_cart</td>\n",
       "      <td>A</td>\n",
       "      <td>728</td>\n",
       "      <td>46.34</td>\n",
       "      <td>30.06</td>\n",
       "    </tr>\n",
       "    <tr>\n",
       "      <th>5</th>\n",
       "      <td>product_cart</td>\n",
       "      <td>B</td>\n",
       "      <td>225</td>\n",
       "      <td>49.02</td>\n",
       "      <td>27.37</td>\n",
       "    </tr>\n",
       "    <tr>\n",
       "      <th>6</th>\n",
       "      <td>purchase</td>\n",
       "      <td>A</td>\n",
       "      <td>773</td>\n",
       "      <td>106.18</td>\n",
       "      <td>31.92</td>\n",
       "    </tr>\n",
       "    <tr>\n",
       "      <th>7</th>\n",
       "      <td>purchase</td>\n",
       "      <td>B</td>\n",
       "      <td>226</td>\n",
       "      <td>100.44</td>\n",
       "      <td>27.49</td>\n",
       "    </tr>\n",
       "  </tbody>\n",
       "</table>\n",
       "</div>"
      ],
      "text/plain": [
       "     event_name group  user_id  share_per_step  ttl_share\n",
       "0         login     A     2422          100.00     100.00\n",
       "1         login     B      822          100.00     100.00\n",
       "2  product_page     A     1571           64.86      64.86\n",
       "3  product_page     B      459           55.84      55.84\n",
       "4  product_cart     A      728           46.34      30.06\n",
       "5  product_cart     B      225           49.02      27.37\n",
       "6      purchase     A      773          106.18      31.92\n",
       "7      purchase     B      226          100.44      27.49"
      ]
     },
     "execution_count": 42,
     "metadata": {},
     "output_type": "execute_result"
    }
   ],
   "source": [
    "share = [round(uniq_users_per_event['user_id'][i] / uniq_users_per_event['user_id'].iloc[i - 2] * 100, 2)\n",
    "         for i in range(len(uniq_users_per_event['user_id']))]\n",
    "share[0] = 100\n",
    "share[1] = 100\n",
    "\n",
    "ttl_share = [round(uniq_users_per_event['user_id'][i] / uniq_users_per_event['user_id'][0] * 100, 2) if i%2 == 0 else \\\n",
    "             round(uniq_users_per_event['user_id'][i] / uniq_users_per_event['user_id'][1] * 100, 2)\n",
    "         for i in range(len(uniq_users_per_event['user_id']))]\n",
    "\n",
    "uniq_users_per_event['share_per_step'] = share\n",
    "uniq_users_per_event['ttl_share'] = ttl_share\n",
    "uniq_users_per_event"
   ]
  },
  {
   "cell_type": "code",
   "execution_count": 52,
   "id": "625c2126",
   "metadata": {},
   "outputs": [
    {
     "data": {
      "image/png": "[encoded data removed]"
     },
     "metadata": {},
     "output_type": "display_data"
    }
   ],
   "source": [
    "fig = go.Figure()\n",
    "\n",
    "fig.add_trace(go.Funnel(\n",
    "    name = 'A',\n",
    "    y = uniq_users_per_event.query('group == \"A\"')['event_name'],\n",
    "    x = uniq_users_per_event.query('group == \"A\"')['user_id'],\n",
    "    textinfo = \"value+percent previous\"))\n",
    "\n",
    "fig.add_trace(go.Funnel(\n",
    "    name = 'B',\n",
    "    orientation = \"h\",\n",
    "    y = uniq_users_per_event.query('group == \"B\"')['event_name'],\n",
    "    x = uniq_users_per_event.query('group == \"B\"')['user_id'],\n",
    "    textposition = \"inside\",\n",
    "    textinfo = \"value+percent previous\"))\n",
    "\n",
    "fig.show(renderer=\"png\", width=1000, height=500)"
   ]
  },
  {
   "cell_type": "markdown",
   "id": "1b8a55cd",
   "metadata": {},
   "source": [
    "Почти на всех этапах конверсия в группе В хуже, чем в А. На этапе `product_cart` есть небольшое улучшение по сравнению с группой А, однако улучшения метрики на 10% не наблюдается нигде. Если рассматривать процент пользователей, которые дошли до некоторого этапа относительно первого, то по всем шагам группа В проигрывает.\n",
    "\n",
    "Интересно также заметить, что до этапа покупка доходит больше пользователей, чем предыдущего этапа - просмотр корзины. Вероятно, есть возможность купить товар сразу со страницы продукта."
   ]
  },
  {
   "cell_type": "markdown",
   "id": "5a9c1cfc",
   "metadata": {},
   "source": [
    "Прежде чем приступать к тестированию необходимо определить минимальный размер групп и длительность теста на основе имеющихся данных: базовая конверсия, относительное изменение конверсии, среднее количество посещений в день и какой процент пользователей будет задейстован в тесте.\n",
    "\n",
    "Также важно при возможности проводить А/А тестирование, чтобы проверить корректность распределения пользователей по группам. Важно проводить тестирования в обычное, не предпраздничное время / не во время маркетингово события, чтобы данные не искажались. А также с осторожностью проводить несколько тестоводновременно, чтобы не получилась ситуация, когда пользователи сразу увидели все изменения.\n",
    "\n",
    "В нашем случае получается, что наша базовая конверсия - 32%, относительное изменение конверсии - 10%, тогда используя калькулятор, найдем, что размеры каждой группы должны составлять хотя бы 3360. В нашем же тесте 5918 пользователей, из еоторых действия совершали только 2422 и 822 пользователя в группах А и В соответсвенно. То есть для корректного анализа у нас недостаточно данных."
   ]
  },
  {
   "cell_type": "markdown",
   "id": "97bd2a08",
   "metadata": {},
   "source": [
    "## Оценка результатов A/B-тестирования"
   ]
  },
  {
   "cell_type": "markdown",
   "id": "271bfee5",
   "metadata": {},
   "source": [
    "Чтобы оценить результаты тестирования проверим несколько гипотез. Однако уже из воронки видно, что улучшений в группе В относително группы А нет."
   ]
  },
  {
   "cell_type": "markdown",
   "id": "e606d711",
   "metadata": {},
   "source": [
    "Проверим гипотезу, о том что конверсия в покупателей у группы А и В одинаковые:\n",
    " - $H_0$: доли уникальных посетителей, побывавших на некотором этапе воронки, одинаковы.\n",
    " - $H_1$: между долями уникальных посетителей, побывавших на некотором этапе воронки, есть значимая разница."
   ]
  },
  {
   "cell_type": "code",
   "execution_count": 44,
   "id": "a51b6865",
   "metadata": {},
   "outputs": [
    {
     "data": {
      "text/html": [
       "<div>\n",
       "<style scoped>\n",
       "    .dataframe tbody tr th:only-of-type {\n",
       "        vertical-align: middle;\n",
       "    }\n",
       "\n",
       "    .dataframe tbody tr th {\n",
       "        vertical-align: top;\n",
       "    }\n",
       "\n",
       "    .dataframe thead th {\n",
       "        text-align: right;\n",
       "    }\n",
       "</style>\n",
       "<table border=\"1\" class=\"dataframe\">\n",
       "  <thead>\n",
       "    <tr style=\"text-align: right;\">\n",
       "      <th>event_name</th>\n",
       "      <th>login</th>\n",
       "      <th>product_page</th>\n",
       "      <th>product_cart</th>\n",
       "      <th>purchase</th>\n",
       "      <th>All</th>\n",
       "    </tr>\n",
       "    <tr>\n",
       "      <th>group</th>\n",
       "      <th></th>\n",
       "      <th></th>\n",
       "      <th></th>\n",
       "      <th></th>\n",
       "      <th></th>\n",
       "    </tr>\n",
       "  </thead>\n",
       "  <tbody>\n",
       "    <tr>\n",
       "      <th>A</th>\n",
       "      <td>2422</td>\n",
       "      <td>1571</td>\n",
       "      <td>728</td>\n",
       "      <td>773</td>\n",
       "      <td>2422</td>\n",
       "    </tr>\n",
       "    <tr>\n",
       "      <th>B</th>\n",
       "      <td>822</td>\n",
       "      <td>459</td>\n",
       "      <td>225</td>\n",
       "      <td>226</td>\n",
       "      <td>822</td>\n",
       "    </tr>\n",
       "    <tr>\n",
       "      <th>All</th>\n",
       "      <td>3244</td>\n",
       "      <td>2030</td>\n",
       "      <td>953</td>\n",
       "      <td>999</td>\n",
       "      <td>3244</td>\n",
       "    </tr>\n",
       "  </tbody>\n",
       "</table>\n",
       "</div>"
      ],
      "text/plain": [
       "event_name  login  product_page  product_cart  purchase   All\n",
       "group                                                        \n",
       "A            2422          1571           728       773  2422\n",
       "B             822           459           225       226   822\n",
       "All          3244          2030           953       999  3244"
      ]
     },
     "execution_count": 44,
     "metadata": {},
     "output_type": "execute_result"
    }
   ],
   "source": [
    "# составим сводную таблицу - воронка для каждой группы эксперимента\n",
    "\n",
    "voronka = (\n",
    "    data\n",
    "    .pivot_table(index='group', columns='event_name', values='user_id',\n",
    "                 aggfunc='nunique', margins=True)\n",
    ")\n",
    "\n",
    "voronka = voronka[['login', 'product_page', 'product_cart', 'purchase', 'All']]\n",
    "\n",
    "voronka"
   ]
  },
  {
   "cell_type": "code",
   "execution_count": 45,
   "id": "ec20021f",
   "metadata": {},
   "outputs": [],
   "source": [
    "# выберем уровень значимости\n",
    "alpha = 0.05"
   ]
  },
  {
   "cell_type": "code",
   "execution_count": 46,
   "id": "98858bd3",
   "metadata": {},
   "outputs": [],
   "source": [
    "# напишем функцию, которая проверяет равенство долей групп\n",
    "# где параметр event принимает значения события в воронке до которого дошли пользователи\n",
    "# product_page, product_cart, purchase, All\n",
    "\n",
    "def is_there_diff(event):\n",
    "    last_step = np.array([voronka.loc['A', event],\n",
    "                          voronka.loc['B', event]])\n",
    "    \n",
    "    first_step = np.array([voronka.loc['A', 'All'], voronka.loc['B', 'All']])\n",
    "    \n",
    "    p1 = last_step[0] / first_step[0]\n",
    "    p2 = last_step[1] / first_step[1]\n",
    "    p_combined = (last_step[0] + last_step[1]) / (first_step[0] + first_step[1])\n",
    "    \n",
    "    z_value = (p1 - p2) / mth.sqrt(p_combined * (1 - p_combined) * (1 / first_step[0] + 1 / first_step[1]))\n",
    "    distr = st.norm(0, 1)\n",
    "    \n",
    "    p_value = (1 - distr.cdf(abs(z_value))) * 2\n",
    "    \n",
    "    print('p-значение: ', p_value)\n",
    "    if p_value < alpha:\n",
    "        print('Отвергаем нулевую гипотезу: между долями уникальных пользователей, побывавших на этапе',\n",
    "              event, 'есть значимая разница')\n",
    "    else:\n",
    "        print('Не получилось отвергнуть нулевую гипотезу, нет оснований считать доли уникальных пользователей, побывавших на этапе', event, 'разными')"
   ]
  },
  {
   "cell_type": "code",
   "execution_count": 47,
   "id": "13545240",
   "metadata": {},
   "outputs": [],
   "source": [
    "# напишем функцию, которая будет сообщать нам число и долю пользователей, дошедших до определенного шага воронки\n",
    "def func(group, event):\n",
    "    print(f'''В {group} группе до этапа {event} дошло {voronka.loc[group, event]} пользователей.\n",
    "Это составляет {round(voronka.loc[group, event] / voronka.loc[group, 'All'], 2)} от общего числа пользователей группы.''')\n",
    "    print()"
   ]
  },
  {
   "cell_type": "code",
   "execution_count": 48,
   "id": "50f5ad1b",
   "metadata": {},
   "outputs": [
    {
     "name": "stdout",
     "output_type": "stream",
     "text": [
      "В A группе до этапа product_page дошло 1571 пользователей.\n",
      "Это составляет 0.65 от общего числа пользователей группы.\n",
      "\n",
      "В B группе до этапа product_page дошло 459 пользователей.\n",
      "Это составляет 0.56 от общего числа пользователей группы.\n",
      "\n",
      "p-значение:  3.8415005565450855e-06\n",
      "Отвергаем нулевую гипотезу: между долями уникальных пользователей, побывавших на этапе product_page есть значимая разница\n"
     ]
    }
   ],
   "source": [
    "func('A', 'product_page')\n",
    "func('B', 'product_page')\n",
    "is_there_diff('product_page')"
   ]
  },
  {
   "cell_type": "markdown",
   "id": "8adc8c0a",
   "metadata": {},
   "source": [
    "Между долями дошедших пользователей до этапа просмотр страницы продукта есть значимая разница. Таким образом, данный этап группа В провалила."
   ]
  },
  {
   "cell_type": "code",
   "execution_count": 49,
   "id": "d274a755",
   "metadata": {},
   "outputs": [
    {
     "name": "stdout",
     "output_type": "stream",
     "text": [
      "В A группе до этапа product_cart дошло 728 пользователей.\n",
      "Это составляет 0.3 от общего числа пользователей группы.\n",
      "\n",
      "В B группе до этапа product_cart дошло 225 пользователей.\n",
      "Это составляет 0.27 от общего числа пользователей группы.\n",
      "\n",
      "p-значение:  0.14412076974264498\n",
      "Не получилось отвергнуть нулевую гипотезу, нет оснований считать доли уникальных пользователей, побывавших на этапе product_cart разными\n"
     ]
    }
   ],
   "source": [
    "func('A', 'product_cart')\n",
    "func('B', 'product_cart')\n",
    "is_there_diff('product_cart')"
   ]
  },
  {
   "cell_type": "markdown",
   "id": "bfa02855",
   "metadata": {},
   "source": [
    "Между долями дошедших пользователей до этапа просмотр корзины значимой разницы нет. Таким образом, данный показатель группы В не ухудшился."
   ]
  },
  {
   "cell_type": "code",
   "execution_count": 50,
   "id": "b9df0b05",
   "metadata": {},
   "outputs": [
    {
     "name": "stdout",
     "output_type": "stream",
     "text": [
      "В A группе до этапа purchase дошло 773 пользователей.\n",
      "Это составляет 0.32 от общего числа пользователей группы.\n",
      "\n",
      "В B группе до этапа purchase дошло 226 пользователей.\n",
      "Это составляет 0.27 от общего числа пользователей группы.\n",
      "\n",
      "p-значение:  0.01764968717521609\n",
      "Отвергаем нулевую гипотезу: между долями уникальных пользователей, побывавших на этапе purchase есть значимая разница\n"
     ]
    }
   ],
   "source": [
    "func('A', 'purchase')\n",
    "func('B', 'purchase')\n",
    "is_there_diff('purchase')"
   ]
  },
  {
   "cell_type": "markdown",
   "id": "9b43840e",
   "metadata": {},
   "source": [
    "И последний этап также показал значимую разницу в пользу группы А. "
   ]
  },
  {
   "cell_type": "markdown",
   "id": "54df1e89",
   "metadata": {},
   "source": [
    "## Выводы\n",
    "Опишите выводы по этапу исследовательского анализа данных и по проведённой оценке результатов A/B-тестирования. Сделайте общее заключение о корректности проведения теста."
   ]
  },
  {
   "cell_type": "markdown",
   "id": "07ff699b",
   "metadata": {},
   "source": [
    "Подведем итоги исследовательского анализа и оценки A/B-тестирования.\n",
    "- В среднем в контрольной группе пользователи совершают больше событий - 7, чем в тестовой - 5.7, однако разница небольшая. Можно считать, что количество событий на пользователей одинаково распределены в выборках.\n",
    "\n",
    "\n",
    "- События пользователей по дням распределены по-разному в группах.\n",
    "  - В контрольной группе в перую неделю было очень мало событий. Основное количество событий пришлось на 2 и начало 3 недели. К концу 3 недели показатели вернулись к показателям первой недели.\n",
    "  - В тестовой же группе первые две недели показатели были почти стабильны, за исключением спада на 12-13 декабря. На третьей недели также, как и у контрольной был заметен спад активности, показатели опустились даже ниже, чем в 12-13 числа.\n",
    "  \n",
    "  \n",
    "- При построении воронки видно, что почти на всех этапах конверсия в группе В хуже, чем в А. На этапе `product_cart` есть небольшое улучшение по сравнению с группой А, однако улучшения метрики на 10% не наблюдается нигде. Если рассматривать процент пользователей, которые дошли до некоторого этапа относительно первого, то по всем шагам группа В проигрывает.\n",
    "\n",
    "\n",
    "- Интересно также заметить, что до этапа покупка доходит больше пользователей, чем предыдущего этапа - просмотр корзины. Вероятно, есть возможность купить товар сразу со страницы продукта.\n",
    "\n",
    "\n",
    "- При оценки результатов тесто было выявлено, что на втором и на последнем этапах разницца между долями дошедших пользователей имеет статистическую значимость, причем не в пользу группы В. На этапе `product_cart` - переход в корзину - статистической разницы между долями выявлено не было.\n",
    "\n",
    "Таким образом, тестовая группа В не то что не выявила улучшения в показателях метрик, но даже их ухудшила. Также важно отметить, что данные для тестирования были подготовлены плохо: количество активных пользователей в обеих группах не дотягивает до необходимого минимума чтобы заметить улучшения в конверсии на 10%, в данных имеется значительный всплеск во вторую неделю, как в количестве пользователей, так и в количестве их действий, что также говорит о неудачно выбранном для тестирования периоде (скорее всего всплеск вызван единичными потребностями пользователей перед праздниками)."
   ]
  }
 ],
 "metadata": {
  "kernelspec": {
   "display_name": "Python 3 (ipykernel)",
   "language": "python",
   "name": "python3"
  },
  "language_info": {
   "codemirror_mode": {
    "name": "ipython",
    "version": 3
   },
   "file_extension": ".py",
   "mimetype": "text/x-python",
   "name": "python",
   "nbconvert_exporter": "python",
   "pygments_lexer": "ipython3",
   "version": "3.9.12"
  }
 },
 "nbformat": 4,
 "nbformat_minor": 5
}
