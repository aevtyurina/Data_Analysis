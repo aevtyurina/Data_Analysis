{
 "cells": [
  {
   "cell_type": "markdown",
   "id": "8dedfdf4",
   "metadata": {},
   "source": [
    "# Исследование поведения пользователей мобильного приложения"
   ]
  },
  {
   "cell_type": "markdown",
   "id": "13e78fd3",
   "metadata": {},
   "source": [
    "В нашем распоряжении данные пользователей нового мобильного приложения. Необходимо изучить поведение этих пользователей. Основные задачи:\n",
    " - Изучить воронку продаж. Узнайть, как пользователи доходят до покупки. Сколько пользователей доходит до покупки, а сколько — «застревает» на предыдущих шагах? На каких именно?\n",
    " - Исследовать результаты A/A/B-эксперимента. Гипотеза - изменение шрифта во всём приложении не окажет негативного влияния на пользователей. Пользователей разбили на 3 группы: 2 контрольные со старыми шрифтами и одну экспериментальную — с новыми. Выяснить, какой шрифт лучше.\n",
    " \n",
    "Файл с данными содержит записи в логе, каждая из которых — это действие пользователя, или событие.\n",
    "\n",
    "- `EventName` — название события;\n",
    "- `DeviceIDHash` — уникальный идентификатор пользователя;\n",
    "- `EventTimestamp` — время события;\n",
    "- `ExpId` — номер эксперимента: 246 и 247 — контрольные группы, а 248 — экспериментальная."
   ]
  },
  {
   "cell_type": "markdown",
   "id": "c534141b",
   "metadata": {},
   "source": [
    "## Знакомство с данными"
   ]
  },
  {
   "cell_type": "code",
   "execution_count": 1,
   "id": "afed1b4d",
   "metadata": {},
   "outputs": [],
   "source": [
    "import pandas as pd\n",
    "import matplotlib.pyplot as plt\n",
    "from scipy import stats as st\n",
    "import datetime as dt\n",
    "import numpy as np\n",
    "import math as mth\n",
    "import seaborn as sns\n",
    "import plotly.express as px"
   ]
  },
  {
   "cell_type": "code",
   "execution_count": 2,
   "id": "3aa37976",
   "metadata": {},
   "outputs": [],
   "source": [
    "import plotly.io as pio \n",
    "pio.renderers.default = \"png\" \n",
    "svg_renderer = pio.renderers[\"png\"] \n",
    "svg_renderer.scale = 1.3"
   ]
  },
  {
   "cell_type": "code",
   "execution_count": 3,
   "id": "7b82f0b7",
   "metadata": {},
   "outputs": [],
   "source": [
    "try:\n",
    "    logs_exp = pd.read_csv('logs_exp.csv', sep='\\t')\n",
    "except:\n",
    "    logs_exp = pd.read_csv('/datasets/logs_exp.csv', sep='\\t')"
   ]
  },
  {
   "cell_type": "code",
   "execution_count": 4,
   "id": "1c59a7eb",
   "metadata": {},
   "outputs": [
    {
     "data": {
      "text/html": [
       "<div>\n",
       "<style scoped>\n",
       "    .dataframe tbody tr th:only-of-type {\n",
       "        vertical-align: middle;\n",
       "    }\n",
       "\n",
       "    .dataframe tbody tr th {\n",
       "        vertical-align: top;\n",
       "    }\n",
       "\n",
       "    .dataframe thead th {\n",
       "        text-align: right;\n",
       "    }\n",
       "</style>\n",
       "<table border=\"1\" class=\"dataframe\">\n",
       "  <thead>\n",
       "    <tr style=\"text-align: right;\">\n",
       "      <th></th>\n",
       "      <th>EventName</th>\n",
       "      <th>DeviceIDHash</th>\n",
       "      <th>EventTimestamp</th>\n",
       "      <th>ExpId</th>\n",
       "    </tr>\n",
       "  </thead>\n",
       "  <tbody>\n",
       "    <tr>\n",
       "      <th>0</th>\n",
       "      <td>MainScreenAppear</td>\n",
       "      <td>4575588528974610257</td>\n",
       "      <td>1564029816</td>\n",
       "      <td>246</td>\n",
       "    </tr>\n",
       "    <tr>\n",
       "      <th>1</th>\n",
       "      <td>MainScreenAppear</td>\n",
       "      <td>7416695313311560658</td>\n",
       "      <td>1564053102</td>\n",
       "      <td>246</td>\n",
       "    </tr>\n",
       "    <tr>\n",
       "      <th>2</th>\n",
       "      <td>PaymentScreenSuccessful</td>\n",
       "      <td>3518123091307005509</td>\n",
       "      <td>1564054127</td>\n",
       "      <td>248</td>\n",
       "    </tr>\n",
       "    <tr>\n",
       "      <th>3</th>\n",
       "      <td>CartScreenAppear</td>\n",
       "      <td>3518123091307005509</td>\n",
       "      <td>1564054127</td>\n",
       "      <td>248</td>\n",
       "    </tr>\n",
       "    <tr>\n",
       "      <th>4</th>\n",
       "      <td>PaymentScreenSuccessful</td>\n",
       "      <td>6217807653094995999</td>\n",
       "      <td>1564055322</td>\n",
       "      <td>248</td>\n",
       "    </tr>\n",
       "    <tr>\n",
       "      <th>...</th>\n",
       "      <td>...</td>\n",
       "      <td>...</td>\n",
       "      <td>...</td>\n",
       "      <td>...</td>\n",
       "    </tr>\n",
       "    <tr>\n",
       "      <th>244121</th>\n",
       "      <td>MainScreenAppear</td>\n",
       "      <td>4599628364049201812</td>\n",
       "      <td>1565212345</td>\n",
       "      <td>247</td>\n",
       "    </tr>\n",
       "    <tr>\n",
       "      <th>244122</th>\n",
       "      <td>MainScreenAppear</td>\n",
       "      <td>5849806612437486590</td>\n",
       "      <td>1565212439</td>\n",
       "      <td>246</td>\n",
       "    </tr>\n",
       "    <tr>\n",
       "      <th>244123</th>\n",
       "      <td>MainScreenAppear</td>\n",
       "      <td>5746969938801999050</td>\n",
       "      <td>1565212483</td>\n",
       "      <td>246</td>\n",
       "    </tr>\n",
       "    <tr>\n",
       "      <th>244124</th>\n",
       "      <td>MainScreenAppear</td>\n",
       "      <td>5746969938801999050</td>\n",
       "      <td>1565212498</td>\n",
       "      <td>246</td>\n",
       "    </tr>\n",
       "    <tr>\n",
       "      <th>244125</th>\n",
       "      <td>OffersScreenAppear</td>\n",
       "      <td>5746969938801999050</td>\n",
       "      <td>1565212517</td>\n",
       "      <td>246</td>\n",
       "    </tr>\n",
       "  </tbody>\n",
       "</table>\n",
       "<p>244126 rows × 4 columns</p>\n",
       "</div>"
      ],
      "text/plain": [
       "                      EventName         DeviceIDHash  EventTimestamp  ExpId\n",
       "0              MainScreenAppear  4575588528974610257      1564029816    246\n",
       "1              MainScreenAppear  7416695313311560658      1564053102    246\n",
       "2       PaymentScreenSuccessful  3518123091307005509      1564054127    248\n",
       "3              CartScreenAppear  3518123091307005509      1564054127    248\n",
       "4       PaymentScreenSuccessful  6217807653094995999      1564055322    248\n",
       "...                         ...                  ...             ...    ...\n",
       "244121         MainScreenAppear  4599628364049201812      1565212345    247\n",
       "244122         MainScreenAppear  5849806612437486590      1565212439    246\n",
       "244123         MainScreenAppear  5746969938801999050      1565212483    246\n",
       "244124         MainScreenAppear  5746969938801999050      1565212498    246\n",
       "244125       OffersScreenAppear  5746969938801999050      1565212517    246\n",
       "\n",
       "[244126 rows x 4 columns]"
      ]
     },
     "execution_count": 4,
     "metadata": {},
     "output_type": "execute_result"
    }
   ],
   "source": [
    "logs_exp"
   ]
  },
  {
   "cell_type": "code",
   "execution_count": 5,
   "id": "6f201c72",
   "metadata": {},
   "outputs": [
    {
     "name": "stdout",
     "output_type": "stream",
     "text": [
      "<class 'pandas.core.frame.DataFrame'>\n",
      "RangeIndex: 244126 entries, 0 to 244125\n",
      "Data columns (total 4 columns):\n",
      " #   Column          Non-Null Count   Dtype \n",
      "---  ------          --------------   ----- \n",
      " 0   EventName       244126 non-null  object\n",
      " 1   DeviceIDHash    244126 non-null  int64 \n",
      " 2   EventTimestamp  244126 non-null  int64 \n",
      " 3   ExpId           244126 non-null  int64 \n",
      "dtypes: int64(3), object(1)\n",
      "memory usage: 7.5+ MB\n"
     ]
    }
   ],
   "source": [
    "logs_exp.info()"
   ]
  },
  {
   "cell_type": "markdown",
   "id": "a212a99e",
   "metadata": {},
   "source": [
    "**Вывод:**\n",
    "На первый вгляд данные хорошие - без пропусков и в достаточном для анализа количестве. Выбран необычный тип данных для хранения даты - unix time - для удобства приведем к привычному формату. Имеется расхождение с \"змеиным\" стилем в заголовках."
   ]
  },
  {
   "cell_type": "markdown",
   "id": "f5b88d50",
   "metadata": {},
   "source": [
    "## Предобработка данных"
   ]
  },
  {
   "cell_type": "code",
   "execution_count": 6,
   "id": "e27de2b7",
   "metadata": {},
   "outputs": [],
   "source": [
    "# меняем стиль заголовков\n",
    "logs_exp.columns = ['event_name', 'device_id_hash', 'event_timestamp', 'exp_id']"
   ]
  },
  {
   "cell_type": "code",
   "execution_count": 7,
   "id": "a6f260e0",
   "metadata": {},
   "outputs": [],
   "source": [
    "# меняем тип данных на привычный\n",
    "logs_exp['event_timestamp'] = pd.to_datetime(logs_exp['event_timestamp'], unit='s')"
   ]
  },
  {
   "cell_type": "code",
   "execution_count": 8,
   "id": "aebcb735",
   "metadata": {},
   "outputs": [],
   "source": [
    "logs_exp['date'] = logs_exp['event_timestamp'].dt.date\n",
    "logs_exp['date'] = pd.to_datetime(logs_exp['date'])"
   ]
  },
  {
   "cell_type": "code",
   "execution_count": 9,
   "id": "aba43e39",
   "metadata": {},
   "outputs": [
    {
     "name": "stdout",
     "output_type": "stream",
     "text": [
      "В таблице 413 явных дубликатов, что составляет 0.17 %\n"
     ]
    }
   ],
   "source": [
    "print('В таблице', logs_exp.duplicated().sum(), 'явных дубликатов, что составляет',\n",
    "      round(logs_exp.duplicated().sum() / logs_exp.shape[0] * 100, 2), '%')"
   ]
  },
  {
   "cell_type": "code",
   "execution_count": 10,
   "id": "6e0c51fe",
   "metadata": {},
   "outputs": [],
   "source": [
    "# избавляемся от дубликатов\n",
    "logs_exp = logs_exp.drop_duplicates().reset_index(drop=True)"
   ]
  },
  {
   "cell_type": "markdown",
   "id": "a2a3306f",
   "metadata": {},
   "source": [
    "**Вывод:**\n",
    "В данных были обнаружены ( < 1% от данных) и уничтожены явные дубликаты. Тип данных столбца даты и времени был скорректирован, а также добавлен отдельный столбец с датами. Названия столбцов были скорректированы для удобства. Можно приступать к анализу."
   ]
  },
  {
   "cell_type": "markdown",
   "id": "fcefb43f",
   "metadata": {},
   "source": [
    "## Анализ данных таблицы"
   ]
  },
  {
   "cell_type": "code",
   "execution_count": 11,
   "id": "6d7cc2fc",
   "metadata": {},
   "outputs": [
    {
     "data": {
      "text/plain": [
       "5"
      ]
     },
     "execution_count": 11,
     "metadata": {},
     "output_type": "execute_result"
    }
   ],
   "source": [
    "# найдем число уникальных событий\n",
    "len(logs_exp['event_name'].unique())"
   ]
  },
  {
   "cell_type": "code",
   "execution_count": 12,
   "id": "4229abe9",
   "metadata": {},
   "outputs": [
    {
     "data": {
      "text/plain": [
       "7551"
      ]
     },
     "execution_count": 12,
     "metadata": {},
     "output_type": "execute_result"
    }
   ],
   "source": [
    "# найдем число уникальных пользователей\n",
    "len(logs_exp['device_id_hash'].unique())"
   ]
  },
  {
   "cell_type": "code",
   "execution_count": 13,
   "id": "5c66229e",
   "metadata": {},
   "outputs": [
    {
     "name": "stdout",
     "output_type": "stream",
     "text": [
      "Среднее число событий на пользователя: 32.27559263673685\n",
      "Медианное число событий на пользователя: 20.0\n"
     ]
    }
   ],
   "source": [
    "# посчитаем среднее количество событий на пользователя\n",
    "print('Среднее число событий на пользователя:',\n",
    "      logs_exp.groupby('device_id_hash').agg({'event_name': 'count'})['event_name'].mean())\n",
    "print(\"Медианное число событий на пользователя:\",\n",
    "      logs_exp.groupby('device_id_hash').agg({'event_name': 'count'})['event_name'].median())"
   ]
  },
  {
   "cell_type": "code",
   "execution_count": 14,
   "id": "dc0893e9",
   "metadata": {},
   "outputs": [
    {
     "name": "stdout",
     "output_type": "stream",
     "text": [
      "2019-07-25 00:00:00 2019-08-07 00:00:00\n"
     ]
    }
   ],
   "source": [
    "# найдем горизонт событий\n",
    "min_date = logs_exp['date'].min()\n",
    "max_date = logs_exp['date'].max()\n",
    "\n",
    "print(min_date, max_date)"
   ]
  },
  {
   "cell_type": "code",
   "execution_count": 15,
   "id": "7b23f91d",
   "metadata": {},
   "outputs": [
    {
     "data": {
      "image/png": "[encoded data removed]",
      "text/plain": [
       "<Figure size 1224x504 with 1 Axes>"
      ]
     },
     "metadata": {
      "needs_background": "light"
     },
     "output_type": "display_data"
    }
   ],
   "source": [
    "# посмотрим, как распределены ззаписи относительно времени\n",
    "fig, ax = plt.subplots(figsize=(17, 7))\n",
    "ax.grid()\n",
    "ax.set_title('Распределение данных во времени' + '\\n', fontsize = 15)\n",
    "sns.histplot(data=logs_exp['event_timestamp'], ax=ax);\n",
    "plt.show()"
   ]
  },
  {
   "cell_type": "markdown",
   "id": "bcdbb1c6",
   "metadata": {},
   "source": [
    "Из графика можно сделать вывод, что данные неравномерно распределены в заданном периоде. Очень сильно заметна разница между числом зиписей до и после отметки 1 августа, а также в дневное и ночное время. Для корректности оставим только август, где данные актуальны,а более старые отбросим.\n",
    "\n",
    "Тогда реальный горизонт событий с 1 по 7 августа."
   ]
  },
  {
   "cell_type": "code",
   "execution_count": 16,
   "id": "f1bc51f4",
   "metadata": {},
   "outputs": [],
   "source": [
    "# убираем неполные данные\n",
    "data = logs_exp.query('date >= \"2019-08-01\"')"
   ]
  },
  {
   "cell_type": "code",
   "execution_count": 17,
   "id": "80e63fbb",
   "metadata": {},
   "outputs": [
    {
     "name": "stdout",
     "output_type": "stream",
     "text": [
      "После корректировки данных осталось 240887 уникальных событий. Изменение составляет 2826 записей, т.е. 0.0117\n",
      "После корректировки данных осталось 7534 уникальных пользователя. Изменение составляет 17 пользователей, т.е. 0.0023\n"
     ]
    }
   ],
   "source": [
    "# проверим как изменилось число уникальных событий и пользователей\n",
    "print('После корректировки данных осталось', len(data),\n",
    "      'уникальных событий. Изменение составляет', len(logs_exp) - len(data), 'записей, т.е.',\n",
    "      round((len(logs_exp) - len(data)) / len(data), 4))\n",
    "\n",
    "print('После корректировки данных осталось', len(data['device_id_hash'].unique()),\n",
    "      'уникальных пользователя. Изменение составляет',\n",
    "      len(logs_exp['device_id_hash'].unique()) - len(data['device_id_hash'].unique()), 'пользователей, т.е.',\n",
    "      round((len(logs_exp['device_id_hash'].unique()) - len(data['device_id_hash'].unique())) /\n",
    "            len(data['device_id_hash'].unique()), 4))"
   ]
  },
  {
   "cell_type": "markdown",
   "id": "ef5bd542",
   "metadata": {},
   "source": [
    "Число  событий и число уникальных пользователей сократилось, но не критично.\n",
    "\n",
    "Теперь проверим, что у нас есть пользователи из всех групп тестирования, заодно проверим их соотношение."
   ]
  },
  {
   "cell_type": "code",
   "execution_count": 18,
   "id": "da1adc3a",
   "metadata": {},
   "outputs": [
    {
     "data": {
      "text/plain": [
       "array([246, 247, 248], dtype=int64)"
      ]
     },
     "execution_count": 18,
     "metadata": {},
     "output_type": "execute_result"
    }
   ],
   "source": [
    "data['exp_id'].unique()"
   ]
  },
  {
   "cell_type": "markdown",
   "id": "77c1a5fd",
   "metadata": {},
   "source": [
    "**Вывод:**\n",
    "В данных была обнаружена неравномерность относительно времени. После среза полных данных были потеряны события и уникальные пользователи в небольшом количестве (не больше  1%). Представители всех групп остались в срезе."
   ]
  },
  {
   "cell_type": "markdown",
   "id": "f76c8730",
   "metadata": {},
   "source": [
    "## Формирование и анализ воронки"
   ]
  },
  {
   "cell_type": "code",
   "execution_count": 19,
   "id": "51421514",
   "metadata": {},
   "outputs": [
    {
     "data": {
      "text/plain": [
       "MainScreenAppear           117328\n",
       "OffersScreenAppear          46333\n",
       "CartScreenAppear            42303\n",
       "PaymentScreenSuccessful     33918\n",
       "Tutorial                     1005\n",
       "Name: event_name, dtype: int64"
      ]
     },
     "execution_count": 19,
     "metadata": {},
     "output_type": "execute_result"
    }
   ],
   "source": [
    "# посмотрим, какие есть события и как часто они встречаются\n",
    "data['event_name'].value_counts()"
   ]
  },
  {
   "cell_type": "code",
   "execution_count": 20,
   "id": "393d3a0e",
   "metadata": {},
   "outputs": [
    {
     "data": {
      "image/png": "[encoded data removed]",
      "text/plain": [
       "<Figure size 1080x504 with 1 Axes>"
      ]
     },
     "metadata": {
      "needs_background": "light"
     },
     "output_type": "display_data"
    }
   ],
   "source": [
    "fig, ax = plt.subplots(figsize=(15, 7))\n",
    "ax.set_title('Количество событий' + '\\n', fontsize = 15)\n",
    "data['event_name'].value_counts().sort_values().plot(kind='barh', ax=ax, grid=True)\n",
    "plt.show()"
   ]
  },
  {
   "cell_type": "code",
   "execution_count": 21,
   "id": "6d04f3d5",
   "metadata": {},
   "outputs": [
    {
     "data": {
      "text/html": [
       "<div>\n",
       "<style scoped>\n",
       "    .dataframe tbody tr th:only-of-type {\n",
       "        vertical-align: middle;\n",
       "    }\n",
       "\n",
       "    .dataframe tbody tr th {\n",
       "        vertical-align: top;\n",
       "    }\n",
       "\n",
       "    .dataframe thead th {\n",
       "        text-align: right;\n",
       "    }\n",
       "</style>\n",
       "<table border=\"1\" class=\"dataframe\">\n",
       "  <thead>\n",
       "    <tr style=\"text-align: right;\">\n",
       "      <th></th>\n",
       "      <th>device_id_hash</th>\n",
       "    </tr>\n",
       "    <tr>\n",
       "      <th>event_name</th>\n",
       "      <th></th>\n",
       "    </tr>\n",
       "  </thead>\n",
       "  <tbody>\n",
       "    <tr>\n",
       "      <th>MainScreenAppear</th>\n",
       "      <td>7419</td>\n",
       "    </tr>\n",
       "    <tr>\n",
       "      <th>OffersScreenAppear</th>\n",
       "      <td>4593</td>\n",
       "    </tr>\n",
       "    <tr>\n",
       "      <th>CartScreenAppear</th>\n",
       "      <td>3734</td>\n",
       "    </tr>\n",
       "    <tr>\n",
       "      <th>PaymentScreenSuccessful</th>\n",
       "      <td>3539</td>\n",
       "    </tr>\n",
       "    <tr>\n",
       "      <th>Tutorial</th>\n",
       "      <td>840</td>\n",
       "    </tr>\n",
       "  </tbody>\n",
       "</table>\n",
       "</div>"
      ],
      "text/plain": [
       "                         device_id_hash\n",
       "event_name                             \n",
       "MainScreenAppear                   7419\n",
       "OffersScreenAppear                 4593\n",
       "CartScreenAppear                   3734\n",
       "PaymentScreenSuccessful            3539\n",
       "Tutorial                            840"
      ]
     },
     "execution_count": 21,
     "metadata": {},
     "output_type": "execute_result"
    }
   ],
   "source": [
    "# посмотрим, сколько уникальных пользователей совершили каждое событие\n",
    "uniq_users_per_event = (\n",
    "    data\n",
    "    .groupby('event_name')\n",
    "    .agg({'device_id_hash': 'nunique'})\n",
    ")\n",
    "uniq_users_per_event.sort_values(by='device_id_hash', ascending=False)"
   ]
  },
  {
   "cell_type": "code",
   "execution_count": 22,
   "id": "aa5a559b",
   "metadata": {},
   "outputs": [
    {
     "data": {
      "image/png": "[encoded data removed]",
      "text/plain": [
       "<Figure size 1080x504 with 1 Axes>"
      ]
     },
     "metadata": {
      "needs_background": "light"
     },
     "output_type": "display_data"
    }
   ],
   "source": [
    "fig, ax = plt.subplots(figsize=(15, 7))\n",
    "ax.set_title('Количество уникальных пользователей на событие' + '\\n', fontsize = 15)\n",
    "(\n",
    "    uniq_users_per_event\n",
    "    .sort_values(by='device_id_hash')\n",
    "    .plot(kind='barh', ax=ax, grid=True)\n",
    ")\n",
    "plt.show()"
   ]
  },
  {
   "cell_type": "code",
   "execution_count": 23,
   "id": "8ccf7ad1",
   "metadata": {},
   "outputs": [
    {
     "data": {
      "text/html": [
       "<div>\n",
       "<style scoped>\n",
       "    .dataframe tbody tr th:only-of-type {\n",
       "        vertical-align: middle;\n",
       "    }\n",
       "\n",
       "    .dataframe tbody tr th {\n",
       "        vertical-align: top;\n",
       "    }\n",
       "\n",
       "    .dataframe thead th {\n",
       "        text-align: right;\n",
       "    }\n",
       "</style>\n",
       "<table border=\"1\" class=\"dataframe\">\n",
       "  <thead>\n",
       "    <tr style=\"text-align: right;\">\n",
       "      <th></th>\n",
       "      <th>device_id_hash</th>\n",
       "      <th>share</th>\n",
       "    </tr>\n",
       "    <tr>\n",
       "      <th>event_name</th>\n",
       "      <th></th>\n",
       "      <th></th>\n",
       "    </tr>\n",
       "  </thead>\n",
       "  <tbody>\n",
       "    <tr>\n",
       "      <th>MainScreenAppear</th>\n",
       "      <td>7419</td>\n",
       "      <td>0.985</td>\n",
       "    </tr>\n",
       "    <tr>\n",
       "      <th>OffersScreenAppear</th>\n",
       "      <td>4593</td>\n",
       "      <td>0.610</td>\n",
       "    </tr>\n",
       "    <tr>\n",
       "      <th>CartScreenAppear</th>\n",
       "      <td>3734</td>\n",
       "      <td>0.496</td>\n",
       "    </tr>\n",
       "    <tr>\n",
       "      <th>PaymentScreenSuccessful</th>\n",
       "      <td>3539</td>\n",
       "      <td>0.470</td>\n",
       "    </tr>\n",
       "    <tr>\n",
       "      <th>Tutorial</th>\n",
       "      <td>840</td>\n",
       "      <td>0.111</td>\n",
       "    </tr>\n",
       "  </tbody>\n",
       "</table>\n",
       "</div>"
      ],
      "text/plain": [
       "                         device_id_hash  share\n",
       "event_name                                    \n",
       "MainScreenAppear                   7419  0.985\n",
       "OffersScreenAppear                 4593  0.610\n",
       "CartScreenAppear                   3734  0.496\n",
       "PaymentScreenSuccessful            3539  0.470\n",
       "Tutorial                            840  0.111"
      ]
     },
     "execution_count": 23,
     "metadata": {},
     "output_type": "execute_result"
    }
   ],
   "source": [
    "# число уникальных пользователей\n",
    "uniq_users_count = data['device_id_hash'].nunique()\n",
    "\n",
    "# расчитаем какова доля пользователей, которые хоть раз совершали событие\n",
    "uniq_users_per_event['share'] = round(uniq_users_per_event['device_id_hash'] / uniq_users_count, 3)\n",
    "\n",
    "uniq_users_per_event.sort_values(by='device_id_hash', ascending=False)"
   ]
  },
  {
   "cell_type": "code",
   "execution_count": 24,
   "id": "2120e116",
   "metadata": {},
   "outputs": [
    {
     "data": {
      "image/png": "[encoded data removed]",
      "text/plain": [
       "<Figure size 1080x504 with 1 Axes>"
      ]
     },
     "metadata": {
      "needs_background": "light"
     },
     "output_type": "display_data"
    }
   ],
   "source": [
    "fig, ax = plt.subplots(figsize=(15, 7))\n",
    "ax.set_title('Доля уникальных пользователей, совершивших каждое событие' + '\\n', fontsize = 15)\n",
    "(\n",
    "    uniq_users_per_event['share']\n",
    "    .sort_values()\n",
    "    .plot(kind='barh', ax=ax, grid=True)\n",
    ")\n",
    "plt.show()"
   ]
  },
  {
   "cell_type": "markdown",
   "id": "43e5bd65",
   "metadata": {},
   "source": [
    "Из двух приведенных графиков можно сделать вывод, что события происходят в следующем порядке:\n",
    " - MainScreenAppear\n",
    " - OffersScreenAppear\n",
    " - CartScreenAppear\n",
    " - PaymentScreenSuccessful\n",
    "\n",
    "А также где-то на начальных этапах можно пройти или пропустить Tutorial. Так как этот этап является, скорее всего (ввиду своей малочисленности), необязательным, мы не будем включать его в воронку."
   ]
  },
  {
   "cell_type": "markdown",
   "id": "e482590a",
   "metadata": {},
   "source": [
    "Составим таблицу с воронкой и ее конверсией в целом и по этапам."
   ]
  },
  {
   "cell_type": "code",
   "execution_count": 25,
   "id": "a4dc0cca",
   "metadata": {},
   "outputs": [
    {
     "data": {
      "text/html": [
       "<div>\n",
       "<style scoped>\n",
       "    .dataframe tbody tr th:only-of-type {\n",
       "        vertical-align: middle;\n",
       "    }\n",
       "\n",
       "    .dataframe tbody tr th {\n",
       "        vertical-align: top;\n",
       "    }\n",
       "\n",
       "    .dataframe thead th {\n",
       "        text-align: right;\n",
       "    }\n",
       "</style>\n",
       "<table border=\"1\" class=\"dataframe\">\n",
       "  <thead>\n",
       "    <tr style=\"text-align: right;\">\n",
       "      <th></th>\n",
       "      <th>device_id_hash</th>\n",
       "      <th>share</th>\n",
       "      <th>share_per_step</th>\n",
       "    </tr>\n",
       "    <tr>\n",
       "      <th>event_name</th>\n",
       "      <th></th>\n",
       "      <th></th>\n",
       "      <th></th>\n",
       "    </tr>\n",
       "  </thead>\n",
       "  <tbody>\n",
       "    <tr>\n",
       "      <th>MainScreenAppear</th>\n",
       "      <td>7419</td>\n",
       "      <td>0.985</td>\n",
       "      <td>1.000000</td>\n",
       "    </tr>\n",
       "    <tr>\n",
       "      <th>OffersScreenAppear</th>\n",
       "      <td>4593</td>\n",
       "      <td>0.610</td>\n",
       "      <td>0.619086</td>\n",
       "    </tr>\n",
       "    <tr>\n",
       "      <th>CartScreenAppear</th>\n",
       "      <td>3734</td>\n",
       "      <td>0.496</td>\n",
       "      <td>0.812976</td>\n",
       "    </tr>\n",
       "    <tr>\n",
       "      <th>PaymentScreenSuccessful</th>\n",
       "      <td>3539</td>\n",
       "      <td>0.470</td>\n",
       "      <td>0.947777</td>\n",
       "    </tr>\n",
       "  </tbody>\n",
       "</table>\n",
       "</div>"
      ],
      "text/plain": [
       "                         device_id_hash  share  share_per_step\n",
       "event_name                                                    \n",
       "MainScreenAppear                   7419  0.985        1.000000\n",
       "OffersScreenAppear                 4593  0.610        0.619086\n",
       "CartScreenAppear                   3734  0.496        0.812976\n",
       "PaymentScreenSuccessful            3539  0.470        0.947777"
      ]
     },
     "execution_count": 25,
     "metadata": {},
     "output_type": "execute_result"
    }
   ],
   "source": [
    "uniq_users_per_event = (\n",
    "    uniq_users_per_event\n",
    "    .sort_values(by='device_id_hash', ascending=False)\n",
    "    .iloc[:-1]\n",
    "    \n",
    "    )\n",
    "share = [uniq_users_per_event['device_id_hash'][i] / uniq_users_per_event['device_id_hash'][i - 1] \n",
    "         for i in range(len(uniq_users_per_event['device_id_hash']))]\n",
    "share[0] = 1\n",
    "uniq_users_per_event['share_per_step'] = share\n",
    "uniq_users_per_event"
   ]
  },
  {
   "cell_type": "code",
   "execution_count": 26,
   "id": "8f7dc048",
   "metadata": {
    "scrolled": false
   },
   "outputs": [
    {
     "data": {
      "image/png": "[encoded data removed]"
     },
     "metadata": {},
     "output_type": "display_data"
    }
   ],
   "source": [
    "fig = px.funnel(uniq_users_per_event, x='device_id_hash', title='Воронка уникальных пользователей')\n",
    "fig.show()"
   ]
  },
  {
   "cell_type": "markdown",
   "id": "fcb39858",
   "metadata": {},
   "source": [
    "Построив воронку мы получили следующие результаты. Больше всего людей отсеивается уже при переходе на второй шаг - почти 40% не переходят. Зато на последний шаг переходят почти все пользователи.\n",
    "\n",
    "Еще один важный момент - это различие между числом уникальных пользователей на первом шаге воронки и суммой уникальных людей в срезе. Это может быть связано либо с отсеиванием еще на этапе обучения (если предположить, что он наступает до перехода на главную страницу), либо пользователи перешли со стороннего ресурса сразу на страницу предложений."
   ]
  },
  {
   "cell_type": "markdown",
   "id": "bc9c704d",
   "metadata": {},
   "source": [
    "Также из таблицы-воронки видно, что путь до конца проходит чуть меньше половины пользователей (47%), при этом в основном они отсеиваются сразу после первого шага."
   ]
  },
  {
   "cell_type": "markdown",
   "id": "96b23c31",
   "metadata": {},
   "source": [
    "**Вывод:**\n",
    "В этой части анализа мы рассмотрели сколько людей пользуется предложениями приложения. Составили воронку на основе числа пользователей, выявили необязательный этап - Tutorial, а также расчитали насколько активно пользователи переходят с одного шага воронки на другой. Выяснили, что уже после первого шага отсеивается почти 40% пользователей, что ставит под сомнение удобство и легкость перехода. Также стоит учесть, что некоторые пользователи сразу перешли на второй этап со сторонненго ресурса, из-за чего процент конверсии пользователей становится еще меньше. Однако почти все, кто дошел до этого шага, доходят до конца воронки. В совокупности всю воронку проходит чуть меньше половины пользователей - 47%."
   ]
  },
  {
   "cell_type": "markdown",
   "id": "aa9f5cdf",
   "metadata": {},
   "source": [
    "## Изучение результатов тестирования"
   ]
  },
  {
   "cell_type": "code",
   "execution_count": 27,
   "id": "363977c8",
   "metadata": {},
   "outputs": [
    {
     "data": {
      "text/html": [
       "<div>\n",
       "<style scoped>\n",
       "    .dataframe tbody tr th:only-of-type {\n",
       "        vertical-align: middle;\n",
       "    }\n",
       "\n",
       "    .dataframe tbody tr th {\n",
       "        vertical-align: top;\n",
       "    }\n",
       "\n",
       "    .dataframe thead th {\n",
       "        text-align: right;\n",
       "    }\n",
       "</style>\n",
       "<table border=\"1\" class=\"dataframe\">\n",
       "  <thead>\n",
       "    <tr style=\"text-align: right;\">\n",
       "      <th></th>\n",
       "      <th>device_id_hash</th>\n",
       "    </tr>\n",
       "    <tr>\n",
       "      <th>exp_id</th>\n",
       "      <th></th>\n",
       "    </tr>\n",
       "  </thead>\n",
       "  <tbody>\n",
       "    <tr>\n",
       "      <th>246</th>\n",
       "      <td>2484</td>\n",
       "    </tr>\n",
       "    <tr>\n",
       "      <th>247</th>\n",
       "      <td>2513</td>\n",
       "    </tr>\n",
       "    <tr>\n",
       "      <th>248</th>\n",
       "      <td>2537</td>\n",
       "    </tr>\n",
       "  </tbody>\n",
       "</table>\n",
       "</div>"
      ],
      "text/plain": [
       "        device_id_hash\n",
       "exp_id                \n",
       "246               2484\n",
       "247               2513\n",
       "248               2537"
      ]
     },
     "execution_count": 27,
     "metadata": {},
     "output_type": "execute_result"
    }
   ],
   "source": [
    "# сколько пользователей в каждой группе\n",
    "data.groupby('exp_id').agg({'device_id_hash': 'nunique'})"
   ]
  },
  {
   "cell_type": "markdown",
   "id": "249d15f1",
   "metadata": {},
   "source": [
    "Количество человек в во всех группах различно, но не сильно. Проверим, нет ли пересечений в группах."
   ]
  },
  {
   "cell_type": "code",
   "execution_count": 28,
   "id": "5a583c0f",
   "metadata": {},
   "outputs": [
    {
     "data": {
      "text/plain": [
       "exp_id    0\n",
       "dtype: int64"
      ]
     },
     "execution_count": 28,
     "metadata": {},
     "output_type": "execute_result"
    }
   ],
   "source": [
    "data.groupby('device_id_hash').agg({'exp_id': 'nunique'}).query('exp_id > 1').count()"
   ]
  },
  {
   "cell_type": "markdown",
   "id": "fe3890a4",
   "metadata": {},
   "source": [
    "Уникальных пользователей на пересечении нет.\n",
    "\n",
    "Проверим, находят ли статистические критерии разницу между выборками 246 и 247.\n",
    "\n",
    "Проверим гипотезу, о том что конверсия в покупателей у группы 246 и 247 одинаковые:\n",
    " - Нулевая гипотеза: доли уникальных посетителей, побывавших на этапе воронки, одинаковы.\n",
    " - Альтенативная гипотеза: между долями уникальных посетителей, побывавших на этапе воронки, есть значимая разница."
   ]
  },
  {
   "cell_type": "code",
   "execution_count": 29,
   "id": "261aa423",
   "metadata": {},
   "outputs": [
    {
     "data": {
      "text/html": [
       "<div>\n",
       "<style scoped>\n",
       "    .dataframe tbody tr th:only-of-type {\n",
       "        vertical-align: middle;\n",
       "    }\n",
       "\n",
       "    .dataframe tbody tr th {\n",
       "        vertical-align: top;\n",
       "    }\n",
       "\n",
       "    .dataframe thead th {\n",
       "        text-align: right;\n",
       "    }\n",
       "</style>\n",
       "<table border=\"1\" class=\"dataframe\">\n",
       "  <thead>\n",
       "    <tr style=\"text-align: right;\">\n",
       "      <th>event_name</th>\n",
       "      <th>MainScreenAppear</th>\n",
       "      <th>OffersScreenAppear</th>\n",
       "      <th>CartScreenAppear</th>\n",
       "      <th>PaymentScreenSuccessful</th>\n",
       "      <th>All</th>\n",
       "    </tr>\n",
       "    <tr>\n",
       "      <th>exp_id</th>\n",
       "      <th></th>\n",
       "      <th></th>\n",
       "      <th></th>\n",
       "      <th></th>\n",
       "      <th></th>\n",
       "    </tr>\n",
       "  </thead>\n",
       "  <tbody>\n",
       "    <tr>\n",
       "      <th>246</th>\n",
       "      <td>2450</td>\n",
       "      <td>1542</td>\n",
       "      <td>1266</td>\n",
       "      <td>1200</td>\n",
       "      <td>2484</td>\n",
       "    </tr>\n",
       "    <tr>\n",
       "      <th>247</th>\n",
       "      <td>2476</td>\n",
       "      <td>1520</td>\n",
       "      <td>1238</td>\n",
       "      <td>1158</td>\n",
       "      <td>2513</td>\n",
       "    </tr>\n",
       "    <tr>\n",
       "      <th>246_247</th>\n",
       "      <td>4926</td>\n",
       "      <td>3062</td>\n",
       "      <td>2504</td>\n",
       "      <td>2358</td>\n",
       "      <td>4997</td>\n",
       "    </tr>\n",
       "    <tr>\n",
       "      <th>248</th>\n",
       "      <td>2493</td>\n",
       "      <td>1531</td>\n",
       "      <td>1230</td>\n",
       "      <td>1181</td>\n",
       "      <td>2537</td>\n",
       "    </tr>\n",
       "  </tbody>\n",
       "</table>\n",
       "</div>"
      ],
      "text/plain": [
       "event_name  MainScreenAppear  OffersScreenAppear  CartScreenAppear  \\\n",
       "exp_id                                                               \n",
       "246                     2450                1542              1266   \n",
       "247                     2476                1520              1238   \n",
       "246_247                 4926                3062              2504   \n",
       "248                     2493                1531              1230   \n",
       "\n",
       "event_name  PaymentScreenSuccessful   All  \n",
       "exp_id                                     \n",
       "246                            1200  2484  \n",
       "247                            1158  2513  \n",
       "246_247                        2358  4997  \n",
       "248                            1181  2537  "
      ]
     },
     "execution_count": 29,
     "metadata": {},
     "output_type": "execute_result"
    }
   ],
   "source": [
    "# составим сводную таблицу - воронка для каждой группы эксперимента\n",
    "\n",
    "voronka_contr = (\n",
    "    data\n",
    "    .query('exp_id in [246, 247]')\n",
    "    .pivot_table(index='exp_id', columns='event_name', values='device_id_hash',\n",
    "                 aggfunc='nunique', margins=True, margins_name='246_247')\n",
    ")\n",
    "voronka_contr = voronka_contr.rename(columns={'246_247': 'All'})\n",
    "voronka_exp = (\n",
    "    data\n",
    "    .query('exp_id == 248')\n",
    "    .pivot_table(index='exp_id', columns='event_name', values='device_id_hash',\n",
    "                 aggfunc='nunique', margins=True)\n",
    ")\n",
    "voronka = pd.concat([voronka_contr, voronka_exp]).iloc[:-1]\n",
    "voronka = voronka[['MainScreenAppear', 'OffersScreenAppear', 'CartScreenAppear', 'PaymentScreenSuccessful', 'All']]\n",
    "\n",
    "voronka"
   ]
  },
  {
   "cell_type": "code",
   "execution_count": 30,
   "id": "77c0c543",
   "metadata": {},
   "outputs": [],
   "source": [
    "# выберем уровень значимости\n",
    "alpha = 0.05"
   ]
  },
  {
   "cell_type": "code",
   "execution_count": 31,
   "id": "38db7e2a",
   "metadata": {},
   "outputs": [],
   "source": [
    "# напишем функцию, которая проверяет равенство долей групп\n",
    "# где параметр event принимает значения события в воронке до которого дошли пользователи\n",
    "# MainScreenAppear,  OffersScreenAppear,  CartScreenAppear,  PaymentScreenSuccessful\n",
    "# параметры group1 и group2 принимают значения сравнимаемых групп\n",
    "\n",
    "def is_there_diff(group1, group2, event):\n",
    "    last_step = np.array([voronka.loc[group1, event],\n",
    "                          voronka.loc[group2, event]])\n",
    "    \n",
    "    first_step = np.array([voronka.loc[group1, 'All'], voronka.loc[group2, 'All']])\n",
    "    \n",
    "    p1 = last_step[0] / first_step[0]\n",
    "    p2 = last_step[1] / first_step[1]\n",
    "    p_combined = (last_step[0] + last_step[1]) / (first_step[0] + first_step[1])\n",
    "    \n",
    "    z_value = (p1 - p2) / mth.sqrt(p_combined * (1 - p_combined) * (1 / first_step[0] + 1 / first_step[1]))\n",
    "    distr = st.norm(0, 1)\n",
    "    \n",
    "    p_value = (1 - distr.cdf(abs(z_value))) * 2\n",
    "    \n",
    "    print('p-значение: ', p_value)\n",
    "    if p_value < alpha:\n",
    "        print('Отвергаем нулевую гипотезу: между долями уникальных пользователей, побывавших на этапе',\n",
    "              event, 'есть значимая разница')\n",
    "    else:\n",
    "        print('''Не получилось отвергнуть нулевую гипотезу, нет оснований считать доли уникальных пользователей,\n",
    "побывавших на этапе''', event, 'разными')"
   ]
  },
  {
   "cell_type": "code",
   "execution_count": 32,
   "id": "11874fb2",
   "metadata": {},
   "outputs": [
    {
     "name": "stdout",
     "output_type": "stream",
     "text": [
      "p-значение:  0.11456679313141849\n",
      "Не получилось отвергнуть нулевую гипотезу, нет оснований считать доли уникальных пользователей,\n",
      "побывавших на этапе PaymentScreenSuccessful разными\n"
     ]
    }
   ],
   "source": [
    "is_there_diff(246, 247, 'PaymentScreenSuccessful')"
   ]
  },
  {
   "cell_type": "markdown",
   "id": "8a7c00cb",
   "metadata": {},
   "source": [
    "Самым популярным событием очевидно является первое событие - MainScreenAppear. Посмотрим сколько людей совершили это действие в контрольных группах и на доли пользователей, которые дошли до этого этапа (по идее это число 1, потому что это первый этап, но так как у нас есть пользователи, которые почему-то не дошли до этого этапа, то доля будет чуть ниже)."
   ]
  },
  {
   "cell_type": "code",
   "execution_count": 33,
   "id": "100d3ac4",
   "metadata": {},
   "outputs": [],
   "source": [
    "# напишем функцию, которая будет сообщать нам число и долю пользователей, дошедших до определенного шага воронки\n",
    "def func(group, event):\n",
    "    print(f'''В {group} группе до этапа {event} дошло {voronka.loc[group, event]} пользователей.\n",
    "Это составляет {round(voronka.loc[group, event] / voronka.loc[group, 'All'], 2)} от общего числа пользователей группы.''')\n",
    "    print()"
   ]
  },
  {
   "cell_type": "code",
   "execution_count": 34,
   "id": "47275ca6",
   "metadata": {},
   "outputs": [
    {
     "name": "stdout",
     "output_type": "stream",
     "text": [
      "В 246 группе до этапа MainScreenAppear дошло 2450 пользователей.\n",
      "Это составляет 0.99 от общего числа пользователей группы.\n",
      "\n",
      "В 247 группе до этапа MainScreenAppear дошло 2476 пользователей.\n",
      "Это составляет 0.99 от общего числа пользователей группы.\n",
      "\n",
      "p-значение:  0.7570597232046099\n",
      "Не получилось отвергнуть нулевую гипотезу, нет оснований считать доли уникальных пользователей,\n",
      "побывавших на этапе MainScreenAppear разными\n"
     ]
    }
   ],
   "source": [
    "func(246, 'MainScreenAppear')\n",
    "func(247, 'MainScreenAppear')\n",
    "is_there_diff(246, 247, 'MainScreenAppear')"
   ]
  },
  {
   "cell_type": "markdown",
   "id": "9cf623d6",
   "metadata": {},
   "source": [
    "Для самого популярного события разницы в значениях не является статистичестки значимой.\n",
    "\n",
    "Проверим остальные этапы."
   ]
  },
  {
   "cell_type": "code",
   "execution_count": 35,
   "id": "4ef27def",
   "metadata": {
    "scrolled": true
   },
   "outputs": [
    {
     "name": "stdout",
     "output_type": "stream",
     "text": [
      "В 246 группе до этапа OffersScreenAppear дошло 1542 пользователей.\n",
      "Это составляет 0.62 от общего числа пользователей группы.\n",
      "\n",
      "В 247 группе до этапа OffersScreenAppear дошло 1520 пользователей.\n",
      "Это составляет 0.6 от общего числа пользователей группы.\n",
      "\n",
      "p-значение:  0.2480954578522181\n",
      "Не получилось отвергнуть нулевую гипотезу, нет оснований считать доли уникальных пользователей,\n",
      "побывавших на этапе OffersScreenAppear разными\n"
     ]
    }
   ],
   "source": [
    "func(246, 'OffersScreenAppear')\n",
    "func(247, 'OffersScreenAppear')\n",
    "\n",
    "is_there_diff(246, 247, 'OffersScreenAppear')"
   ]
  },
  {
   "cell_type": "markdown",
   "id": "3a72ea4e",
   "metadata": {},
   "source": [
    "Для события OffersScreenAppear также не обнаружена статистическая значимость в разнице."
   ]
  },
  {
   "cell_type": "code",
   "execution_count": 36,
   "id": "80e7e549",
   "metadata": {},
   "outputs": [
    {
     "name": "stdout",
     "output_type": "stream",
     "text": [
      "В 246 группе до этапа CartScreenAppear дошло 1266 пользователей.\n",
      "Это составляет 0.51 от общего числа пользователей группы.\n",
      "\n",
      "В 247 группе до этапа CartScreenAppear дошло 1238 пользователей.\n",
      "Это составляет 0.49 от общего числа пользователей группы.\n",
      "\n",
      "p-значение:  0.22883372237997213\n",
      "Не получилось отвергнуть нулевую гипотезу, нет оснований считать доли уникальных пользователей,\n",
      "побывавших на этапе CartScreenAppear разными\n"
     ]
    }
   ],
   "source": [
    "func(246, 'CartScreenAppear')\n",
    "func(247, 'CartScreenAppear')\n",
    "\n",
    "is_there_diff(246, 247, 'CartScreenAppear')"
   ]
  },
  {
   "cell_type": "markdown",
   "id": "f44e8f36",
   "metadata": {},
   "source": [
    "Для события CartScreenAppear также не была обнаружена статистическая значимость в разнице между контрольными группами.\n",
    "\n",
    "Итого, получаем, что контрольные группы, хоть на первый взгляд кажутся не совсем одинаковыми, не имеют статистически значимой разницы. А значит разбиение на группы работает корректно, можно исследовать экспериментальную группу."
   ]
  },
  {
   "cell_type": "code",
   "execution_count": 37,
   "id": "0112790b",
   "metadata": {},
   "outputs": [
    {
     "name": "stdout",
     "output_type": "stream",
     "text": [
      "В 248 группе до этапа MainScreenAppear дошло 2493 пользователей.\n",
      "Это составляет 0.98 от общего числа пользователей группы.\n",
      "\n",
      "p-значение:  0.2949721933554552\n",
      "Не получилось отвергнуть нулевую гипотезу, нет оснований считать доли уникальных пользователей,\n",
      "побывавших на этапе MainScreenAppear разными\n",
      "\n",
      "В 248 группе до этапа OffersScreenAppear дошло 1531 пользователей.\n",
      "Это составляет 0.6 от общего числа пользователей группы.\n",
      "\n",
      "p-значение:  0.20836205402738917\n",
      "Не получилось отвергнуть нулевую гипотезу, нет оснований считать доли уникальных пользователей,\n",
      "побывавших на этапе OffersScreenAppear разными\n",
      "\n",
      "В 248 группе до этапа CartScreenAppear дошло 1230 пользователей.\n",
      "Это составляет 0.48 от общего числа пользователей группы.\n",
      "\n",
      "p-значение:  0.07842923237520116\n",
      "Не получилось отвергнуть нулевую гипотезу, нет оснований считать доли уникальных пользователей,\n",
      "побывавших на этапе CartScreenAppear разными\n",
      "\n",
      "В 248 группе до этапа PaymentScreenSuccessful дошло 1181 пользователей.\n",
      "Это составляет 0.47 от общего числа пользователей группы.\n",
      "\n",
      "p-значение:  0.2122553275697796\n",
      "Не получилось отвергнуть нулевую гипотезу, нет оснований считать доли уникальных пользователей,\n",
      "побывавших на этапе PaymentScreenSuccessful разными\n",
      "\n"
     ]
    }
   ],
   "source": [
    "# рассмотрим разницу группы 246 с экспериментальной группой\n",
    "# разница по первому событию MainScreenAppear\n",
    "func(248, 'MainScreenAppear')\n",
    "is_there_diff(246, 248, 'MainScreenAppear')\n",
    "print()\n",
    "\n",
    "# разница по второму событию OffersScreenAppear\n",
    "func(248, 'OffersScreenAppear')\n",
    "is_there_diff(246, 248, 'OffersScreenAppear')\n",
    "print()\n",
    "\n",
    "# разница по третьему событию CartScreenAppear\n",
    "func(248, 'CartScreenAppear')\n",
    "is_there_diff(246, 248, 'CartScreenAppear')\n",
    "print()\n",
    "\n",
    "# разница по последнему событию PaymentScreenSuccessful\n",
    "func(248, 'PaymentScreenSuccessful')\n",
    "is_there_diff(246, 248, 'PaymentScreenSuccessful')\n",
    "print()"
   ]
  },
  {
   "cell_type": "markdown",
   "id": "850df06a",
   "metadata": {},
   "source": [
    "Статистической значимости у разницы между первой контрольной группой и экспериментальной в доли перешедших на каждый из этапов воронки нет."
   ]
  },
  {
   "cell_type": "code",
   "execution_count": 38,
   "id": "0d4dc706",
   "metadata": {},
   "outputs": [
    {
     "name": "stdout",
     "output_type": "stream",
     "text": [
      "p-значение:  0.4587053616621515\n",
      "Не получилось отвергнуть нулевую гипотезу, нет оснований считать доли уникальных пользователей,\n",
      "побывавших на этапе MainScreenAppear разными\n",
      "\n",
      "p-значение:  0.9197817830592261\n",
      "Не получилось отвергнуть нулевую гипотезу, нет оснований считать доли уникальных пользователей,\n",
      "побывавших на этапе OffersScreenAppear разными\n",
      "\n",
      "p-значение:  0.5786197879539783\n",
      "Не получилось отвергнуть нулевую гипотезу, нет оснований считать доли уникальных пользователей,\n",
      "побывавших на этапе CartScreenAppear разными\n",
      "\n",
      "p-значение:  0.7373415053803964\n",
      "Не получилось отвергнуть нулевую гипотезу, нет оснований считать доли уникальных пользователей,\n",
      "побывавших на этапе PaymentScreenSuccessful разными\n",
      "\n"
     ]
    }
   ],
   "source": [
    "# рассмотрим разницу группы 247 с экспериментальной группой\n",
    "# разница по первому событию MainScreenAppear\n",
    "is_there_diff(247, 248, 'MainScreenAppear')\n",
    "print()\n",
    "# разница по второму событию OffersScreenAppear\n",
    "is_there_diff(247, 248, 'OffersScreenAppear')\n",
    "print()\n",
    "# разница по третьему событию CartScreenAppear\n",
    "is_there_diff(247, 248, 'CartScreenAppear')\n",
    "print()\n",
    "# разница по последнему событию PaymentScreenSuccessful\n",
    "is_there_diff(247, 248, 'PaymentScreenSuccessful')\n",
    "print()"
   ]
  },
  {
   "cell_type": "markdown",
   "id": "413ee58c",
   "metadata": {},
   "source": [
    "Со второй группой получили такой же результат. Теперь посмотрим на разницу между экспериментальной группой и контрольной в совокупности."
   ]
  },
  {
   "cell_type": "code",
   "execution_count": 39,
   "id": "5a052d7b",
   "metadata": {},
   "outputs": [
    {
     "name": "stdout",
     "output_type": "stream",
     "text": [
      "p-значение:  0.29424526837179577\n",
      "Не получилось отвергнуть нулевую гипотезу, нет оснований считать доли уникальных пользователей,\n",
      "побывавших на этапе MainScreenAppear разными\n",
      "\n",
      "p-значение:  0.43425549655188256\n",
      "Не получилось отвергнуть нулевую гипотезу, нет оснований считать доли уникальных пользователей,\n",
      "побывавших на этапе OffersScreenAppear разными\n",
      "\n",
      "p-значение:  0.18175875284404386\n",
      "Не получилось отвергнуть нулевую гипотезу, нет оснований считать доли уникальных пользователей,\n",
      "побывавших на этапе CartScreenAppear разными\n",
      "\n",
      "p-значение:  0.6004294282308704\n",
      "Не получилось отвергнуть нулевую гипотезу, нет оснований считать доли уникальных пользователей,\n",
      "побывавших на этапе PaymentScreenSuccessful разными\n",
      "\n"
     ]
    }
   ],
   "source": [
    "# рассмотрим разницу между суммарными показателями контрольных групп и экспериментальной группой\n",
    "# разница по первому событию MainScreenAppear\n",
    "is_there_diff('246_247', 248, 'MainScreenAppear')\n",
    "print()\n",
    "# разница по второму событию OffersScreenAppear\n",
    "is_there_diff('246_247', 248, 'OffersScreenAppear')\n",
    "print()\n",
    "# разница по третьему событию CartScreenAppear\n",
    "is_there_diff('246_247', 248, 'CartScreenAppear')\n",
    "print()\n",
    "# разница по последнему событию PaymentScreenSuccessful\n",
    "is_there_diff('246_247', 248, 'PaymentScreenSuccessful')\n",
    "print()"
   ]
  },
  {
   "cell_type": "markdown",
   "id": "9bec4673",
   "metadata": {},
   "source": [
    "Статистически значимой разницы между контрольной группой в совокупности и экспериментальной группой также не обнаружено.\n",
    "\n",
    "Из эксперимента можно сделать вывод, что смена шрифта никак не повлияла на покупаемость продукта в приложении."
   ]
  },
  {
   "cell_type": "markdown",
   "id": "6c086e69",
   "metadata": {},
   "source": [
    "Для проверки статистических гипотез я выбрала уровень значимости равный 0.05. В процессе исследования было проведено 16 проверок для 4 групп, т.е. каждая группа сравнивалась с другой по 8 раз (кроме объеденения контрольных групп). Для моего уровня значимости каждая 20 проверка может привести к ошибке первого рода, но так как идет множественное сравнение  между 4 группами, вероятность получить ложноположительный результат сильно увеличивается. Чтобы уменьшить вероятость ошибки первого рода α уменьшают по одному из правил, например, методом Шидака, где $α_i = 1 - (1 - α)^{1/m}$. Однако все проверки не выявили различий между группами, поэтому понижение уровня значимости не требуется."
   ]
  },
  {
   "cell_type": "markdown",
   "id": "2709b8a5",
   "metadata": {},
   "source": [
    "**Вывод:**\n",
    "В процессе проверки гипотез не было выявлено различий в доле пользователей, доходивших до разных этапов воронки. Разница проверялась между контрольными группами, каждой из контрольных групп и экспериментальной и контрольной группой в совокупности и экспериментальной."
   ]
  },
  {
   "cell_type": "markdown",
   "id": "393acfb9",
   "metadata": {},
   "source": [
    "# Вывод"
   ]
  },
  {
   "cell_type": "markdown",
   "id": "421c5a11",
   "metadata": {},
   "source": [
    "В процессе предобработки и анализа данных были обнаружены дубликаты и наличие старых логов. После среза актуальных данных было потеряно около 1% записей и <1% уникальных пользователей. Все это могло сказаться на дальнийших результатах эксперимента. Рекомендую проверить качество загрузки данных в таблицу.\n",
    "\n",
    "\n",
    "Сформировав воронку, мы получили следующие результаты:\n",
    " - процесс покупки у большинства* пользователей приложения занимает 4 этапа:\n",
    "   - просмотр главной страницы\n",
    "   - просмотр предложений\n",
    "   - просмотр корзины\n",
    "   - успешная оплата покупки\n",
    " \n",
    " - до последнего этапа доходит 47% пользователей\n",
    " - больше всего пользователей застревает / отсеивается между первым и вторым шагом воронки - 38% отсеивается\n",
    "\n",
    "*Интересно заметить, что не все пользователи воронки побывали на первом этапе, вероятно перейдя со сторонних ресурсов.\n",
    "\n",
    "Рекомендую изучить переход с главной страницы на страницу предложений. Возможно, усовершествование данного этапа повысит конверсию пользователей в покупателей.\n",
    "\n",
    "\n",
    "На этапе анализа самого эксперимента было выявлено, что смена шрифта не оказала никакого влияния на конверсию покупателей. Проверка гипотез на отсутсвие статистически значимой разницы в доле пользователей разных групп дошедших до одного из этапов воронки не удалось отвергнуть. \n",
    "Таким образом, переживания менеджеров о непривычности шрифта в приложения напрасны.\n",
    "\n",
    "В результатах работы А/В теста (А/А/В теста) можно быть уверенным, ввиду отсутсвия разницы между контрольными группами."
   ]
  }
 ],
 "metadata": {
  "ExecuteTimeLog": [
   {
    "duration": 1306,
    "start_time": "2023-03-15T16:02:36.029Z"
   },
   {
    "duration": 246,
    "start_time": "2023-03-15T16:02:37.337Z"
   },
   {
    "duration": 18,
    "start_time": "2023-03-15T16:02:37.584Z"
   },
   {
    "duration": 37,
    "start_time": "2023-03-15T16:02:37.604Z"
   },
   {
    "duration": 3,
    "start_time": "2023-03-15T16:02:37.644Z"
   },
   {
    "duration": 17,
    "start_time": "2023-03-15T16:02:37.648Z"
   },
   {
    "duration": 143,
    "start_time": "2023-03-15T16:02:37.667Z"
   },
   {
    "duration": 143,
    "start_time": "2023-03-15T16:02:37.812Z"
   },
   {
    "duration": 104,
    "start_time": "2023-03-15T16:02:37.956Z"
   },
   {
    "duration": 30,
    "start_time": "2023-03-15T16:02:38.062Z"
   },
   {
    "duration": 10,
    "start_time": "2023-03-15T16:02:38.093Z"
   },
   {
    "duration": 43,
    "start_time": "2023-03-15T16:02:38.106Z"
   },
   {
    "duration": 5,
    "start_time": "2023-03-15T16:02:38.151Z"
   },
   {
    "duration": 1343,
    "start_time": "2023-03-15T16:02:38.160Z"
   },
   {
    "duration": 23,
    "start_time": "2023-03-15T16:02:39.505Z"
   },
   {
    "duration": 17,
    "start_time": "2023-03-15T16:02:39.531Z"
   },
   {
    "duration": 90,
    "start_time": "2023-03-15T16:02:39.550Z"
   },
   {
    "duration": 5,
    "start_time": "2023-03-15T16:02:39.642Z"
   },
   {
    "duration": 22,
    "start_time": "2023-03-15T16:02:39.649Z"
   },
   {
    "duration": 191,
    "start_time": "2023-03-15T16:02:39.689Z"
   },
   {
    "duration": 61,
    "start_time": "2023-03-15T16:02:39.890Z"
   },
   {
    "duration": 253,
    "start_time": "2023-03-15T16:02:39.953Z"
   },
   {
    "duration": 49,
    "start_time": "2023-03-15T16:02:40.209Z"
   },
   {
    "duration": 14,
    "start_time": "2023-03-15T16:02:40.259Z"
   },
   {
    "duration": 46,
    "start_time": "2023-03-15T16:02:40.275Z"
   },
   {
    "duration": 36,
    "start_time": "2023-03-15T16:02:40.323Z"
   },
   {
    "duration": 225,
    "start_time": "2023-03-15T16:02:40.361Z"
   },
   {
    "duration": 4,
    "start_time": "2023-03-15T16:02:40.587Z"
   },
   {
    "duration": 24,
    "start_time": "2023-03-15T16:02:40.594Z"
   },
   {
    "duration": 10,
    "start_time": "2023-03-15T16:02:40.620Z"
   },
   {
    "duration": 5,
    "start_time": "2023-03-15T16:02:40.632Z"
   },
   {
    "duration": 11,
    "start_time": "2023-03-15T16:02:40.639Z"
   },
   {
    "duration": 18,
    "start_time": "2023-03-15T16:02:40.652Z"
   },
   {
    "duration": 7,
    "start_time": "2023-03-15T16:02:40.672Z"
   },
   {
    "duration": 21,
    "start_time": "2023-03-15T16:02:40.681Z"
   },
   {
    "duration": 17,
    "start_time": "2023-03-15T16:02:40.704Z"
   },
   {
    "duration": 14,
    "start_time": "2023-03-15T16:02:40.722Z"
   },
   {
    "duration": 25,
    "start_time": "2023-03-15T16:09:03.817Z"
   },
   {
    "duration": 25,
    "start_time": "2023-03-15T16:09:11.379Z"
   },
   {
    "duration": 1214,
    "start_time": "2023-03-15T16:09:22.972Z"
   },
   {
    "duration": 290,
    "start_time": "2023-03-15T16:09:24.189Z"
   },
   {
    "duration": 28,
    "start_time": "2023-03-15T16:09:24.481Z"
   },
   {
    "duration": 34,
    "start_time": "2023-03-15T16:09:24.516Z"
   },
   {
    "duration": 3,
    "start_time": "2023-03-15T16:09:24.554Z"
   },
   {
    "duration": 18,
    "start_time": "2023-03-15T16:09:24.558Z"
   },
   {
    "duration": 163,
    "start_time": "2023-03-15T16:09:24.578Z"
   },
   {
    "duration": 177,
    "start_time": "2023-03-15T16:09:24.743Z"
   },
   {
    "duration": 110,
    "start_time": "2023-03-15T16:09:24.927Z"
   },
   {
    "duration": 30,
    "start_time": "2023-03-15T16:09:25.039Z"
   },
   {
    "duration": 28,
    "start_time": "2023-03-15T16:09:25.071Z"
   },
   {
    "duration": 49,
    "start_time": "2023-03-15T16:09:25.101Z"
   },
   {
    "duration": 5,
    "start_time": "2023-03-15T16:09:25.152Z"
   },
   {
    "duration": 1475,
    "start_time": "2023-03-15T16:09:25.160Z"
   },
   {
    "duration": 130,
    "start_time": "2023-03-15T16:09:26.640Z"
   },
   {
    "duration": 0,
    "start_time": "2023-03-15T16:09:26.771Z"
   },
   {
    "duration": 0,
    "start_time": "2023-03-15T16:09:26.773Z"
   },
   {
    "duration": 1,
    "start_time": "2023-03-15T16:09:26.774Z"
   },
   {
    "duration": 0,
    "start_time": "2023-03-15T16:09:26.776Z"
   },
   {
    "duration": 0,
    "start_time": "2023-03-15T16:09:26.777Z"
   },
   {
    "duration": 0,
    "start_time": "2023-03-15T16:09:26.779Z"
   },
   {
    "duration": 0,
    "start_time": "2023-03-15T16:09:26.793Z"
   },
   {
    "duration": 0,
    "start_time": "2023-03-15T16:09:26.798Z"
   },
   {
    "duration": 0,
    "start_time": "2023-03-15T16:09:26.799Z"
   },
   {
    "duration": 0,
    "start_time": "2023-03-15T16:09:26.801Z"
   },
   {
    "duration": 0,
    "start_time": "2023-03-15T16:09:26.802Z"
   },
   {
    "duration": 0,
    "start_time": "2023-03-15T16:09:26.803Z"
   },
   {
    "duration": 0,
    "start_time": "2023-03-15T16:09:26.804Z"
   },
   {
    "duration": 0,
    "start_time": "2023-03-15T16:09:26.806Z"
   },
   {
    "duration": 0,
    "start_time": "2023-03-15T16:09:26.807Z"
   },
   {
    "duration": 0,
    "start_time": "2023-03-15T16:09:26.808Z"
   },
   {
    "duration": 0,
    "start_time": "2023-03-15T16:09:26.810Z"
   },
   {
    "duration": 0,
    "start_time": "2023-03-15T16:09:26.811Z"
   },
   {
    "duration": 0,
    "start_time": "2023-03-15T16:09:26.812Z"
   },
   {
    "duration": 0,
    "start_time": "2023-03-15T16:09:26.813Z"
   },
   {
    "duration": 0,
    "start_time": "2023-03-15T16:09:26.814Z"
   },
   {
    "duration": 23,
    "start_time": "2023-03-15T16:09:56.311Z"
   },
   {
    "duration": 27,
    "start_time": "2023-03-15T16:10:06.309Z"
   },
   {
    "duration": 13,
    "start_time": "2023-03-15T16:10:06.339Z"
   },
   {
    "duration": 0,
    "start_time": "2023-03-15T16:10:06.355Z"
   },
   {
    "duration": 0,
    "start_time": "2023-03-15T16:10:06.358Z"
   },
   {
    "duration": 0,
    "start_time": "2023-03-15T16:10:06.359Z"
   },
   {
    "duration": 0,
    "start_time": "2023-03-15T16:10:06.360Z"
   },
   {
    "duration": 0,
    "start_time": "2023-03-15T16:10:06.362Z"
   },
   {
    "duration": 0,
    "start_time": "2023-03-15T16:10:06.363Z"
   },
   {
    "duration": 0,
    "start_time": "2023-03-15T16:10:06.365Z"
   },
   {
    "duration": 0,
    "start_time": "2023-03-15T16:10:06.366Z"
   },
   {
    "duration": 0,
    "start_time": "2023-03-15T16:10:06.367Z"
   },
   {
    "duration": 0,
    "start_time": "2023-03-15T16:10:06.369Z"
   },
   {
    "duration": 0,
    "start_time": "2023-03-15T16:10:06.371Z"
   },
   {
    "duration": 0,
    "start_time": "2023-03-15T16:10:06.372Z"
   },
   {
    "duration": 0,
    "start_time": "2023-03-15T16:10:06.373Z"
   },
   {
    "duration": 0,
    "start_time": "2023-03-15T16:10:06.374Z"
   },
   {
    "duration": 0,
    "start_time": "2023-03-15T16:10:06.375Z"
   },
   {
    "duration": 0,
    "start_time": "2023-03-15T16:10:06.390Z"
   },
   {
    "duration": 0,
    "start_time": "2023-03-15T16:10:06.391Z"
   },
   {
    "duration": 0,
    "start_time": "2023-03-15T16:10:06.392Z"
   },
   {
    "duration": 0,
    "start_time": "2023-03-15T16:10:06.393Z"
   },
   {
    "duration": 0,
    "start_time": "2023-03-15T16:10:06.394Z"
   },
   {
    "duration": 14,
    "start_time": "2023-03-15T16:10:21.998Z"
   },
   {
    "duration": 0,
    "start_time": "2023-03-15T16:10:22.015Z"
   },
   {
    "duration": 0,
    "start_time": "2023-03-15T16:10:22.017Z"
   },
   {
    "duration": 0,
    "start_time": "2023-03-15T16:10:22.021Z"
   },
   {
    "duration": 0,
    "start_time": "2023-03-15T16:10:22.023Z"
   },
   {
    "duration": 0,
    "start_time": "2023-03-15T16:10:22.025Z"
   },
   {
    "duration": 0,
    "start_time": "2023-03-15T16:10:22.026Z"
   },
   {
    "duration": 0,
    "start_time": "2023-03-15T16:10:22.028Z"
   },
   {
    "duration": 0,
    "start_time": "2023-03-15T16:10:22.031Z"
   },
   {
    "duration": 0,
    "start_time": "2023-03-15T16:10:22.032Z"
   },
   {
    "duration": 0,
    "start_time": "2023-03-15T16:10:22.033Z"
   },
   {
    "duration": 6,
    "start_time": "2023-03-15T16:10:22.037Z"
   },
   {
    "duration": 66,
    "start_time": "2023-03-15T16:10:22.045Z"
   },
   {
    "duration": 0,
    "start_time": "2023-03-15T16:10:22.115Z"
   },
   {
    "duration": 0,
    "start_time": "2023-03-15T16:10:22.117Z"
   },
   {
    "duration": 0,
    "start_time": "2023-03-15T16:10:22.118Z"
   },
   {
    "duration": 0,
    "start_time": "2023-03-15T16:10:22.121Z"
   },
   {
    "duration": 0,
    "start_time": "2023-03-15T16:10:22.124Z"
   },
   {
    "duration": 0,
    "start_time": "2023-03-15T16:10:22.125Z"
   },
   {
    "duration": 0,
    "start_time": "2023-03-15T16:10:22.126Z"
   },
   {
    "duration": 23,
    "start_time": "2023-03-15T16:10:47.694Z"
   },
   {
    "duration": 12,
    "start_time": "2023-03-15T16:11:06.242Z"
   },
   {
    "duration": 85,
    "start_time": "2023-03-15T16:11:06.257Z"
   },
   {
    "duration": 6,
    "start_time": "2023-03-15T16:11:06.344Z"
   },
   {
    "duration": 29,
    "start_time": "2023-03-15T16:11:06.351Z"
   },
   {
    "duration": 242,
    "start_time": "2023-03-15T16:11:06.391Z"
   },
   {
    "duration": 78,
    "start_time": "2023-03-15T16:11:06.638Z"
   },
   {
    "duration": 331,
    "start_time": "2023-03-15T16:11:06.717Z"
   },
   {
    "duration": 99,
    "start_time": "2023-03-15T16:11:07.050Z"
   },
   {
    "duration": 5,
    "start_time": "2023-03-15T16:11:07.152Z"
   },
   {
    "duration": 72,
    "start_time": "2023-03-15T16:11:07.159Z"
   },
   {
    "duration": 40,
    "start_time": "2023-03-15T16:11:07.233Z"
   },
   {
    "duration": 284,
    "start_time": "2023-03-15T16:11:07.275Z"
   },
   {
    "duration": 3,
    "start_time": "2023-03-15T16:11:07.561Z"
   },
   {
    "duration": 6,
    "start_time": "2023-03-15T16:11:07.566Z"
   },
   {
    "duration": 60,
    "start_time": "2023-03-15T16:11:07.574Z"
   },
   {
    "duration": 6,
    "start_time": "2023-03-15T16:11:07.636Z"
   },
   {
    "duration": 7,
    "start_time": "2023-03-15T16:11:07.645Z"
   },
   {
    "duration": 10,
    "start_time": "2023-03-15T16:11:07.654Z"
   },
   {
    "duration": 10,
    "start_time": "2023-03-15T16:11:07.665Z"
   },
   {
    "duration": 19,
    "start_time": "2023-03-15T16:11:07.676Z"
   },
   {
    "duration": 41,
    "start_time": "2023-03-15T16:11:07.696Z"
   },
   {
    "duration": 17,
    "start_time": "2023-03-15T16:11:07.739Z"
   },
   {
    "duration": 1413,
    "start_time": "2023-03-15T16:15:35.572Z"
   },
   {
    "duration": 279,
    "start_time": "2023-03-15T16:15:36.987Z"
   },
   {
    "duration": 13,
    "start_time": "2023-03-15T16:15:37.268Z"
   },
   {
    "duration": 40,
    "start_time": "2023-03-15T16:15:37.282Z"
   },
   {
    "duration": 16,
    "start_time": "2023-03-15T16:15:37.328Z"
   },
   {
    "duration": 21,
    "start_time": "2023-03-15T16:15:37.346Z"
   },
   {
    "duration": 179,
    "start_time": "2023-03-15T16:15:37.369Z"
   },
   {
    "duration": 157,
    "start_time": "2023-03-15T16:15:37.550Z"
   },
   {
    "duration": 121,
    "start_time": "2023-03-15T16:15:37.709Z"
   },
   {
    "duration": 21,
    "start_time": "2023-03-15T16:15:37.832Z"
   },
   {
    "duration": 8,
    "start_time": "2023-03-15T16:15:37.855Z"
   },
   {
    "duration": 91,
    "start_time": "2023-03-15T16:15:37.865Z"
   },
   {
    "duration": 7,
    "start_time": "2023-03-15T16:15:37.958Z"
   },
   {
    "duration": 1448,
    "start_time": "2023-03-15T16:15:37.969Z"
   },
   {
    "duration": 17,
    "start_time": "2023-03-15T16:15:39.419Z"
   },
   {
    "duration": 19,
    "start_time": "2023-03-15T16:15:39.438Z"
   },
   {
    "duration": 88,
    "start_time": "2023-03-15T16:15:39.459Z"
   },
   {
    "duration": 5,
    "start_time": "2023-03-15T16:15:39.549Z"
   },
   {
    "duration": 52,
    "start_time": "2023-03-15T16:15:39.555Z"
   },
   {
    "duration": 253,
    "start_time": "2023-03-15T16:15:39.609Z"
   },
   {
    "duration": 78,
    "start_time": "2023-03-15T16:15:39.865Z"
   },
   {
    "duration": 316,
    "start_time": "2023-03-15T16:15:39.946Z"
   },
   {
    "duration": 87,
    "start_time": "2023-03-15T16:15:40.264Z"
   },
   {
    "duration": 5,
    "start_time": "2023-03-15T16:15:40.353Z"
   },
   {
    "duration": 67,
    "start_time": "2023-03-15T16:15:40.359Z"
   },
   {
    "duration": 53,
    "start_time": "2023-03-15T16:15:40.430Z"
   },
   {
    "duration": 264,
    "start_time": "2023-03-15T16:15:40.485Z"
   },
   {
    "duration": 3,
    "start_time": "2023-03-15T16:15:40.751Z"
   },
   {
    "duration": 8,
    "start_time": "2023-03-15T16:15:40.756Z"
   },
   {
    "duration": 17,
    "start_time": "2023-03-15T16:15:40.765Z"
   },
   {
    "duration": 14,
    "start_time": "2023-03-15T16:15:40.785Z"
   },
   {
    "duration": 33,
    "start_time": "2023-03-15T16:15:40.804Z"
   },
   {
    "duration": 7,
    "start_time": "2023-03-15T16:15:40.839Z"
   },
   {
    "duration": 7,
    "start_time": "2023-03-15T16:15:40.849Z"
   },
   {
    "duration": 13,
    "start_time": "2023-03-15T16:15:40.858Z"
   },
   {
    "duration": 22,
    "start_time": "2023-03-15T16:15:40.873Z"
   },
   {
    "duration": 46,
    "start_time": "2023-03-15T16:15:40.897Z"
   },
   {
    "duration": 50,
    "start_time": "2023-03-15T17:01:50.336Z"
   },
   {
    "duration": 1208,
    "start_time": "2023-03-15T17:01:59.127Z"
   },
   {
    "duration": 252,
    "start_time": "2023-03-15T17:02:00.337Z"
   },
   {
    "duration": 18,
    "start_time": "2023-03-15T17:02:00.598Z"
   },
   {
    "duration": 63,
    "start_time": "2023-03-15T17:02:00.619Z"
   },
   {
    "duration": 29,
    "start_time": "2023-03-15T17:02:00.684Z"
   },
   {
    "duration": 42,
    "start_time": "2023-03-15T17:02:00.718Z"
   },
   {
    "duration": 148,
    "start_time": "2023-03-15T17:02:00.762Z"
   },
   {
    "duration": 138,
    "start_time": "2023-03-15T17:02:00.913Z"
   },
   {
    "duration": 106,
    "start_time": "2023-03-15T17:02:01.052Z"
   },
   {
    "duration": 19,
    "start_time": "2023-03-15T17:02:01.160Z"
   },
   {
    "duration": 69,
    "start_time": "2023-03-15T17:02:01.180Z"
   },
   {
    "duration": 78,
    "start_time": "2023-03-15T17:02:01.251Z"
   },
   {
    "duration": 8,
    "start_time": "2023-03-15T17:02:01.331Z"
   },
   {
    "duration": 1315,
    "start_time": "2023-03-15T17:02:01.340Z"
   },
   {
    "duration": 11,
    "start_time": "2023-03-15T17:02:05.303Z"
   },
   {
    "duration": 29,
    "start_time": "2023-03-15T17:02:09.975Z"
   },
   {
    "duration": 9,
    "start_time": "2023-03-15T17:03:21.078Z"
   },
   {
    "duration": 18,
    "start_time": "2023-03-15T17:04:10.405Z"
   },
   {
    "duration": 15,
    "start_time": "2023-03-15T17:04:14.465Z"
   },
   {
    "duration": 21,
    "start_time": "2023-03-15T17:07:25.619Z"
   },
   {
    "duration": 91,
    "start_time": "2023-03-15T17:08:46.256Z"
   },
   {
    "duration": 17,
    "start_time": "2023-03-15T17:09:08.745Z"
   },
   {
    "duration": 17,
    "start_time": "2023-03-15T17:09:15.862Z"
   },
   {
    "duration": 22,
    "start_time": "2023-03-15T17:09:21.820Z"
   },
   {
    "duration": 36,
    "start_time": "2023-03-15T17:09:29.026Z"
   },
   {
    "duration": 7,
    "start_time": "2023-03-15T17:10:25.309Z"
   },
   {
    "duration": 23,
    "start_time": "2023-03-15T17:10:31.264Z"
   },
   {
    "duration": 206,
    "start_time": "2023-03-15T17:10:32.070Z"
   },
   {
    "duration": 77,
    "start_time": "2023-03-15T17:10:34.882Z"
   },
   {
    "duration": 270,
    "start_time": "2023-03-15T17:10:35.701Z"
   },
   {
    "duration": 57,
    "start_time": "2023-03-15T17:17:06.800Z"
   },
   {
    "duration": 188,
    "start_time": "2023-03-15T17:17:27.360Z"
   },
   {
    "duration": 14,
    "start_time": "2023-03-15T17:22:37.561Z"
   },
   {
    "duration": 13,
    "start_time": "2023-03-15T17:22:55.066Z"
   },
   {
    "duration": 37,
    "start_time": "2023-03-15T17:24:14.186Z"
   },
   {
    "duration": 187,
    "start_time": "2023-03-15T17:25:25.545Z"
   },
   {
    "duration": 192,
    "start_time": "2023-03-15T17:25:38.038Z"
   },
   {
    "duration": 62,
    "start_time": "2023-03-15T17:27:36.918Z"
   },
   {
    "duration": 4,
    "start_time": "2023-03-15T17:29:40.319Z"
   },
   {
    "duration": 105,
    "start_time": "2023-03-15T17:36:13.280Z"
   },
   {
    "duration": 480,
    "start_time": "2023-03-15T17:38:07.700Z"
   },
   {
    "duration": 238,
    "start_time": "2023-03-15T17:40:32.618Z"
   },
   {
    "duration": 214,
    "start_time": "2023-03-15T17:40:43.128Z"
   },
   {
    "duration": 210,
    "start_time": "2023-03-15T17:40:54.521Z"
   },
   {
    "duration": 50,
    "start_time": "2023-03-15T17:42:55.821Z"
   },
   {
    "duration": 56,
    "start_time": "2023-03-15T17:44:24.214Z"
   },
   {
    "duration": 52,
    "start_time": "2023-03-15T17:44:32.529Z"
   },
   {
    "duration": 54,
    "start_time": "2023-03-15T17:44:58.579Z"
   },
   {
    "duration": 11,
    "start_time": "2023-03-15T17:48:26.779Z"
   },
   {
    "duration": 12,
    "start_time": "2023-03-15T17:49:23.774Z"
   },
   {
    "duration": 10,
    "start_time": "2023-03-15T17:51:08.970Z"
   },
   {
    "duration": 55,
    "start_time": "2023-03-15T17:51:28.529Z"
   },
   {
    "duration": 223,
    "start_time": "2023-03-15T17:51:29.029Z"
   },
   {
    "duration": 22,
    "start_time": "2023-03-15T17:51:29.514Z"
   },
   {
    "duration": 202,
    "start_time": "2023-03-15T17:51:30.169Z"
   },
   {
    "duration": 10,
    "start_time": "2023-03-15T17:51:33.555Z"
   },
   {
    "duration": 180,
    "start_time": "2023-03-15T17:51:37.082Z"
   },
   {
    "duration": 64,
    "start_time": "2023-03-15T17:55:20.772Z"
   },
   {
    "duration": 41,
    "start_time": "2023-03-15T17:55:53.772Z"
   },
   {
    "duration": 43,
    "start_time": "2023-03-15T17:56:30.418Z"
   },
   {
    "duration": 268,
    "start_time": "2023-03-15T17:58:47.897Z"
   },
   {
    "duration": 2,
    "start_time": "2023-03-15T17:58:51.621Z"
   },
   {
    "duration": 7,
    "start_time": "2023-03-15T17:58:52.623Z"
   },
   {
    "duration": 8,
    "start_time": "2023-03-15T17:59:12.119Z"
   },
   {
    "duration": 10,
    "start_time": "2023-03-15T17:59:16.403Z"
   },
   {
    "duration": 6,
    "start_time": "2023-03-15T17:59:17.013Z"
   },
   {
    "duration": 9,
    "start_time": "2023-03-15T17:59:18.110Z"
   },
   {
    "duration": 5,
    "start_time": "2023-03-15T17:59:18.782Z"
   },
   {
    "duration": 17,
    "start_time": "2023-03-15T17:59:19.700Z"
   },
   {
    "duration": 9,
    "start_time": "2023-03-15T17:59:20.732Z"
   },
   {
    "duration": 10,
    "start_time": "2023-03-15T17:59:21.713Z"
   },
   {
    "duration": 3,
    "start_time": "2023-03-15T18:01:09.336Z"
   },
   {
    "duration": 6,
    "start_time": "2023-03-15T18:01:09.832Z"
   },
   {
    "duration": 12,
    "start_time": "2023-03-15T18:01:21.404Z"
   },
   {
    "duration": 6,
    "start_time": "2023-03-15T18:01:23.535Z"
   },
   {
    "duration": 11,
    "start_time": "2023-03-15T18:01:24.948Z"
   },
   {
    "duration": 13,
    "start_time": "2023-03-15T18:01:26.517Z"
   },
   {
    "duration": 10,
    "start_time": "2023-03-15T18:01:29.669Z"
   },
   {
    "duration": 6,
    "start_time": "2023-03-15T18:04:18.853Z"
   },
   {
    "duration": 5,
    "start_time": "2023-03-15T18:04:20.929Z"
   },
   {
    "duration": 6,
    "start_time": "2023-03-15T18:04:26.603Z"
   },
   {
    "duration": 5,
    "start_time": "2023-03-15T18:04:28.381Z"
   },
   {
    "duration": 3,
    "start_time": "2023-03-15T18:04:38.274Z"
   },
   {
    "duration": 10,
    "start_time": "2023-03-15T18:04:38.802Z"
   },
   {
    "duration": 5,
    "start_time": "2023-03-15T18:04:44.081Z"
   },
   {
    "duration": 5,
    "start_time": "2023-03-15T18:04:44.665Z"
   },
   {
    "duration": 14,
    "start_time": "2023-03-15T18:04:45.314Z"
   },
   {
    "duration": 11,
    "start_time": "2023-03-15T18:04:46.214Z"
   },
   {
    "duration": 15,
    "start_time": "2023-03-15T18:04:47.111Z"
   },
   {
    "duration": 8,
    "start_time": "2023-03-15T18:50:12.470Z"
   },
   {
    "duration": 14,
    "start_time": "2023-03-15T18:50:16.722Z"
   },
   {
    "duration": 40,
    "start_time": "2023-03-15T18:52:49.672Z"
   },
   {
    "duration": 29,
    "start_time": "2023-03-15T18:53:11.830Z"
   },
   {
    "duration": 3,
    "start_time": "2023-03-15T19:15:10.217Z"
   },
   {
    "duration": 248,
    "start_time": "2023-03-15T19:15:10.222Z"
   },
   {
    "duration": 12,
    "start_time": "2023-03-15T19:15:10.472Z"
   },
   {
    "duration": 49,
    "start_time": "2023-03-15T19:15:10.495Z"
   },
   {
    "duration": 3,
    "start_time": "2023-03-15T19:15:10.546Z"
   },
   {
    "duration": 15,
    "start_time": "2023-03-15T19:15:10.550Z"
   },
   {
    "duration": 143,
    "start_time": "2023-03-15T19:15:10.566Z"
   },
   {
    "duration": 132,
    "start_time": "2023-03-15T19:15:10.717Z"
   },
   {
    "duration": 84,
    "start_time": "2023-03-15T19:15:10.851Z"
   },
   {
    "duration": 19,
    "start_time": "2023-03-15T19:15:10.937Z"
   },
   {
    "duration": 14,
    "start_time": "2023-03-15T19:15:10.958Z"
   },
   {
    "duration": 65,
    "start_time": "2023-03-15T19:15:10.974Z"
   },
   {
    "duration": 5,
    "start_time": "2023-03-15T19:15:11.041Z"
   },
   {
    "duration": 1209,
    "start_time": "2023-03-15T19:15:11.049Z"
   },
   {
    "duration": 15,
    "start_time": "2023-03-15T19:15:12.261Z"
   },
   {
    "duration": 34,
    "start_time": "2023-03-15T19:15:12.278Z"
   },
   {
    "duration": 22,
    "start_time": "2023-03-15T19:15:12.314Z"
   },
   {
    "duration": 29,
    "start_time": "2023-03-15T19:15:12.337Z"
   },
   {
    "duration": 206,
    "start_time": "2023-03-15T19:15:12.368Z"
   },
   {
    "duration": 71,
    "start_time": "2023-03-15T19:15:12.576Z"
   },
   {
    "duration": 317,
    "start_time": "2023-03-15T19:15:12.649Z"
   },
   {
    "duration": 13,
    "start_time": "2023-03-15T19:15:12.968Z"
   },
   {
    "duration": 208,
    "start_time": "2023-03-15T19:15:12.994Z"
   },
   {
    "duration": 19,
    "start_time": "2023-03-15T19:15:13.207Z"
   },
   {
    "duration": 59,
    "start_time": "2023-03-15T19:15:13.228Z"
   },
   {
    "duration": 15,
    "start_time": "2023-03-15T19:15:13.291Z"
   },
   {
    "duration": 72,
    "start_time": "2023-03-15T19:15:13.308Z"
   },
   {
    "duration": 46,
    "start_time": "2023-03-15T19:15:13.382Z"
   },
   {
    "duration": 249,
    "start_time": "2023-03-15T19:15:13.430Z"
   },
   {
    "duration": 2,
    "start_time": "2023-03-15T19:15:13.681Z"
   },
   {
    "duration": 36,
    "start_time": "2023-03-15T19:15:13.686Z"
   },
   {
    "duration": 11,
    "start_time": "2023-03-15T19:15:13.724Z"
   },
   {
    "duration": 9,
    "start_time": "2023-03-15T19:15:13.737Z"
   },
   {
    "duration": 17,
    "start_time": "2023-03-15T19:15:13.748Z"
   },
   {
    "duration": 14,
    "start_time": "2023-03-15T19:15:13.767Z"
   },
   {
    "duration": 12,
    "start_time": "2023-03-15T19:15:13.783Z"
   },
   {
    "duration": 44,
    "start_time": "2023-03-15T19:15:13.797Z"
   },
   {
    "duration": 11,
    "start_time": "2023-03-15T19:15:13.843Z"
   },
   {
    "duration": 26,
    "start_time": "2023-03-15T19:15:13.855Z"
   },
   {
    "duration": 183,
    "start_time": "2023-03-15T19:18:18.955Z"
   },
   {
    "duration": 131,
    "start_time": "2023-03-15T19:18:47.288Z"
   },
   {
    "duration": 132,
    "start_time": "2023-03-15T19:37:19.122Z"
   },
   {
    "duration": 151,
    "start_time": "2023-03-15T19:38:50.727Z"
   },
   {
    "duration": 219,
    "start_time": "2023-03-15T19:39:06.719Z"
   },
   {
    "duration": 263,
    "start_time": "2023-03-15T19:39:24.773Z"
   },
   {
    "duration": 193,
    "start_time": "2023-03-15T19:40:48.020Z"
   },
   {
    "duration": 4,
    "start_time": "2023-03-15T19:43:32.072Z"
   },
   {
    "duration": 301,
    "start_time": "2023-03-15T19:43:32.079Z"
   },
   {
    "duration": 13,
    "start_time": "2023-03-15T19:43:32.382Z"
   },
   {
    "duration": 69,
    "start_time": "2023-03-15T19:43:32.400Z"
   },
   {
    "duration": 12,
    "start_time": "2023-03-15T19:43:32.472Z"
   },
   {
    "duration": 53,
    "start_time": "2023-03-15T19:43:32.486Z"
   },
   {
    "duration": 144,
    "start_time": "2023-03-15T19:43:32.542Z"
   },
   {
    "duration": 145,
    "start_time": "2023-03-15T19:43:32.688Z"
   },
   {
    "duration": 87,
    "start_time": "2023-03-15T19:43:32.836Z"
   },
   {
    "duration": 19,
    "start_time": "2023-03-15T19:43:32.930Z"
   },
   {
    "duration": 8,
    "start_time": "2023-03-15T19:43:32.952Z"
   },
   {
    "duration": 79,
    "start_time": "2023-03-15T19:43:32.962Z"
   },
   {
    "duration": 9,
    "start_time": "2023-03-15T19:43:33.043Z"
   },
   {
    "duration": 1712,
    "start_time": "2023-03-15T19:43:33.054Z"
   },
   {
    "duration": 16,
    "start_time": "2023-03-15T19:43:34.769Z"
   },
   {
    "duration": 37,
    "start_time": "2023-03-15T19:43:34.787Z"
   },
   {
    "duration": 41,
    "start_time": "2023-03-15T19:43:34.829Z"
   },
   {
    "duration": 67,
    "start_time": "2023-03-15T19:43:34.872Z"
   },
   {
    "duration": 253,
    "start_time": "2023-03-15T19:43:34.946Z"
   },
   {
    "duration": 73,
    "start_time": "2023-03-15T19:43:35.200Z"
   },
   {
    "duration": 287,
    "start_time": "2023-03-15T19:43:35.275Z"
   },
   {
    "duration": 33,
    "start_time": "2023-03-15T19:43:35.565Z"
   },
   {
    "duration": 200,
    "start_time": "2023-03-15T19:43:35.602Z"
   },
   {
    "duration": 16,
    "start_time": "2023-03-15T19:43:35.808Z"
   },
   {
    "duration": 106,
    "start_time": "2023-03-15T19:43:35.827Z"
   },
   {
    "duration": 5,
    "start_time": "2023-03-15T19:43:35.934Z"
   },
   {
    "duration": 61,
    "start_time": "2023-03-15T19:43:35.941Z"
   },
   {
    "duration": 54,
    "start_time": "2023-03-15T19:43:36.009Z"
   },
   {
    "duration": 331,
    "start_time": "2023-03-15T19:43:36.065Z"
   },
   {
    "duration": 4,
    "start_time": "2023-03-15T19:43:36.401Z"
   },
   {
    "duration": 42,
    "start_time": "2023-03-15T19:43:36.409Z"
   },
   {
    "duration": 102,
    "start_time": "2023-03-15T19:43:36.454Z"
   },
   {
    "duration": 32,
    "start_time": "2023-03-15T19:43:36.559Z"
   },
   {
    "duration": 68,
    "start_time": "2023-03-15T19:43:36.593Z"
   },
   {
    "duration": 51,
    "start_time": "2023-03-15T19:43:36.663Z"
   },
   {
    "duration": 39,
    "start_time": "2023-03-15T19:43:36.718Z"
   },
   {
    "duration": 48,
    "start_time": "2023-03-15T19:43:36.759Z"
   },
   {
    "duration": 62,
    "start_time": "2023-03-15T19:43:36.814Z"
   },
   {
    "duration": 67,
    "start_time": "2023-03-15T19:43:36.879Z"
   },
   {
    "duration": 4,
    "start_time": "2023-03-15T19:57:39.102Z"
   },
   {
    "duration": 202,
    "start_time": "2023-03-15T19:57:39.108Z"
   },
   {
    "duration": 11,
    "start_time": "2023-03-15T19:57:39.312Z"
   },
   {
    "duration": 20,
    "start_time": "2023-03-15T19:57:39.325Z"
   },
   {
    "duration": 3,
    "start_time": "2023-03-15T19:57:39.347Z"
   },
   {
    "duration": 11,
    "start_time": "2023-03-15T19:57:39.351Z"
   },
   {
    "duration": 157,
    "start_time": "2023-03-15T19:57:39.363Z"
   },
   {
    "duration": 124,
    "start_time": "2023-03-15T19:57:39.522Z"
   },
   {
    "duration": 80,
    "start_time": "2023-03-15T19:57:39.649Z"
   },
   {
    "duration": 19,
    "start_time": "2023-03-15T19:57:39.731Z"
   },
   {
    "duration": 6,
    "start_time": "2023-03-15T19:57:39.752Z"
   },
   {
    "duration": 66,
    "start_time": "2023-03-15T19:57:39.759Z"
   },
   {
    "duration": 6,
    "start_time": "2023-03-15T19:57:39.827Z"
   },
   {
    "duration": 1318,
    "start_time": "2023-03-15T19:57:39.835Z"
   },
   {
    "duration": 13,
    "start_time": "2023-03-15T19:57:41.154Z"
   },
   {
    "duration": 37,
    "start_time": "2023-03-15T19:57:41.169Z"
   },
   {
    "duration": 5,
    "start_time": "2023-03-15T19:57:41.208Z"
   },
   {
    "duration": 24,
    "start_time": "2023-03-15T19:57:41.215Z"
   },
   {
    "duration": 200,
    "start_time": "2023-03-15T19:57:41.240Z"
   },
   {
    "duration": 64,
    "start_time": "2023-03-15T19:57:41.442Z"
   },
   {
    "duration": 197,
    "start_time": "2023-03-15T19:57:41.508Z"
   },
   {
    "duration": 12,
    "start_time": "2023-03-15T19:57:41.708Z"
   },
   {
    "duration": 201,
    "start_time": "2023-03-15T19:57:41.722Z"
   },
   {
    "duration": 69,
    "start_time": "2023-03-15T19:57:41.927Z"
   },
   {
    "duration": 15,
    "start_time": "2023-03-15T19:57:41.998Z"
   },
   {
    "duration": 38,
    "start_time": "2023-03-15T19:57:42.014Z"
   },
   {
    "duration": 55,
    "start_time": "2023-03-15T19:57:42.053Z"
   },
   {
    "duration": 254,
    "start_time": "2023-03-15T19:57:42.110Z"
   },
   {
    "duration": 3,
    "start_time": "2023-03-15T19:57:42.365Z"
   },
   {
    "duration": 17,
    "start_time": "2023-03-15T19:57:42.369Z"
   },
   {
    "duration": 31,
    "start_time": "2023-03-15T19:57:42.388Z"
   },
   {
    "duration": 25,
    "start_time": "2023-03-15T19:57:42.421Z"
   },
   {
    "duration": 14,
    "start_time": "2023-03-15T19:57:42.448Z"
   },
   {
    "duration": 11,
    "start_time": "2023-03-15T19:57:42.463Z"
   },
   {
    "duration": 12,
    "start_time": "2023-03-15T19:57:42.476Z"
   },
   {
    "duration": 30,
    "start_time": "2023-03-15T19:57:42.490Z"
   },
   {
    "duration": 16,
    "start_time": "2023-03-15T19:57:42.522Z"
   },
   {
    "duration": 16,
    "start_time": "2023-03-15T19:57:42.540Z"
   },
   {
    "duration": 62,
    "start_time": "2023-03-15T19:58:48.377Z"
   },
   {
    "duration": 1158,
    "start_time": "2023-03-16T15:21:49.655Z"
   },
   {
    "duration": 257,
    "start_time": "2023-03-16T15:21:50.816Z"
   },
   {
    "duration": 18,
    "start_time": "2023-03-16T15:21:51.076Z"
   },
   {
    "duration": 29,
    "start_time": "2023-03-16T15:21:51.096Z"
   },
   {
    "duration": 34,
    "start_time": "2023-03-16T15:21:51.127Z"
   },
   {
    "duration": 27,
    "start_time": "2023-03-16T15:21:51.163Z"
   },
   {
    "duration": 116,
    "start_time": "2023-03-16T15:21:51.192Z"
   },
   {
    "duration": 113,
    "start_time": "2023-03-16T15:21:51.310Z"
   },
   {
    "duration": 87,
    "start_time": "2023-03-16T15:21:51.425Z"
   },
   {
    "duration": 17,
    "start_time": "2023-03-16T15:21:51.514Z"
   },
   {
    "duration": 5,
    "start_time": "2023-03-16T15:21:51.533Z"
   },
   {
    "duration": 66,
    "start_time": "2023-03-16T15:21:51.540Z"
   },
   {
    "duration": 6,
    "start_time": "2023-03-16T15:21:51.608Z"
   },
   {
    "duration": 1031,
    "start_time": "2023-03-16T15:21:51.618Z"
   },
   {
    "duration": 29,
    "start_time": "2023-03-16T15:21:52.651Z"
   },
   {
    "duration": 26,
    "start_time": "2023-03-16T15:21:52.682Z"
   },
   {
    "duration": 5,
    "start_time": "2023-03-16T15:21:52.710Z"
   },
   {
    "duration": 21,
    "start_time": "2023-03-16T15:21:52.716Z"
   },
   {
    "duration": 189,
    "start_time": "2023-03-16T15:21:52.739Z"
   },
   {
    "duration": 64,
    "start_time": "2023-03-16T15:21:52.930Z"
   },
   {
    "duration": 251,
    "start_time": "2023-03-16T15:21:52.995Z"
   },
   {
    "duration": 16,
    "start_time": "2023-03-16T15:21:53.248Z"
   },
   {
    "duration": 191,
    "start_time": "2023-03-16T15:21:53.265Z"
   },
   {
    "duration": 21,
    "start_time": "2023-03-16T15:21:53.458Z"
   },
   {
    "duration": 610,
    "start_time": "2023-03-16T15:21:53.481Z"
   },
   {
    "duration": 92,
    "start_time": "2023-03-16T15:21:54.093Z"
   },
   {
    "duration": 43,
    "start_time": "2023-03-16T15:21:54.187Z"
   },
   {
    "duration": 280,
    "start_time": "2023-03-16T15:21:54.232Z"
   },
   {
    "duration": 2,
    "start_time": "2023-03-16T15:21:54.515Z"
   },
   {
    "duration": 18,
    "start_time": "2023-03-16T15:21:54.519Z"
   },
   {
    "duration": 9,
    "start_time": "2023-03-16T15:21:54.539Z"
   },
   {
    "duration": 3,
    "start_time": "2023-03-16T15:21:54.551Z"
   },
   {
    "duration": 16,
    "start_time": "2023-03-16T15:21:54.556Z"
   },
   {
    "duration": 7,
    "start_time": "2023-03-16T15:21:54.580Z"
   },
   {
    "duration": 14,
    "start_time": "2023-03-16T15:21:54.589Z"
   },
   {
    "duration": 18,
    "start_time": "2023-03-16T15:21:54.605Z"
   },
   {
    "duration": 14,
    "start_time": "2023-03-16T15:21:54.625Z"
   },
   {
    "duration": 14,
    "start_time": "2023-03-16T15:21:54.641Z"
   }
  ],
  "kernelspec": {
   "display_name": "Python 3 (ipykernel)",
   "language": "python",
   "name": "python3"
  },
  "language_info": {
   "codemirror_mode": {
    "name": "ipython",
    "version": 3
   },
   "file_extension": ".py",
   "mimetype": "text/x-python",
   "name": "python",
   "nbconvert_exporter": "python",
   "pygments_lexer": "ipython3",
   "version": "3.9.12"
  },
  "toc": {
   "base_numbering": 1,
   "nav_menu": {},
   "number_sections": true,
   "sideBar": true,
   "skip_h1_title": true,
   "title_cell": "Table of Contents",
   "title_sidebar": "Contents",
   "toc_cell": false,
   "toc_position": {
    "height": "calc(100% - 180px)",
    "left": "10px",
    "top": "150px",
    "width": "192.273px"
   },
   "toc_section_display": true,
   "toc_window_display": true
  }
 },
 "nbformat": 4,
 "nbformat_minor": 5
}
